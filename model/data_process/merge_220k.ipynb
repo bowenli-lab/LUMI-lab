{
 "cells": [
  {
   "cell_type": "code",
   "execution_count": 1,
   "metadata": {},
   "outputs": [],
   "source": [
    "import lmdb\n",
    "import os\n",
    "import pickle\n",
    "import pandas as pd"
   ]
  },
  {
   "cell_type": "code",
   "execution_count": 2,
   "metadata": {},
   "outputs": [
    {
     "name": "stdout",
     "output_type": "stream",
     "text": [
      "processing: /home/sdl/vector_cellxgene_data/220k-lib/lmdb\n",
      "processing: /home/sdl/vector_cellxgene_data/220k-lib/lmdb/3\n",
      "processing: /home/sdl/vector_cellxgene_data/220k-lib/lmdb/0\n",
      "processing: /home/sdl/vector_cellxgene_data/220k-lib/lmdb/7\n",
      "processing: /home/sdl/vector_cellxgene_data/220k-lib/lmdb/4\n",
      "processing: /home/sdl/vector_cellxgene_data/220k-lib/lmdb/9\n",
      "processing: /home/sdl/vector_cellxgene_data/220k-lib/lmdb/2\n",
      "processing: /home/sdl/vector_cellxgene_data/220k-lib/lmdb/1\n",
      "processing: /home/sdl/vector_cellxgene_data/220k-lib/lmdb/5\n",
      "processing: /home/sdl/vector_cellxgene_data/220k-lib/lmdb/8\n",
      "processing: /home/sdl/vector_cellxgene_data/220k-lib/lmdb/6\n",
      "processing: /home/sdl/vector_cellxgene_data/220k-lib/lmdb/3; starting\n"
     ]
    },
    {
     "name": "stdout",
     "output_type": "stream",
     "text": [
      "finished: /home/sdl/vector_cellxgene_data/220k-lib/lmdb/3; items 22118\n",
      "processing: /home/sdl/vector_cellxgene_data/220k-lib/lmdb/0; starting\n",
      "finished: /home/sdl/vector_cellxgene_data/220k-lib/lmdb/0; items 22118\n",
      "processing: /home/sdl/vector_cellxgene_data/220k-lib/lmdb/7; starting\n",
      "finished: /home/sdl/vector_cellxgene_data/220k-lib/lmdb/7; items 22118\n",
      "processing: /home/sdl/vector_cellxgene_data/220k-lib/lmdb/4; starting\n",
      "finished: /home/sdl/vector_cellxgene_data/220k-lib/lmdb/4; items 22118\n",
      "processing: /home/sdl/vector_cellxgene_data/220k-lib/lmdb/9; starting\n",
      "finished: /home/sdl/vector_cellxgene_data/220k-lib/lmdb/9; items 22122\n",
      "processing: /home/sdl/vector_cellxgene_data/220k-lib/lmdb/2; starting\n",
      "finished: /home/sdl/vector_cellxgene_data/220k-lib/lmdb/2; items 22118\n",
      "processing: /home/sdl/vector_cellxgene_data/220k-lib/lmdb/1; starting\n",
      "finished: /home/sdl/vector_cellxgene_data/220k-lib/lmdb/1; items 22118\n",
      "processing: /home/sdl/vector_cellxgene_data/220k-lib/lmdb/5; starting\n",
      "finished: /home/sdl/vector_cellxgene_data/220k-lib/lmdb/5; items 22118\n",
      "processing: /home/sdl/vector_cellxgene_data/220k-lib/lmdb/8; starting\n",
      "finished: /home/sdl/vector_cellxgene_data/220k-lib/lmdb/8; items 22118\n",
      "processing: /home/sdl/vector_cellxgene_data/220k-lib/lmdb/6; starting\n",
      "finished: /home/sdl/vector_cellxgene_data/220k-lib/lmdb/6; items 22118\n",
      "Total entries written: 221184\n"
     ]
    }
   ],
   "source": [
    "def merge_lmdbs(input_dir, output_name):\n",
    "    \n",
    "    smi_lst = []\n",
    "    idx_lst = []\n",
    "    total_mappig_sheet = []\n",
    "    \n",
    "    env_new = lmdb.open(\n",
    "        output_name,\n",
    "        subdir=False,\n",
    "        readonly=False,\n",
    "        lock=False,\n",
    "        readahead=False,\n",
    "        meminit=False,\n",
    "        max_readers=1,\n",
    "        map_size=int(500e10),\n",
    "    )\n",
    "    \n",
    "    txn_write = env_new.begin(write=True)\n",
    "\n",
    "    def get_lmdb_files(directories):\n",
    "        lmdb_files = []\n",
    "        for directory in directories:\n",
    "            for root, dirs, files in os.walk(directory):\n",
    "                print(f\"processing: {root}\")\n",
    "                if any(file.endswith('.lmdb') for file in files):\n",
    "                    lmdb_files.append(root)\n",
    "        return lmdb_files\n",
    "\n",
    "    def read_and_write_data(lmdb_dirs, pop_mol=False):\n",
    "        count = 0\n",
    "        for lmdb_dir in lmdb_dirs:\n",
    "            print(f\"processing: {lmdb_dir}; starting\")\n",
    "            temp_lmdb_dir = lmdb_dir\n",
    "            temp_lmdb_file = temp_lmdb_dir + \"/test.lmdb\"\n",
    "            current_file_count = 0\n",
    "            env_read = lmdb.open(temp_lmdb_file, subdir=False, readonly=True, lock=False, readahead=False, meminit=False)\n",
    "            with env_read.begin(write=False) as txn_read:\n",
    "                for key, value in txn_read.cursor():\n",
    "                    # drop key mol\n",
    "                    value = pickle.loads(value)\n",
    "                    smi_key = value[\"smi\"]\n",
    "                    if pop_mol:\n",
    "                        value.pop('mol')\n",
    "                    # verify the coord list\n",
    "                    smi_lst.append(smi_key)\n",
    "                    idx_lst.append(count)\n",
    "                    total_mappig_sheet.append(str((smi_key, count, temp_lmdb_dir)))\n",
    "                    value = pickle.dumps(value)\n",
    "                    txn_write.put(str(count).encode(\"ascii\"), value)\n",
    "                    count += 1\n",
    "                    current_file_count += 1\n",
    "            print(f\"finished: {lmdb_dir}; items {current_file_count}\")\n",
    "        return count\n",
    "\n",
    "    lmdb_files = get_lmdb_files(input_dir)\n",
    "    total_written = read_and_write_data(lmdb_files, False)\n",
    "\n",
    "    txn_write.commit()\n",
    "    env_new.close()\n",
    "\n",
    "    print(f\"Total entries written: {total_written}\")\n",
    "    \n",
    "    # save smi and idx as txt\n",
    "    output_dir = os.path.dirname(output_name)\n",
    "    with open(output_dir + \"/smi.txt\", \"w\") as f:\n",
    "        for item in smi_lst:\n",
    "            f.write(\"%s\\n\" % item)\n",
    "    with open(output_dir + \"/idx.txt\", \"w\") as f:\n",
    "        for item in idx_lst:\n",
    "            f.write(\"%s\\n\" % item)\n",
    "    with open(output_dir + \"/total_mapping_sheet.txt\", \"w\") as f:\n",
    "        for item in total_mappig_sheet:\n",
    "            f.write(\"%s\\n\" % item)\n",
    "\n",
    "dst = \"/home/sdl/vector_cellxgene_data/220k-lib/all-lmdb/test.lmdb\"\n",
    "input_dir = [\"/home/sdl/vector_cellxgene_data/220k-lib/lmdb\"]\n",
    "\n",
    "merge_lmdbs(input_dir, dst)"
   ]
  },
  {
   "cell_type": "code",
   "execution_count": 56,
   "metadata": {},
   "outputs": [
    {
     "data": {
      "text/plain": [
       "True"
      ]
     },
     "execution_count": 56,
     "metadata": {},
     "output_type": "execute_result"
    }
   ],
   "source": [
    "# examine the merged lmdb\n",
    "def replace_repeating_backslashes(smiles):\n",
    "    # find all repeating backslashes using loop\n",
    "    for i in range(2,10):\n",
    "        smiles = smiles.replace(\"\\\\\"*i, \"\\\\\")\n",
    "    return smiles\n",
    "\n",
    "mapping_sheet_path = \"/home/sdl/vector_cellxgene_data/220k-lib/all-lmdb/total_mapping_sheet.txt\"\n",
    "smi_list = []\n",
    "with open(mapping_sheet_path, \"r\") as f:\n",
    "    lines = f.readlines()\n",
    "    smi_list = [replace_repeating_backslashes(line.split(\",\")[0][1:].strip(\"'\"))\n",
    "                for line in lines]\n",
    "    \n",
    "\n",
    "# check if deduplication is needed\n",
    "len(smi_list) == len(set(smi_list))"
   ]
  },
  {
   "cell_type": "code",
   "execution_count": 57,
   "metadata": {},
   "outputs": [
    {
     "data": {
      "text/plain": [
       "221180"
      ]
     },
     "execution_count": 57,
     "metadata": {},
     "output_type": "execute_result"
    }
   ],
   "source": [
    "len(smi_list)"
   ]
  },
  {
   "cell_type": "code",
   "execution_count": 58,
   "metadata": {},
   "outputs": [
    {
     "data": {
      "text/html": [
       "<div>\n",
       "<style scoped>\n",
       "    .dataframe tbody tr th:only-of-type {\n",
       "        vertical-align: middle;\n",
       "    }\n",
       "\n",
       "    .dataframe tbody tr th {\n",
       "        vertical-align: top;\n",
       "    }\n",
       "\n",
       "    .dataframe thead th {\n",
       "        text-align: right;\n",
       "    }\n",
       "</style>\n",
       "<table border=\"1\" class=\"dataframe\">\n",
       "  <thead>\n",
       "    <tr style=\"text-align: right;\">\n",
       "      <th></th>\n",
       "      <th>id</th>\n",
       "      <th>combined_mol_SMILES</th>\n",
       "      <th>A_smiles</th>\n",
       "      <th>B_smiles</th>\n",
       "      <th>C_smiles</th>\n",
       "      <th>D_smiles</th>\n",
       "    </tr>\n",
       "  </thead>\n",
       "  <tbody>\n",
       "    <tr>\n",
       "      <th>0</th>\n",
       "      <td>0</td>\n",
       "      <td>CCCCCC(C(=O)NC)N(CCN(C)C)C(=O)CC12C[C@H]3C[C@@...</td>\n",
       "      <td>NCCN(C)C</td>\n",
       "      <td>C[N+]#[C-]</td>\n",
       "      <td>CCCCCC=O</td>\n",
       "      <td>OC(CC(C1)(C2)C[C@@H]3C[C@H]2C[C@H]1C3)=O</td>\n",
       "    </tr>\n",
       "    <tr>\n",
       "      <th>1</th>\n",
       "      <td>1</td>\n",
       "      <td>CCCCCC(C(=O)NC)N(CCN(C)C)C(=O)C[C@@]12C[C@@H]3...</td>\n",
       "      <td>NCCN(C)C</td>\n",
       "      <td>C[N+]#[C-]</td>\n",
       "      <td>CCCCCC=O</td>\n",
       "      <td>OC(C[C@@](C1)(C2)C[C@]3(O)C[C@H]2C[C@H]1C3)=O</td>\n",
       "    </tr>\n",
       "    <tr>\n",
       "      <th>2</th>\n",
       "      <td>2</td>\n",
       "      <td>CCCCCC(C(=O)NC)N(CCN(C)C)C(=O)CCN1CCCCC1</td>\n",
       "      <td>NCCN(C)C</td>\n",
       "      <td>C[N+]#[C-]</td>\n",
       "      <td>CCCCCC=O</td>\n",
       "      <td>OC(CCN1CCCCC1)=O</td>\n",
       "    </tr>\n",
       "    <tr>\n",
       "      <th>3</th>\n",
       "      <td>3</td>\n",
       "      <td>CCCCCC(C(=O)NC)N(CCN(C)C)C(=O)CN(C)C</td>\n",
       "      <td>NCCN(C)C</td>\n",
       "      <td>C[N+]#[C-]</td>\n",
       "      <td>CCCCCC=O</td>\n",
       "      <td>CN(CC(O)=O)C</td>\n",
       "    </tr>\n",
       "    <tr>\n",
       "      <th>4</th>\n",
       "      <td>4</td>\n",
       "      <td>CCCCCC(C(=O)NC)N(CCN(C)C)C(=O)CCN(C)C</td>\n",
       "      <td>NCCN(C)C</td>\n",
       "      <td>C[N+]#[C-]</td>\n",
       "      <td>CCCCCC=O</td>\n",
       "      <td>CN(CCC(O)=O)C</td>\n",
       "    </tr>\n",
       "    <tr>\n",
       "      <th>...</th>\n",
       "      <td>...</td>\n",
       "      <td>...</td>\n",
       "      <td>...</td>\n",
       "      <td>...</td>\n",
       "      <td>...</td>\n",
       "      <td>...</td>\n",
       "    </tr>\n",
       "    <tr>\n",
       "      <th>221179</th>\n",
       "      <td>221179</td>\n",
       "      <td>CCCCC/C=C\\C/C=C\\CCCCCCCC(C(=O)NC12C[C@H]3C[C@@...</td>\n",
       "      <td>NCCCN1CCCCCC1</td>\n",
       "      <td>[C-]#[N+]C1(C[C@@H]2C3)C[C@@H]3C[C@@H](C2)C1</td>\n",
       "      <td>CCCCC/C=C\\C/C=C\\CCCCCCCC=O</td>\n",
       "      <td>CCCCCCCCC(OC(CCCCC(O)=O)=O)CCCCCCCC</td>\n",
       "    </tr>\n",
       "    <tr>\n",
       "      <th>221180</th>\n",
       "      <td>221180</td>\n",
       "      <td>CCCCC/C=C\\C/C=C\\CCCCCCCC(C(=O)NC12C[C@H]3C[C@@...</td>\n",
       "      <td>NCCCN1CCCCCC1</td>\n",
       "      <td>[C-]#[N+]C1(C[C@@H]2C3)C[C@@H]3C[C@@H](C2)C1</td>\n",
       "      <td>CCCCC/C=C\\C/C=C\\CCCCCCCC=O</td>\n",
       "      <td>CCC(CCC(OC(CCCCC(O)=O)=O)CC(C)C)CCCC</td>\n",
       "    </tr>\n",
       "    <tr>\n",
       "      <th>221181</th>\n",
       "      <td>221181</td>\n",
       "      <td>CCCCC/C=C\\C/C=C\\CCCCCCCC(C(=O)NC12C[C@H]3C[C@@...</td>\n",
       "      <td>NCCCN1CCCCCC1</td>\n",
       "      <td>[C-]#[N+]C1(C[C@@H]2C3)C[C@@H]3C[C@@H](C2)C1</td>\n",
       "      <td>CCCCC/C=C\\C/C=C\\CCCCCCCC=O</td>\n",
       "      <td>OC(CCCCC(OCCCCCCCCCC)=O)=O</td>\n",
       "    </tr>\n",
       "    <tr>\n",
       "      <th>221182</th>\n",
       "      <td>221182</td>\n",
       "      <td>CCCCC/C=C\\C/C=C\\CCCCCCCC(C(=O)NC12C[C@H]3C[C@@...</td>\n",
       "      <td>NCCCN1CCCCCC1</td>\n",
       "      <td>[C-]#[N+]C1(C[C@@H]2C3)C[C@@H]3C[C@@H](C2)C1</td>\n",
       "      <td>CCCCC/C=C\\C/C=C\\CCCCCCCC=O</td>\n",
       "      <td>OC(CCCCC(OCCCCCCCCCCC)=O)=O</td>\n",
       "    </tr>\n",
       "    <tr>\n",
       "      <th>221183</th>\n",
       "      <td>221183</td>\n",
       "      <td>C=CCCCCCCCCCOC(=O)CCCCC(=O)N(CCCN1CCCCCC1)C(CC...</td>\n",
       "      <td>NCCCN1CCCCCC1</td>\n",
       "      <td>[C-]#[N+]C1(C[C@@H]2C3)C[C@@H]3C[C@@H](C2)C1</td>\n",
       "      <td>CCCCC/C=C\\C/C=C\\CCCCCCCC=O</td>\n",
       "      <td>OC(CCCCC(OCCCCCCCCCC=C)=O)=O</td>\n",
       "    </tr>\n",
       "  </tbody>\n",
       "</table>\n",
       "<p>221184 rows × 6 columns</p>\n",
       "</div>"
      ],
      "text/plain": [
       "            id                                combined_mol_SMILES  \\\n",
       "0            0  CCCCCC(C(=O)NC)N(CCN(C)C)C(=O)CC12C[C@H]3C[C@@...   \n",
       "1            1  CCCCCC(C(=O)NC)N(CCN(C)C)C(=O)C[C@@]12C[C@@H]3...   \n",
       "2            2           CCCCCC(C(=O)NC)N(CCN(C)C)C(=O)CCN1CCCCC1   \n",
       "3            3               CCCCCC(C(=O)NC)N(CCN(C)C)C(=O)CN(C)C   \n",
       "4            4              CCCCCC(C(=O)NC)N(CCN(C)C)C(=O)CCN(C)C   \n",
       "...        ...                                                ...   \n",
       "221179  221179  CCCCC/C=C\\C/C=C\\CCCCCCCC(C(=O)NC12C[C@H]3C[C@@...   \n",
       "221180  221180  CCCCC/C=C\\C/C=C\\CCCCCCCC(C(=O)NC12C[C@H]3C[C@@...   \n",
       "221181  221181  CCCCC/C=C\\C/C=C\\CCCCCCCC(C(=O)NC12C[C@H]3C[C@@...   \n",
       "221182  221182  CCCCC/C=C\\C/C=C\\CCCCCCCC(C(=O)NC12C[C@H]3C[C@@...   \n",
       "221183  221183  C=CCCCCCCCCCOC(=O)CCCCC(=O)N(CCCN1CCCCCC1)C(CC...   \n",
       "\n",
       "             A_smiles                                      B_smiles  \\\n",
       "0            NCCN(C)C                                    C[N+]#[C-]   \n",
       "1            NCCN(C)C                                    C[N+]#[C-]   \n",
       "2            NCCN(C)C                                    C[N+]#[C-]   \n",
       "3            NCCN(C)C                                    C[N+]#[C-]   \n",
       "4            NCCN(C)C                                    C[N+]#[C-]   \n",
       "...               ...                                           ...   \n",
       "221179  NCCCN1CCCCCC1  [C-]#[N+]C1(C[C@@H]2C3)C[C@@H]3C[C@@H](C2)C1   \n",
       "221180  NCCCN1CCCCCC1  [C-]#[N+]C1(C[C@@H]2C3)C[C@@H]3C[C@@H](C2)C1   \n",
       "221181  NCCCN1CCCCCC1  [C-]#[N+]C1(C[C@@H]2C3)C[C@@H]3C[C@@H](C2)C1   \n",
       "221182  NCCCN1CCCCCC1  [C-]#[N+]C1(C[C@@H]2C3)C[C@@H]3C[C@@H](C2)C1   \n",
       "221183  NCCCN1CCCCCC1  [C-]#[N+]C1(C[C@@H]2C3)C[C@@H]3C[C@@H](C2)C1   \n",
       "\n",
       "                          C_smiles  \\\n",
       "0                         CCCCCC=O   \n",
       "1                         CCCCCC=O   \n",
       "2                         CCCCCC=O   \n",
       "3                         CCCCCC=O   \n",
       "4                         CCCCCC=O   \n",
       "...                            ...   \n",
       "221179  CCCCC/C=C\\C/C=C\\CCCCCCCC=O   \n",
       "221180  CCCCC/C=C\\C/C=C\\CCCCCCCC=O   \n",
       "221181  CCCCC/C=C\\C/C=C\\CCCCCCCC=O   \n",
       "221182  CCCCC/C=C\\C/C=C\\CCCCCCCC=O   \n",
       "221183  CCCCC/C=C\\C/C=C\\CCCCCCCC=O   \n",
       "\n",
       "                                             D_smiles  \n",
       "0            OC(CC(C1)(C2)C[C@@H]3C[C@H]2C[C@H]1C3)=O  \n",
       "1       OC(C[C@@](C1)(C2)C[C@]3(O)C[C@H]2C[C@H]1C3)=O  \n",
       "2                                    OC(CCN1CCCCC1)=O  \n",
       "3                                        CN(CC(O)=O)C  \n",
       "4                                       CN(CCC(O)=O)C  \n",
       "...                                               ...  \n",
       "221179            CCCCCCCCC(OC(CCCCC(O)=O)=O)CCCCCCCC  \n",
       "221180           CCC(CCC(OC(CCCCC(O)=O)=O)CC(C)C)CCCC  \n",
       "221181                     OC(CCCCC(OCCCCCCCCCC)=O)=O  \n",
       "221182                    OC(CCCCC(OCCCCCCCCCCC)=O)=O  \n",
       "221183                   OC(CCCCC(OCCCCCCCCCC=C)=O)=O  \n",
       "\n",
       "[221184 rows x 6 columns]"
      ]
     },
     "execution_count": 58,
     "metadata": {},
     "output_type": "execute_result"
    }
   ],
   "source": [
    "mapping_df = pd.read_csv( \"/home/sdl/SDL-LNP/model/data_process/220k_library.csv\")\n",
    "mapping_df"
   ]
  },
  {
   "cell_type": "code",
   "execution_count": 60,
   "metadata": {},
   "outputs": [
    {
     "data": {
      "text/plain": [
       "221180    CCCCC/C=C\\C/C=C\\CCCCCCCC(C(=O)NC12C[C@H]3C[C@@...\n",
       "221181    CCCCC/C=C\\C/C=C\\CCCCCCCC(C(=O)NC12C[C@H]3C[C@@...\n",
       "221182    CCCCC/C=C\\C/C=C\\CCCCCCCC(C(=O)NC12C[C@H]3C[C@@...\n",
       "221183    C=CCCCCCCCCCOC(=O)CCCCC(=O)N(CCCN1CCCCCC1)C(CC...\n",
       "Name: combined_mol_SMILES, dtype: object"
      ]
     },
     "execution_count": 60,
     "metadata": {},
     "output_type": "execute_result"
    }
   ],
   "source": [
    "# check non-overlapping smi\n",
    "mapping_df[\"combined_mol_SMILES\"][~mapping_df[\"combined_mol_SMILES\"].isin(smi_list)]"
   ]
  },
  {
   "cell_type": "code",
   "execution_count": 62,
   "metadata": {},
   "outputs": [
    {
     "data": {
      "text/plain": [
       "set()"
      ]
     },
     "execution_count": 62,
     "metadata": {},
     "output_type": "execute_result"
    }
   ],
   "source": [
    "# reverse check\n",
    "set(smi_list) - set(mapping_df[\"combined_mol_SMILES\"])"
   ]
  },
  {
   "cell_type": "code",
   "execution_count": null,
   "metadata": {},
   "outputs": [],
   "source": [
    "# read lmdb and assert the length of the lmdb"
   ]
  }
 ],
 "metadata": {
  "kernelspec": {
   "display_name": "unimol",
   "language": "python",
   "name": "python3"
  },
  "language_info": {
   "codemirror_mode": {
    "name": "ipython",
    "version": 3
   },
   "file_extension": ".py",
   "mimetype": "text/x-python",
   "name": "python",
   "nbconvert_exporter": "python",
   "pygments_lexer": "ipython3",
   "version": "3.9.13"
  }
 },
 "nbformat": 4,
 "nbformat_minor": 2
}
