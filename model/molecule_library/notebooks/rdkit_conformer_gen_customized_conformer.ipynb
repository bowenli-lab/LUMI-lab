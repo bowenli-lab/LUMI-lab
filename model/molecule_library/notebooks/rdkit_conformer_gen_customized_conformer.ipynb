{
 "cells": [
  {
   "cell_type": "code",
   "execution_count": 1,
   "metadata": {},
   "outputs": [],
   "source": [
    "import os\n",
    "import pickle\n",
    "import lmdb\n",
    "import pandas as pd\n",
    "import numpy as np\n",
    "from rdkit import Chem\n",
    "from tqdm import tqdm\n",
    "from rdkit.Chem import AllChem\n",
    "from rdkit import RDLogger\n",
    "RDLogger.DisableLog('rdApp.*')  \n",
    "import warnings\n",
    "warnings.filterwarnings(action='ignore')\n",
    "from multiprocessing import Pool\n",
    "from rdkit.Chem import rdDistGeom"
   ]
  },
  {
   "cell_type": "code",
   "execution_count": 2,
   "metadata": {},
   "outputs": [],
   "source": [
    "def print_failure_causes(counts):\n",
    "    for i,k in enumerate(rdDistGeom.EmbedFailureCauses.names):\n",
    "        print(k,counts[i])\n",
    "    # in v2022.03.1 two names are missing from `rdDistGeom.EmbedFailureCauses`:\n",
    "    print('LINEAR_DOUBLE_BOND',counts[i+1])\n",
    "    print('BAD_DOUBLE_BOND_STEREO',counts[i+2])    "
   ]
  },
  {
   "cell_type": "code",
   "execution_count": 3,
   "metadata": {},
   "outputs": [
    {
     "name": "stderr",
     "output_type": "stream",
     "text": [
      "0it [00:00, ?it/s]"
     ]
    },
    {
     "name": "stdout",
     "output_type": "stream",
     "text": [
      "success_num: 10 ; try_num: 10\n",
      "success_num: 10 ; try_num: 10\n",
      "success_num: 10 ; try_num: 10\n"
     ]
    },
    {
     "name": "stderr",
     "output_type": "stream",
     "text": [
      "1it [00:02,  2.59s/it]"
     ]
    },
    {
     "name": "stdout",
     "output_type": "stream",
     "text": [
      "success_num: 10 ; try_num: 10\n",
      "success_num: 10 ; try_num: 10\n",
      "success_num: 10 ; try_num: 10\n"
     ]
    },
    {
     "name": "stderr",
     "output_type": "stream",
     "text": [
      "2it [00:02,  1.31s/it]"
     ]
    },
    {
     "name": "stdout",
     "output_type": "stream",
     "text": [
      "success_num: 10 ; try_num: 10\n"
     ]
    },
    {
     "name": "stderr",
     "output_type": "stream",
     "text": [
      "6it [00:03,  2.11it/s]"
     ]
    },
    {
     "name": "stdout",
     "output_type": "stream",
     "text": [
      "success_num: 10 ; try_num: 10\n",
      "success_num: 10 ; try_num: 10\n",
      "success_num: 10 ; try_num: 10\n",
      "success_num: 10 ; try_num: 10\n",
      "success_num: 10 ; try_num: 10\n",
      "success_num: 10 ; try_num: 10\n",
      "success_num: 10 ; try_num: 10\n",
      "success_num: 10 ; try_num: 10\n",
      "success_num: 10 success_num:; try_num:  1010 \n",
      "; try_num: 10\n",
      "success_num: 10 ; try_num: 10\n",
      "success_num: 10 ; try_num: 10\n",
      "success_num: 10success_num:  ; try_num:10  10; try_num: \n",
      "10\n",
      "success_num: 10 ; try_num: 10\n"
     ]
    },
    {
     "name": "stderr",
     "output_type": "stream",
     "text": [
      "8it [00:07,  1.02s/it]"
     ]
    },
    {
     "name": "stdout",
     "output_type": "stream",
     "text": [
      "success_num: 10 ; try_num: 10\n",
      "success_num: 10 ; try_num: 10\n"
     ]
    },
    {
     "name": "stderr",
     "output_type": "stream",
     "text": [
      "18it [00:09,  2.54it/s]"
     ]
    },
    {
     "name": "stdout",
     "output_type": "stream",
     "text": [
      "success_num: 10 ; try_num: 10\n",
      "success_num: 10 ; try_num: 10\n",
      "success_num: 10 ; try_num: 10\n",
      "success_num: 10 ; try_num: 10\n",
      "success_num: 10 ; try_num: 10\n",
      "success_num: 10 ; try_num: 10\n",
      "success_num: 10 ; try_num: 10\n",
      "success_num: 10 ; try_num: 10\n",
      "success_num: 10 ; try_num: 10\n",
      "success_num: 10 ; try_num: 10\n",
      "success_num: 10 ; try_num: 10\n",
      "success_num: 10 ; try_num: 10\n",
      "success_num: 10 ; try_num: 10\n",
      "success_num: 10 ; try_num: 10\n",
      "success_num: 10 ; try_num: 10\n",
      "success_num: 10 ; try_num: 10\n",
      "success_num: 10 ; try_num: 10\n",
      "success_num: 10 ; try_num: 10\n",
      "success_num: 10 ; try_num: 10\n",
      "success_num: 10 ; try_num: 10\n",
      "success_num: 10 ; try_num: 10\n",
      "success_num: 10 ; try_num: 10\n"
     ]
    },
    {
     "name": "stderr",
     "output_type": "stream",
     "text": [
      "25it [00:15,  1.63it/s]"
     ]
    },
    {
     "name": "stdout",
     "output_type": "stream",
     "text": [
      "success_num: 10 ; try_num: 10\n",
      "success_num: 10 ; try_num: 10\n",
      "success_num: 10 ; try_num: 10\n",
      "success_num: 10 ; try_num: 10\n",
      "success_num: 10 ; try_num: 10\n",
      "success_num: 10 ; try_num: 10\n",
      "success_num: 10 ; try_num: 10\n"
     ]
    },
    {
     "name": "stderr",
     "output_type": "stream",
     "text": [
      "46it [00:18,  3.17it/s]"
     ]
    },
    {
     "name": "stdout",
     "output_type": "stream",
     "text": [
      "success_num: 10 ; try_num: 10\n",
      "success_num:success_num:  1010  ; try_num:; try_num:  1010\n",
      "\n",
      "success_num: 10 ; try_num: 10\n"
     ]
    },
    {
     "name": "stderr",
     "output_type": "stream",
     "text": [
      "49it [00:19,  3.24it/s]"
     ]
    },
    {
     "name": "stdout",
     "output_type": "stream",
     "text": [
      "success_num: 10 ; try_num: 10\n",
      "success_num: 10 ; try_num: 10\n"
     ]
    },
    {
     "name": "stderr",
     "output_type": "stream",
     "text": [
      "52it [00:21,  3.01it/s]"
     ]
    },
    {
     "name": "stdout",
     "output_type": "stream",
     "text": [
      "success_num: 10 ; try_num: 10\n",
      "success_num: 10 ; try_num: 10\n",
      "success_num: 10 ; try_num: 10\n",
      "success_num: 10 ; try_num: 10\n",
      "success_num: 10 ; try_num: 10\n",
      "success_num: 10 ; try_num: 10\n"
     ]
    },
    {
     "name": "stderr",
     "output_type": "stream",
     "text": [
      "54it [00:22,  2.50it/s]"
     ]
    },
    {
     "name": "stdout",
     "output_type": "stream",
     "text": [
      "success_num: 10 ; try_num: 10\n",
      "success_num: 10 ; try_num: 10\n"
     ]
    },
    {
     "name": "stderr",
     "output_type": "stream",
     "text": [
      "57it [00:23,  2.89it/s]"
     ]
    },
    {
     "name": "stdout",
     "output_type": "stream",
     "text": [
      "success_num: 10 ; try_num: 10\n"
     ]
    },
    {
     "name": "stderr",
     "output_type": "stream",
     "text": [
      "66it [00:23,  5.04it/s]"
     ]
    },
    {
     "name": "stdout",
     "output_type": "stream",
     "text": [
      "success_num: 10 ; try_num: 10\n",
      "success_num: 10 ; try_num: 10\n",
      "success_num: 10 ; try_num: 10\n",
      "success_num: 10 ; try_num: 10\n",
      "success_num: 10 ; try_num: 10\n",
      "success_num: 10 ; try_num: 10\n",
      "success_num: 10 ; try_num: 10\n",
      "success_num: 10 ; try_num: 10\n"
     ]
    },
    {
     "name": "stderr",
     "output_type": "stream",
     "text": [
      "69it [00:26,  3.02it/s]"
     ]
    },
    {
     "name": "stdout",
     "output_type": "stream",
     "text": [
      "success_num: 10 ; try_num: 10\n",
      "success_num: 10 ; try_num: 10\n",
      "success_num: 10 ; try_num: 10\n",
      "success_num: 10 ; try_num: 10\n",
      "success_num: 10 ; try_num: 10\n",
      "success_num: 10 ; try_num: 10\n",
      "success_num: 10 ; try_num: 10\n",
      "success_num: 10 ; try_num: 10\n",
      "success_num: 10 ; try_num: 10\n",
      "success_num: 10 ; try_num: 10\n"
     ]
    },
    {
     "name": "stderr",
     "output_type": "stream",
     "text": [
      "70it [00:29,  1.82it/s]"
     ]
    },
    {
     "name": "stdout",
     "output_type": "stream",
     "text": [
      "success_num: 10 ; try_num: 10\n",
      "success_num: 10 ; try_num: 10\n"
     ]
    },
    {
     "name": "stderr",
     "output_type": "stream",
     "text": [
      "80it [00:30,  3.48it/s]"
     ]
    },
    {
     "name": "stdout",
     "output_type": "stream",
     "text": [
      "success_num: 10 ; try_num: 10\n",
      "success_num: 10 ; try_num: 10\n",
      "success_num: 10 ; try_num: 10\n",
      "success_num: 10 ; try_num: 10\n",
      "success_num: 10 ; try_num: 10\n",
      "success_num: 10 ; try_num: 10\n",
      "success_num: 10 ; try_num: 10\n",
      "success_num: 10 ; try_num: 10\n",
      "success_num: 10 ; try_num: 10\n",
      "success_num: 10 ; try_num: 10\n",
      "success_num: 10 ; try_num: 10\n",
      "success_num: 10 ; try_num: 10\n",
      "success_num: 10 ; try_num: 10\n",
      "success_num: 10 ; try_num: 10\n"
     ]
    },
    {
     "name": "stderr",
     "output_type": "stream",
     "text": [
      "87it [00:34,  2.42it/s]"
     ]
    },
    {
     "name": "stdout",
     "output_type": "stream",
     "text": [
      "success_num: 10 ; try_num: 10\n"
     ]
    },
    {
     "name": "stderr",
     "output_type": "stream",
     "text": [
      "95it [00:34,  3.59it/s]"
     ]
    },
    {
     "name": "stdout",
     "output_type": "stream",
     "text": [
      "success_num: 10 ; try_num: 10\n",
      "success_num: 10 ; try_num: 10\n",
      "success_num: 10 ; try_num: 10\n",
      "success_num: 10 ; try_num: 10\n",
      "success_num: 10 ; try_num: 10\n",
      "success_num: 10 ; try_num: 10\n",
      "success_num: 10 ; try_num: 10\n",
      "success_num: 10 ; try_num: 10\n",
      "success_num: 10 ; try_num: 10\n"
     ]
    },
    {
     "name": "stderr",
     "output_type": "stream",
     "text": [
      "100it [00:37,  3.05it/s]"
     ]
    },
    {
     "name": "stdout",
     "output_type": "stream",
     "text": [
      "success_num: 10 ; try_num: 10\n",
      "success_num: 10 ; try_num: 10\n",
      "success_num: 10 ; try_num: 10\n",
      "success_num: 10 ; try_num: 10\n",
      "success_num: 10 ; try_num: 10\n"
     ]
    },
    {
     "name": "stderr",
     "output_type": "stream",
     "text": [
      "108it [00:38,  3.90it/s]"
     ]
    },
    {
     "name": "stdout",
     "output_type": "stream",
     "text": [
      "success_num: 10 ; try_num: 10\n",
      "success_num: 10 ; try_num: 10\n",
      "success_num: 10 ; try_num: 10\n",
      "success_num: 10 ; try_num: 10\n",
      "success_num: 10 ; try_num: 10\n",
      "success_num: 10 ; try_num: 11\n",
      "success_num: 10 ; try_num: 10\n",
      "success_num: 10 ; try_num: 10\n",
      "success_num: 10 ; try_num: 10\n",
      "success_num: 10 ; try_num: 12\n",
      "success_num: 10 ; try_num: 10\n",
      "success_num: 10 ; try_num: 10\n"
     ]
    },
    {
     "name": "stderr",
     "output_type": "stream",
     "text": [
      "115it [00:42,  2.74it/s]"
     ]
    },
    {
     "name": "stdout",
     "output_type": "stream",
     "text": [
      "success_num: 10 ; try_num: 10\n",
      "success_num: 10 ; try_num: 10\n",
      "success_num: 10 ; try_num: 10\n",
      "success_num: 10 ; try_num: 10\n",
      "success_num: 10 ; try_num: 10\n",
      "success_num: 10 ; try_num: 10\n"
     ]
    },
    {
     "name": "stderr",
     "output_type": "stream",
     "text": [
      "120it [00:44,  2.80it/s]"
     ]
    },
    {
     "name": "stdout",
     "output_type": "stream",
     "text": [
      "success_num: 10 ; try_num: 10\n",
      "success_num: 10 ; try_num: 10\n",
      "success_num: 10 ; try_num: 10\n",
      "success_num: 10 ; try_num: 12\n",
      "success_num: 10 ; try_num: 10\n",
      "success_num: 10 ; try_num: 12\n",
      "success_num: 10 ; try_num: 10\n",
      "success_num: 10 ; try_num: 10\n",
      "success_num: 10 ; try_num: 10\n"
     ]
    },
    {
     "name": "stderr",
     "output_type": "stream",
     "text": [
      "132it [00:48,  2.87it/s]"
     ]
    },
    {
     "name": "stdout",
     "output_type": "stream",
     "text": [
      "success_num: 10 ; try_num: 13\n",
      "success_num: 10 ; try_num: 14\n",
      "success_num: 10 ; try_num: 10\n",
      "success_num: 10 ; try_num: 10\n",
      "success_num: 10 ; try_num: 15\n",
      "success_num: 10 ; try_num: 10\n",
      "success_num: 10 ; try_num: 10\n"
     ]
    },
    {
     "name": "stderr",
     "output_type": "stream",
     "text": [
      "143it [00:50,  3.27it/s]"
     ]
    },
    {
     "name": "stdout",
     "output_type": "stream",
     "text": [
      "success_num: 10 ; try_num: 10\n",
      "success_num: 10 ; try_num: 10\n"
     ]
    },
    {
     "name": "stderr",
     "output_type": "stream",
     "text": [
      "145it [00:51,  3.45it/s]"
     ]
    },
    {
     "name": "stdout",
     "output_type": "stream",
     "text": [
      "success_num: 10 ; try_num: 10\n",
      "success_num: 10 ; try_num: 10\n",
      "success_num: 10 ; try_num: 11\n",
      "success_num: 10 ; try_num: 10\n",
      "success_num: 10 ; try_num: 10\n",
      "success_num: 10 ; try_num: 10\n",
      "success_num: 10 ; try_num: 16\n"
     ]
    },
    {
     "name": "stderr",
     "output_type": "stream",
     "text": [
      "148it [00:53,  2.61it/s]"
     ]
    },
    {
     "name": "stdout",
     "output_type": "stream",
     "text": [
      "success_num: 10 ; try_num: 10\n",
      "success_num: 10 ; try_num: 11\n",
      "success_num: 10 ; try_num: 11\n",
      "success_num: 10 ; try_num: 13\n",
      "success_num: 10 ; try_num: 10\n",
      "success_num: 10 ; try_num: 10\n"
     ]
    },
    {
     "name": "stderr",
     "output_type": "stream",
     "text": [
      "156it [00:56,  2.81it/s]"
     ]
    },
    {
     "name": "stdout",
     "output_type": "stream",
     "text": [
      "success_num: 10 ; try_num: 10\n",
      "success_num: 10 ; try_num: 10\n",
      "success_num: 10 ; try_num: 13\n",
      "success_num: 10 ; try_num: 10\n",
      "success_num: 10 ; try_num: 10\n"
     ]
    },
    {
     "name": "stderr",
     "output_type": "stream",
     "text": [
      "163it [00:57,  3.24it/s]"
     ]
    },
    {
     "name": "stdout",
     "output_type": "stream",
     "text": [
      "success_num: 10 ; try_num: 10\n",
      "success_num: 10 ; try_num: 10\n",
      "success_num: 10 ; try_num: 10\n",
      "success_num: 10 ; try_num: 10\n"
     ]
    },
    {
     "name": "stderr",
     "output_type": "stream",
     "text": [
      "165it [00:58,  2.97it/s]"
     ]
    },
    {
     "name": "stdout",
     "output_type": "stream",
     "text": [
      "success_num: 10 ; try_num: 10\n",
      "success_num: 10 ; try_num: 12\n",
      "success_num: 10 ; try_num: 10\n",
      "success_num: 10 ; try_num: 13\n",
      "success_num: 10 ; try_num: 10\n"
     ]
    },
    {
     "name": "stderr",
     "output_type": "stream",
     "text": [
      "172it [01:00,  3.18it/s]"
     ]
    },
    {
     "name": "stdout",
     "output_type": "stream",
     "text": [
      "success_num: 10 ; try_num: 12\n"
     ]
    },
    {
     "name": "stderr",
     "output_type": "stream",
     "text": [
      "180it [01:01,  4.81it/s]"
     ]
    },
    {
     "name": "stdout",
     "output_type": "stream",
     "text": [
      "success_num: 10 ; try_num: 12\n",
      "success_num: 10 ; try_num: 10\n",
      "success_num: 10 ; try_num: 10\n",
      "success_num: 10 ; try_num: 10\n",
      "success_num: 10 ; try_num: 16\n",
      "success_num: 10 ; try_num: 10\n",
      "success_num: 10 ; try_num: 11\n",
      "success_num: 10 ; try_num: 10\n",
      "success_num: 10 ; try_num: 12\n",
      "success_num: 10 ; try_num: 10\n",
      "success_num: 10 ; try_num: 11\n",
      "success_num: 10 ; try_num: 13\n",
      "success_num: 10 ; try_num: 12\n"
     ]
    },
    {
     "name": "stderr",
     "output_type": "stream",
     "text": [
      "182it [01:06,  1.91it/s]"
     ]
    },
    {
     "name": "stdout",
     "output_type": "stream",
     "text": [
      "success_num: 10 ; try_num: 16\n",
      "success_num: 10 ; try_num: 10\n",
      "success_num: 10 ; try_num: 10\n",
      "success_num: 10 ; try_num: 10\n",
      "success_num: 10 ; try_num: 16\n",
      "success_num: 10 ; try_num: 13\n",
      "success_num: 10 ; try_num: 11\n",
      "success_num: 10 ; try_num: 12\n",
      "success_num: 10 ; try_num: 10\n",
      "success_num: 10 ; try_num: 21\n"
     ]
    },
    {
     "name": "stderr",
     "output_type": "stream",
     "text": [
      "186it [01:11,  1.44it/s]"
     ]
    },
    {
     "name": "stdout",
     "output_type": "stream",
     "text": [
      "success_num: 10 ; try_num: 14\n",
      "success_num: 10 ; try_num: 12\n",
      "success_num: 10 ; try_num: 20\n",
      "success_num: 10 ; try_num: 10\n",
      "success_num: 10 ; try_num: 12\n",
      "success_num: 10 ; try_num: 13\n",
      "success_num: 10 ; try_num: 18\n",
      "success_num: 10 ; try_num: 10\n",
      "success_num: 10 ; try_num: 10\n",
      "success_num: 10 ; try_num: 16\n"
     ]
    },
    {
     "name": "stderr",
     "output_type": "stream",
     "text": [
      "202it [01:16,  2.18it/s]"
     ]
    },
    {
     "name": "stdout",
     "output_type": "stream",
     "text": [
      "success_num: 10 ; try_num: 10\n",
      "success_num: 10 ; try_num: 12\n",
      "success_num: 10 ; try_num: 11\n",
      "success_num: 10 ; try_num: 14\n",
      "success_num: 10 ; try_num: 10\n",
      "success_num: 10 ; try_num: 13\n",
      "success_num: 10 ; try_num: 11\n",
      "success_num: 10 ; try_num: 36\n",
      "success_num: 10 ; try_num: 10\n",
      "success_num: 10 ; try_num: 12\n",
      "success_num: 10 ; try_num: 14\n",
      "success_num: 10 ; try_num: 10\n",
      "success_num: 10 ; try_num: 12\n",
      "success_num: 10 ; try_num: 10\n",
      "success_num: 10 ; try_num: 10\n",
      "success_num: 10 ; try_num: 10\n",
      "failed to generate 3D coordinates for CCCCCCCCCCCCCCCCCC(=O)N(CCCCCCC\\C=C/CCCCCCCC)C(CCCN(CCCC)CCCC)C(=O)NCCN1CCOCC1 use 2D coordinates instead\n",
      "success_num: 9 ; try_num: 50\n"
     ]
    },
    {
     "name": "stderr",
     "output_type": "stream",
     "text": [
      "208it [01:22,  1.65it/s]"
     ]
    },
    {
     "name": "stdout",
     "output_type": "stream",
     "text": [
      "success_num: 10 ; try_num: 10\n"
     ]
    },
    {
     "name": "stderr",
     "output_type": "stream",
     "text": [
      "227it [01:23,  3.25it/s]"
     ]
    },
    {
     "name": "stdout",
     "output_type": "stream",
     "text": [
      "success_num: 10 ; try_num: 10\n",
      "success_num: 10 ; try_num: 10\n",
      "success_num: 10 ; try_num: 10\n"
     ]
    },
    {
     "name": "stderr",
     "output_type": "stream",
     "text": [
      "233it [01:24,  3.51it/s]"
     ]
    },
    {
     "name": "stdout",
     "output_type": "stream",
     "text": [
      "success_num: 10 ; try_num: 10\n",
      "success_num: 10 ; try_num: 10\n",
      "success_num: 10 ; try_num: 10\n",
      "success_num: 10 ; try_num: 10\n",
      "success_num: 10 ; try_num: 10\n",
      "success_num: 10 ; try_num: 10\n",
      "success_num: 10 ; try_num: 10\n",
      "success_num: 10 ; try_num: 11\n",
      "success_num: 10 ; try_num: 10\n",
      "success_num: 10 ; try_num: 10\n",
      "success_num: 10 ; try_num: 10\n",
      "success_num: 10 ; try_num: 11\n",
      "success_num: 10 ; try_num: 10\n"
     ]
    },
    {
     "name": "stderr",
     "output_type": "stream",
     "text": [
      "236it [01:28,  2.36it/s]"
     ]
    },
    {
     "name": "stdout",
     "output_type": "stream",
     "text": [
      "success_num: 10 ; try_num: 10\n",
      "success_num: 10 ; try_num: 10\n",
      "success_num: 10 ; try_num: 10\n"
     ]
    },
    {
     "name": "stderr",
     "output_type": "stream",
     "text": [
      "242it [01:29,  2.77it/s]"
     ]
    },
    {
     "name": "stdout",
     "output_type": "stream",
     "text": [
      "success_num: 10 ; try_num: 10\n",
      "success_num: 10 ; try_num: 16\n",
      "success_num: 10 ; try_num: 10\n",
      "success_num: 10 ; try_num: 10\n",
      "success_num: 10 ; try_num: 11\n",
      "success_num: 10 ; try_num: 12\n"
     ]
    },
    {
     "name": "stderr",
     "output_type": "stream",
     "text": [
      "250it [01:31,  3.34it/s]"
     ]
    },
    {
     "name": "stdout",
     "output_type": "stream",
     "text": [
      "success_num: 10 ; try_num: 10\n",
      "success_num: 10 ; try_num: 12\n"
     ]
    },
    {
     "name": "stderr",
     "output_type": "stream",
     "text": [
      "258it [01:32,  4.09it/s]"
     ]
    },
    {
     "name": "stdout",
     "output_type": "stream",
     "text": [
      "success_num: 10 ; try_num: 10\n",
      "success_num: 10 ; try_num: 10\n",
      "success_num: 10 ; try_num: 11\n",
      "success_num: 10 ; try_num: 10\n",
      "success_num: 10 ; try_num: 10\n",
      "success_num: 10 ; try_num: 14\n",
      "success_num: 10 ; try_num: 13\n",
      "success_num: 10 ; try_num: 10\n",
      "success_num: 10 ; try_num: 10\n",
      "success_num: 10 ; try_num: 10\n",
      "success_num: 10 ; try_num: 10\n",
      "success_num: 10 ; try_num: 10\n",
      "success_num: 10 ; try_num: 10\n",
      "success_num: 10 ; try_num: 17\n",
      "success_num: 10 ; try_num: 12\n",
      "success_num: 10 ; try_num: 11\n"
     ]
    },
    {
     "name": "stderr",
     "output_type": "stream",
     "text": [
      "260it [01:38,  1.82it/s]"
     ]
    },
    {
     "name": "stdout",
     "output_type": "stream",
     "text": [
      "success_num: 10 ; try_num: 10\n",
      "success_num: 10 ; try_num: 13\n"
     ]
    },
    {
     "name": "stderr",
     "output_type": "stream",
     "text": [
      "276it [01:39,  3.59it/s]"
     ]
    },
    {
     "name": "stdout",
     "output_type": "stream",
     "text": [
      "success_num: 10 ; try_num: 10\n"
     ]
    },
    {
     "name": "stderr",
     "output_type": "stream",
     "text": [
      "278it [01:39,  3.77it/s]"
     ]
    },
    {
     "name": "stdout",
     "output_type": "stream",
     "text": [
      "success_num: 10 ; try_num: 10\n",
      "success_num: 10 ; try_num: 10\n",
      "success_num: 10 ; try_num: 12\n",
      "success_num: 10 ; try_num: 10\n",
      "success_num: 10 ; try_num: 11\n",
      "success_num: 10 ; try_num: 10\n",
      "success_num: 10 ; try_num: 11\n",
      "success_num: 10 ; try_num: 10\n",
      "success_num: 10 ; try_num: 10\n"
     ]
    },
    {
     "name": "stderr",
     "output_type": "stream",
     "text": [
      "279it [01:43,  2.18it/s]"
     ]
    },
    {
     "name": "stdout",
     "output_type": "stream",
     "text": [
      "success_num: 10 ; try_num: 10\n",
      "success_num: 10 ; try_num: 10\n",
      "success_num: 10 ; try_num: 10\n",
      "success_num: 10 ; try_num: 10\n"
     ]
    },
    {
     "name": "stderr",
     "output_type": "stream",
     "text": [
      "283it [01:44,  2.24it/s]"
     ]
    },
    {
     "name": "stdout",
     "output_type": "stream",
     "text": [
      "success_num: 10 ; try_num: 10\n",
      "success_num: 10 ; try_num: 10\n",
      "success_num: 10 ; try_num: 10\n",
      "success_num: 10 ; try_num: 10\n"
     ]
    },
    {
     "name": "stderr",
     "output_type": "stream",
     "text": [
      "284it [01:45,  2.02it/s]"
     ]
    },
    {
     "name": "stdout",
     "output_type": "stream",
     "text": [
      "success_num: 10 ; try_num: 10\n",
      "success_num: 10 ; try_num: 10\n",
      "success_num: 10 ; try_num: 14\n",
      "success_num: 10 ; try_num: 10\n"
     ]
    },
    {
     "name": "stderr",
     "output_type": "stream",
     "text": [
      "296it [01:48,  3.21it/s]"
     ]
    },
    {
     "name": "stdout",
     "output_type": "stream",
     "text": [
      "success_num: 10 ; try_num: 12\n",
      "success_num: 10 ; try_num: 15\n",
      "success_num: 10 ; try_num: 10\n",
      "success_num: 10 ; try_num: 12\n",
      "success_num: 10 ; try_num: 10\n",
      "success_num: 10 ; try_num: 10\n"
     ]
    },
    {
     "name": "stderr",
     "output_type": "stream",
     "text": [
      "297it [01:50,  2.23it/s]"
     ]
    },
    {
     "name": "stdout",
     "output_type": "stream",
     "text": [
      "success_num: 10 ; try_num: 10\n",
      "success_num: 10 ; try_num: 16\n",
      "success_num: 10 ; try_num: 11\n",
      "success_num: 10 ; try_num: 10\n",
      "success_num: 10 ; try_num: 11\n",
      "success_num: 10 ; try_num: 10\n"
     ]
    },
    {
     "name": "stderr",
     "output_type": "stream",
     "text": [
      "303it [01:52,  2.39it/s]"
     ]
    },
    {
     "name": "stdout",
     "output_type": "stream",
     "text": [
      "success_num: 10 ; try_num: 10\n",
      "success_num: 10 ; try_num: 10\n"
     ]
    },
    {
     "name": "stderr",
     "output_type": "stream",
     "text": [
      "305it [01:53,  2.59it/s]"
     ]
    },
    {
     "name": "stdout",
     "output_type": "stream",
     "text": [
      "success_num: 10 ; try_num: 13\n",
      "success_num: 10 ; try_num: 10\n",
      "success_num: 10 ; try_num: 10\n"
     ]
    },
    {
     "name": "stderr",
     "output_type": "stream",
     "text": [
      "311it [01:54,  3.03it/s]"
     ]
    },
    {
     "name": "stdout",
     "output_type": "stream",
     "text": [
      "success_num: 10 ; try_num: 14\n",
      "success_num: 10 ; try_num: 10\n",
      "success_num: 10 ; try_num: 10\n",
      "success_num: 10 ; try_num: 14\n",
      "success_num: 10 ; try_num: 19\n",
      "success_num: 10 ; try_num: 15\n",
      "success_num: 10 ; try_num: 11\n"
     ]
    },
    {
     "name": "stderr",
     "output_type": "stream",
     "text": [
      "317it [01:58,  2.24it/s]"
     ]
    },
    {
     "name": "stdout",
     "output_type": "stream",
     "text": [
      "success_num: 10 ; try_num: 12\n",
      "success_num: 10 ; try_num: 16\n",
      "success_num: 10 ; try_num: 10\n"
     ]
    },
    {
     "name": "stderr",
     "output_type": "stream",
     "text": [
      "323it [01:59,  2.66it/s]"
     ]
    },
    {
     "name": "stdout",
     "output_type": "stream",
     "text": [
      "success_num: 10 ; try_num: 10\n",
      "success_num: 10 ; try_num: 10\n",
      "success_num: 10 ; try_num: 12\n",
      "success_num: 10 ; try_num: 14\n",
      "success_num: 10 ; try_num: 10\n",
      "success_num: 10 ; try_num: 12\n",
      "success_num: 10 ; try_num: 10\n",
      "success_num: 10 ; try_num: 10\n",
      "success_num: 10 ; try_num: 11\n",
      "success_num: 10 ; try_num: 10\n",
      "success_num: 10 ; try_num: 27\n",
      "success_num: 10 ; try_num: 10\n",
      "success_num: 10 ; try_num: 10\n",
      "success_num: 10 ; try_num: 10\n",
      "success_num: 10 ; try_num: 13\n",
      "success_num: 10 ; try_num: 10\n",
      "success_num: 10 ; try_num: 10\n",
      "success_num: 10 ; try_num: 40\n"
     ]
    },
    {
     "name": "stderr",
     "output_type": "stream",
     "text": [
      "326it [02:08,  1.15it/s]"
     ]
    },
    {
     "name": "stdout",
     "output_type": "stream",
     "text": [
      "success_num: 10 ; try_num: 10\n",
      "success_num: 10 ; try_num: 10\n",
      "failed to generate 3D coordinates for CCCCCCCCCCCCCCCCCC(=O)N(CCCCCOC(=O)CCCCCCCCCCC)C(CCCN(CCCC)CCCC)C(=O)NCCN1CCOCC1 use 2D coordinates instead\n",
      "success_num: 7 ; try_num: 50\n"
     ]
    },
    {
     "name": "stderr",
     "output_type": "stream",
     "text": [
      "328it [02:09,  1.24it/s]"
     ]
    },
    {
     "name": "stdout",
     "output_type": "stream",
     "text": [
      "success_num: 10 ; try_num: 10\n",
      "success_num: 10 ; try_num: 10\n",
      "success_num: 10 ; try_num: 12\n"
     ]
    },
    {
     "name": "stderr",
     "output_type": "stream",
     "text": [
      "338it [02:10,  2.37it/s]"
     ]
    },
    {
     "name": "stdout",
     "output_type": "stream",
     "text": [
      "success_num: 10 ; try_num: 10\n",
      "success_num: 10 ; try_num: 10\n",
      "success_num: 10 ; try_num: 10\n",
      "success_num: 10 ; try_num: 10\n",
      "success_num: 10 ; try_num: 11\n",
      "success_num: 10 ; try_num: 10\n",
      "success_num: 10 ; try_num: 11\n"
     ]
    },
    {
     "name": "stderr",
     "output_type": "stream",
     "text": [
      "346it [02:12,  2.73it/s]"
     ]
    },
    {
     "name": "stdout",
     "output_type": "stream",
     "text": [
      "success_num: 10 ; try_num: 10\n",
      "success_num: 10 ; try_num: 11\n",
      "success_num: 10 ; try_num: 13\n",
      "success_num: 10 ; try_num: 11\n"
     ]
    },
    {
     "name": "stderr",
     "output_type": "stream",
     "text": [
      "348it [02:14,  2.35it/s]"
     ]
    },
    {
     "name": "stdout",
     "output_type": "stream",
     "text": [
      "success_num: 10 ; try_num: 10\n",
      "success_num: 10 ; try_num: 10\n",
      "success_num: 10 ; try_num: 10\n",
      "success_num: 10 ; try_num: 10\n",
      "success_num: 10 ; try_num: 10\n",
      "success_num: 10 ; try_num: 10\n",
      "success_num: 10 ; try_num: 10\n",
      "success_num: 10 ; try_num: 10\n",
      "success_num: 10 ; try_num: 10\n",
      "success_num: 10 ; try_num: 10\n",
      "success_num: 10 ; try_num: 10\n"
     ]
    },
    {
     "name": "stderr",
     "output_type": "stream",
     "text": [
      "362it [02:19,  2.47it/s]"
     ]
    },
    {
     "name": "stdout",
     "output_type": "stream",
     "text": [
      "success_num: 10 ; try_num: 10\n",
      "success_num: 10 ; try_num: 10\n",
      "success_num: 10 ; try_num: 10\n",
      "success_num: 10 ; try_num: 10\n"
     ]
    },
    {
     "name": "stderr",
     "output_type": "stream",
     "text": [
      "364it [02:21,  2.26it/s]"
     ]
    },
    {
     "name": "stdout",
     "output_type": "stream",
     "text": [
      "success_num: 10 ; try_num: 10\n",
      "success_num: 10 ; try_num: 10\n",
      "success_num: 10 ; try_num: 10\n",
      "success_num: 10 ; try_num: 10\n",
      "success_num: 10 ; try_num: 10\n",
      "success_num: 10 ; try_num: 14\n",
      "success_num: 10 ; try_num: 10\n"
     ]
    },
    {
     "name": "stderr",
     "output_type": "stream",
     "text": [
      "372it [02:24,  2.32it/s]"
     ]
    },
    {
     "name": "stdout",
     "output_type": "stream",
     "text": [
      "success_num: 10 ; try_num: 12\n",
      "success_num: 10 ; try_num: 10\n",
      "success_num: 10 ; try_num: 13\n",
      "success_num: 10 ; try_num: 13\n",
      "success_num: 10 ; try_num: 10\n",
      "success_num: 10 ; try_num: 11\n"
     ]
    },
    {
     "name": "stderr",
     "output_type": "stream",
     "text": [
      "380it [02:26,  2.68it/s]"
     ]
    },
    {
     "name": "stdout",
     "output_type": "stream",
     "text": [
      "success_num: 10 ; try_num: 10\n",
      "success_num: 10 ; try_num: 11\n",
      "success_num: 10 ; try_num: 10\n",
      "success_num: 10 ; try_num: 10\n"
     ]
    },
    {
     "name": "stderr",
     "output_type": "stream",
     "text": [
      "387it [02:28,  2.81it/s]"
     ]
    },
    {
     "name": "stdout",
     "output_type": "stream",
     "text": [
      "success_num: 10 ; try_num: 10\n",
      "success_num: 10 ; try_num: 10\n",
      "success_num: 10 ; try_num: 11\n",
      "success_num: 10"
     ]
    },
    {
     "name": "stderr",
     "output_type": "stream",
     "text": [
      "390it [02:30,  2.64it/s]"
     ]
    },
    {
     "name": "stdout",
     "output_type": "stream",
     "text": [
      " ; try_num: 10\n",
      "success_num: 10 ; try_num: 10\n",
      "success_num: 10 ; try_num: 10\n",
      "success_num: 10 ; try_num: 13\n",
      "success_num: 10 ; try_num: 10\n"
     ]
    },
    {
     "name": "stderr",
     "output_type": "stream",
     "text": [
      "392it [02:32,  2.24it/s]"
     ]
    },
    {
     "name": "stdout",
     "output_type": "stream",
     "text": [
      "success_num: 10 ; try_num: 10\n",
      "success_num: 10 ; try_num: 10\n",
      "success_num: 10 ; try_num: 10\n",
      "success_num: 10 ; try_num: 10\n",
      "success_num: 10 ; try_num: 10\n",
      "success_num: 10 ; try_num: 10\n",
      "success_num: 10 ; try_num: 10\n",
      "success_num: 10 ; try_num: 10\n",
      "success_num: 10 ; try_num: 10\n",
      "success_num: 10 ; try_num: 10\n",
      "success_num: 10 ; try_num: 10\n",
      "success_num: 10 ; try_num: 10\n",
      "success_num: 10 ; try_num: 12\n",
      "success_num: 10 ; try_num: 10\n"
     ]
    },
    {
     "name": "stderr",
     "output_type": "stream",
     "text": [
      "402it [02:38,  1.89it/s]"
     ]
    },
    {
     "name": "stdout",
     "output_type": "stream",
     "text": [
      "success_num: 10 ; try_num: 13\n",
      "success_num: 10 ; try_num: 10\n",
      "success_num: 10 ; try_num: 12\n",
      "success_num: 10 ; try_num: 11\n",
      "success_num: 10 ; try_num: 10\n",
      "success_num: 10 ; try_num: 13\n",
      "success_num: 10 ; try_num: 10\n",
      "success_num: 10 ; try_num: 10\n",
      "success_num: 10 ; try_num: 10\n"
     ]
    },
    {
     "name": "stderr",
     "output_type": "stream",
     "text": [
      "408it [02:42,  1.77it/s]"
     ]
    },
    {
     "name": "stdout",
     "output_type": "stream",
     "text": [
      "success_num: 10 ; try_num: 10\n",
      "success_num: 10 ; try_num: 10\n",
      "success_num: 10 ; try_num: 17\n"
     ]
    },
    {
     "name": "stderr",
     "output_type": "stream",
     "text": [
      "424it [02:43,  3.21it/s]"
     ]
    },
    {
     "name": "stdout",
     "output_type": "stream",
     "text": [
      "success_num: 10 ; try_num: 10\n",
      "success_num: 10 ; try_num: 16\n"
     ]
    },
    {
     "name": "stderr",
     "output_type": "stream",
     "text": [
      "426it [02:45,  2.86it/s]"
     ]
    },
    {
     "name": "stdout",
     "output_type": "stream",
     "text": [
      "success_num: 10 ; try_num: 10\n",
      "success_num: 10 ; try_num: 10\n",
      "success_num: 10 ; try_num: 10\n"
     ]
    },
    {
     "name": "stderr",
     "output_type": "stream",
     "text": [
      "427it [02:46,  2.57it/s]"
     ]
    },
    {
     "name": "stdout",
     "output_type": "stream",
     "text": [
      "success_num: 10 ; try_num: 10\n",
      "success_num: 10 ; try_num: 10\n",
      "success_num: 10 ; try_num: 10\n"
     ]
    },
    {
     "name": "stderr",
     "output_type": "stream",
     "text": [
      "429it [02:48,  2.13it/s]"
     ]
    },
    {
     "name": "stdout",
     "output_type": "stream",
     "text": [
      "success_num: 10 ; try_num: 16\n"
     ]
    },
    {
     "name": "stderr",
     "output_type": "stream",
     "text": [
      "434it [02:49,  2.69it/s]"
     ]
    },
    {
     "name": "stdout",
     "output_type": "stream",
     "text": [
      "success_num: 10 ; try_num: 10\n",
      "success_num: 10 ; try_num: 11\n",
      "success_num: 10 ; try_num: 10\n"
     ]
    },
    {
     "name": "stderr",
     "output_type": "stream",
     "text": [
      "435it [02:50,  2.20it/s]"
     ]
    },
    {
     "name": "stdout",
     "output_type": "stream",
     "text": [
      "success_num: 10 ; try_num: 17\n",
      "success_num: 10 ; try_num: 11\n",
      "success_num: 10 ; try_num: 16\n",
      "success_num: 10 ; try_num: 10\n",
      "success_num: 10 ; try_num: 10\n",
      "success_num: 10 ; try_num: 10\n",
      "success_num: 10 ; try_num: 17\n",
      "success_num: 10 ; try_num: 10\n",
      "success_num: 10 ; try_num: 17\n",
      "success_num: 10 ; try_num: 11\n",
      "success_num: 10 ; try_num: 10\n",
      "success_num: 10 ; try_num: 13\n",
      "success_num: 10 ; try_num: 10\n",
      "success_num: 10 ; try_num: 10\n",
      "success_num: 10 ; try_num: 11\n",
      "success_num: 10 ; try_num: 10\n",
      "success_num: 10 ; try_num: 11\n",
      "success_num: 10 ; try_num: 28\n"
     ]
    },
    {
     "name": "stderr",
     "output_type": "stream",
     "text": [
      "436it [03:01,  1.65s/it]"
     ]
    },
    {
     "name": "stdout",
     "output_type": "stream",
     "text": [
      "success_num: 10 ; try_num: 10\n",
      "success_num: 10 ; try_num: 13\n",
      "success_num: 10 ; try_num: 10\n",
      "success_num: 10 ; try_num: 11\n",
      "success_num: 10 ; try_num: 10\n",
      "success_num: 10 ; try_num: 14\n",
      "success_num: 10 ; try_num: 10\n",
      "success_num: 10 ; try_num: 10\n",
      "success_num: 10 ; try_num: 10\n",
      "success_num: 10 ; try_num: 10\n",
      "success_num: 10 ; try_num: 10\n",
      "success_num: 10 ; try_num: 10\n",
      "success_num: 10 ; try_num: 48\n"
     ]
    },
    {
     "name": "stderr",
     "output_type": "stream",
     "text": [
      "446it [03:06,  1.05it/s]"
     ]
    },
    {
     "name": "stdout",
     "output_type": "stream",
     "text": [
      "success_num: 10 ; try_num: 10\n",
      "success_num: 10 ; try_num: 10\n",
      "success_num: 10 ; try_num: 10\n",
      "success_num: 10 ; try_num: 10\n",
      "success_num: 10 ; try_num: 10\n",
      "success_num: 10 ; try_num: 10\n",
      "success_num: 10 ; try_num: 10\n",
      "success_num: 10 ; try_num: 10\n",
      "success_num: 10 ; try_num: 10\n",
      "success_num: 10 ; try_num: 10\n",
      "success_num: 10 ; try_num: 10\n",
      "success_num: 10 ; try_num: 10\n",
      "success_num: 10 ; try_num: 10\n",
      "success_num: 10 ; try_num: 10\n",
      "success_num: 10 ; try_num: 10\n",
      "success_num: 10 ; try_num: 10\n",
      "success_num: 10 ; try_num: 10\n",
      "success_num: 10 ; try_num: 10\n",
      "success_num: 10 ; try_num: 10\n",
      "success_num: 10 ; try_num: 10\n",
      "success_num: 10 ; try_num: 10\n",
      "success_num: 10 ; try_num: 10\n",
      "success_num: 10 ; try_num: 10\n",
      "success_num: 10 ; try_num: 10\n",
      "success_num: 10 ; try_num: 10\n",
      "success_num: 10 ; try_num: 10\n",
      "success_num: 10 ; try_num: 10\n",
      "success_num: 10 ; try_num: 10\n",
      "success_num: 10 success_num:; try_num:  1010 \n",
      "; try_num: 10\n",
      "success_num: 10 ; try_num: 10\n",
      "success_num: 10 ; try_num: 10\n",
      "success_num: 10 ; try_num: 10\n",
      "success_num: 10 ; try_num: 10\n",
      "success_num: 10 ; try_num: 10\n",
      "success_num: 10 ; try_num: 10\n",
      "success_num: 10 ; try_num: 10\n",
      "success_num: 10 ; try_num: 10\n",
      "success_num: 10 ; try_num: 10\n",
      "success_num: 10 ; try_num: 10\n",
      "success_num: 10 ; try_num: 10\n",
      "success_num: 10 ; try_num: 10\n",
      "success_num: 10 ; try_num: 10\n",
      "success_num: 10 ; try_num: 10\n",
      "success_num: 10 ; try_num: 10\n",
      "success_num: 10 ; try_num: 10\n",
      "success_num: 10 ; try_num: 10\n",
      "success_num: 10 ; try_num: 10\n",
      "success_num: 10 ; try_num: 10\n",
      "success_num: 10 ; try_num: 10\n",
      "success_num: 10 ; try_num: 10\n",
      "failed to generate 3D coordinates for CCCCCCCCCCCCCCCCCC(=O)N(CCCCCOC(=O)C(CCCCCC)CCCCCCCC)C(CCCN(CCCC)CCCC)C(=O)NCCN1CCOCC1 use 2D coordinates instead\n",
      "success_num: 10 ; try_num: 10\n",
      "success_num: 5 ; try_num: 50\n",
      "success_num: 10"
     ]
    },
    {
     "name": "stderr",
     "output_type": "stream",
     "text": [
      "448it [03:24,  2.18s/it]"
     ]
    },
    {
     "name": "stdout",
     "output_type": "stream",
     "text": [
      " ; try_num: 10\n",
      "success_num: 10 ; try_num: 10\n",
      "success_num: 10 ; try_num: 10\n",
      "success_num: 10 ; try_num: 10\n",
      "success_num: 10 ; try_num: 10\n",
      "success_num: 10 ; try_num: 10\n",
      "success_num: 10 ; try_num: 10\n",
      "success_num: 10 ; try_num: 10\n",
      "success_num: 10 ; try_num: 10\n",
      "success_num: 10 ; try_num: 10\n",
      "success_num: 10 ; try_num: 10\n",
      "success_num: 10 ; try_num: 10\n",
      "success_num: 10 ; try_num: 10\n",
      "success_num: 10 ; try_num: 10\n",
      "success_num: 10 ; try_num: 10\n",
      "success_num: 10 ; try_num: 10\n",
      "success_num: 10 ; try_num: 46\n"
     ]
    },
    {
     "name": "stderr",
     "output_type": "stream",
     "text": [
      "450it [03:29,  2.19s/it]"
     ]
    },
    {
     "name": "stdout",
     "output_type": "stream",
     "text": [
      "success_num: 10 ; try_num: 10\n",
      "success_num: 10 ; try_num: 10\n",
      "success_num: 10 ; try_num: 10\n",
      "success_num: 10 ; try_num: 10\n",
      "success_num: 10 ; try_num: 10\n",
      "success_num: 10 ; try_num: 10\n",
      "success_num: 10 ; try_num: 10\n",
      "success_num: 10 ; try_num: 10\n",
      "success_num: 10 ; try_num: 10\n",
      "success_num: 10 ; try_num: 10\n"
     ]
    },
    {
     "name": "stderr",
     "output_type": "stream",
     "text": [
      "539it [03:32,  4.78it/s]"
     ]
    },
    {
     "name": "stdout",
     "output_type": "stream",
     "text": [
      "success_num: 10 ; try_num: 10\n",
      "success_num: 10 ; try_num: 10\n"
     ]
    },
    {
     "name": "stderr",
     "output_type": "stream",
     "text": [
      "541it [03:32,  4.72it/s]"
     ]
    },
    {
     "name": "stdout",
     "output_type": "stream",
     "text": [
      "success_num: 10 ; try_num: 10\n",
      "success_num: 10 ; try_num: 10\n",
      "success_num: 10 ; try_num: 10\n",
      "success_num: 10 ; try_num: 10\n",
      "success_num: 10 ; try_num: 10\n",
      "success_num: 10 ; try_num: 10\n",
      "success_num: 10 ; try_num: 10\n",
      "success_num: 10 ; try_num: 10\n",
      "success_num: 10 ; try_num: 10\n",
      "success_num: 10 ; try_num: 10\n",
      "success_num: 10 ; try_num: 10\n",
      "success_num: 10 ; try_num: 10\n",
      "success_num: 10 ; try_num: 10\n",
      "success_num: 10 ; try_num: 10\n",
      "success_num: 10 ; try_num: 10\n",
      "success_num: 10 ; try_num: 10\n",
      "success_num: 10 ; try_num: 10\n",
      "success_num: 10 ; try_num: 10\n",
      "success_num: 10 ; try_num: 10\n",
      "success_num: 10 ; try_num: 10\n",
      "success_num: 10 ; try_num: 10\n"
     ]
    },
    {
     "name": "stderr",
     "output_type": "stream",
     "text": [
      "552it [03:39,  3.59it/s]"
     ]
    },
    {
     "name": "stdout",
     "output_type": "stream",
     "text": [
      "success_num: 10 ; try_num: 10\n",
      "success_num: 10 ; try_num: 10\n",
      "success_num: 10 ; try_num: 10\n",
      "success_num: 10 ; try_num: 10\n",
      "success_num: 10 ; try_num: 10\n"
     ]
    },
    {
     "name": "stderr",
     "output_type": "stream",
     "text": [
      "572it [03:40,  4.80it/s]"
     ]
    },
    {
     "name": "stdout",
     "output_type": "stream",
     "text": [
      "success_num: 10 ; try_num: 10\n",
      "success_num: 10 ; try_num: 10\n",
      "success_num: 10 ; try_num: 10\n",
      "success_num: 10 ; try_num: 10\n",
      "success_num: 10 ; try_num: 10\n",
      "success_num: 10 ; try_num: 10\n",
      "success_num: 10 ; try_num: 10\n",
      "success_num: 10 ; try_num: 10\n",
      "success_num: 10 ; try_num: 10\n",
      "success_num: 10 ; try_num: 10\n",
      "success_num: 10 ; try_num: 10\n",
      "success_num: 10 ; try_num: 10\n",
      "success_num: 10 ; try_num: 10\n",
      "success_num: 10 ; try_num: 10\n",
      "success_num: 10 ; try_num: 10\n"
     ]
    },
    {
     "name": "stderr",
     "output_type": "stream",
     "text": [
      "576it [03:44,  3.57it/s]"
     ]
    },
    {
     "name": "stdout",
     "output_type": "stream",
     "text": [
      "success_num: 10 ; try_num: 10\n",
      "success_num: 10 ; try_num: 10\n",
      "success_num: 10 ; try_num: 10\n"
     ]
    },
    {
     "name": "stderr",
     "output_type": "stream",
     "text": [
      "585it [03:45,  4.08it/s]"
     ]
    },
    {
     "name": "stdout",
     "output_type": "stream",
     "text": [
      "success_num: 10 ; try_num: 10\n",
      "success_num: 10 ; try_num: 10\n",
      "success_num: 10 ; try_num: 10\n",
      "success_num: 10 ; try_num: 10\n"
     ]
    },
    {
     "name": "stderr",
     "output_type": "stream",
     "text": [
      "596it [03:47,  4.54it/s]"
     ]
    },
    {
     "name": "stdout",
     "output_type": "stream",
     "text": [
      "success_num: 10 ; try_num: 10\n",
      "success_num: 10 ; try_num: 10\n",
      "success_num: 10 ; try_num: 10\n",
      "success_num: 10 ; try_num: 10\n",
      "success_num: 10 ; try_num: 10\n"
     ]
    },
    {
     "name": "stderr",
     "output_type": "stream",
     "text": [
      "597it [03:49,  3.65it/s]"
     ]
    },
    {
     "name": "stdout",
     "output_type": "stream",
     "text": [
      "success_num: 10 ; try_num: 10\n",
      "success_num: 10 ; try_num: 11\n",
      "success_num: 10 ; try_num: 10\n",
      "success_num: 10 ; try_num: 10\n",
      "success_num: 10 ; try_num: 10\n"
     ]
    },
    {
     "name": "stderr",
     "output_type": "stream",
     "text": [
      "600it [03:50,  3.22it/s]"
     ]
    },
    {
     "name": "stdout",
     "output_type": "stream",
     "text": [
      "success_num: 10 ; try_num: 10\n",
      "success_num: 10 ; try_num: 10\n"
     ]
    },
    {
     "name": "stderr",
     "output_type": "stream",
     "text": [
      "602it [03:51,  3.35it/s]"
     ]
    },
    {
     "name": "stdout",
     "output_type": "stream",
     "text": [
      "success_num: 10 ; try_num: 10\n",
      "success_num: 10 ; try_num: 10\n",
      "success_num: 10 ; try_num: 10\n",
      "success_num: 10 ; try_num: success_num:10 \n",
      "10 ; try_num: 10\n"
     ]
    },
    {
     "name": "stderr",
     "output_type": "stream",
     "text": [
      "608it [03:52,  3.49it/s]"
     ]
    },
    {
     "name": "stdout",
     "output_type": "stream",
     "text": [
      "success_num: 10 ; try_num: 10\n",
      "success_num: 10 ; try_num: 10\n",
      "success_num: 10 ; try_num: 10\n",
      "success_num: 10 ; try_num: 10\n",
      "success_num: 10 ; try_num: 12\n",
      "success_num: 10 ; try_num: 12\n",
      "success_num: 10 ; try_num: 11\n",
      "success_num: 10 ; try_num: 10\n",
      "success_num: 10 ; try_num: 10\n"
     ]
    },
    {
     "name": "stderr",
     "output_type": "stream",
     "text": [
      "617it [03:56,  3.02it/s]"
     ]
    },
    {
     "name": "stdout",
     "output_type": "stream",
     "text": [
      "success_num: 10 ; try_num: 10\n",
      "success_num: 10 ; try_num: 10\n",
      "success_num: 10 ; try_num: 12\n",
      "success_num: 10 ; try_num: 10\n",
      "success_num: 10 ; try_num: 10\n",
      "success_num: 10 ; try_num: 10\n",
      "success_num: 10 ; try_num: 10\n",
      "success_num: 10 ; try_num: 10\n",
      "success_num: 10 ; try_num: 10\n",
      "success_num: 10 ; try_num: 10\n",
      "success_num: 10 ; try_num: 10\n",
      "success_num: 10 ; try_num: 10\n",
      "success_num: 10 ; try_num: 10\n",
      "success_num: 10 ; try_num: 11\n",
      "success_num: 10 ; try_num: 10\n",
      "success_num: 10 ; try_num: 12\n"
     ]
    },
    {
     "name": "stderr",
     "output_type": "stream",
     "text": [
      "624it [04:01,  2.19it/s]"
     ]
    },
    {
     "name": "stdout",
     "output_type": "stream",
     "text": [
      "success_num: 10 ; try_num: 11\n",
      "success_num: 10 ; try_num: 10\n",
      "success_num: 10 ; try_num: 11\n",
      "success_num: 10 ; try_num: 10\n",
      "success_num: 10 ; try_num: 10\n",
      "success_num: 10 ; try_num: 10\n",
      "success_num: 10 ; try_num: 10\n",
      "success_num: 10 ; try_num: 10\n",
      "success_num: 10 ; try_num: 10\n"
     ]
    },
    {
     "name": "stderr",
     "output_type": "stream",
     "text": [
      "638it [04:04,  2.95it/s]"
     ]
    },
    {
     "name": "stdout",
     "output_type": "stream",
     "text": [
      "success_num: 10 ; try_num: 10\n",
      "success_num: 10 ; try_num: 10\n",
      "success_num: 10 ; try_num: 11\n",
      "success_num: 10 ; try_num: 10\n",
      "success_num: 10 ; try_num: 10\n"
     ]
    },
    {
     "name": "stderr",
     "output_type": "stream",
     "text": [
      "644it [04:06,  3.09it/s]"
     ]
    },
    {
     "name": "stdout",
     "output_type": "stream",
     "text": [
      "success_num: 10 ; try_num: 10\n",
      "success_num: 10 ; try_num: 10\n",
      "success_num: 10 ; try_num: 12\n",
      "success_num: 10 ; try_num: 10\n",
      "success_num: 10 ; try_num: 13\n",
      "success_num: 10 ; try_num: 10\n",
      "success_num: 10 ; try_num: 12\n"
     ]
    },
    {
     "name": "stderr",
     "output_type": "stream",
     "text": [
      "648it [04:08,  2.57it/s]"
     ]
    },
    {
     "name": "stdout",
     "output_type": "stream",
     "text": [
      "success_num: 10 ; try_num: 10\n",
      "success_num: 10 ; try_num: 10\n"
     ]
    },
    {
     "name": "stderr",
     "output_type": "stream",
     "text": [
      "663it [04:09,  4.47it/s]"
     ]
    },
    {
     "name": "stdout",
     "output_type": "stream",
     "text": [
      "success_num: 10 ; try_num: 18\n"
     ]
    },
    {
     "name": "stderr",
     "output_type": "stream",
     "text": [
      "664it [04:10,  4.23it/s]"
     ]
    },
    {
     "name": "stdout",
     "output_type": "stream",
     "text": [
      "success_num: 10 ; try_num: 10\n",
      "success_num: 10 ; try_num: 10\n",
      "success_num: 10 ; try_num: 13\n"
     ]
    },
    {
     "name": "stderr",
     "output_type": "stream",
     "text": [
      "666it [04:10,  4.29it/s]"
     ]
    },
    {
     "name": "stdout",
     "output_type": "stream",
     "text": [
      "success_num: 10 ; try_num: 10\n",
      "success_num: 10 ; try_num: 10\n",
      "success_num: 10 ; try_num: 10\n",
      "success_num: 10 ; try_num: 10\n",
      "success_num: 10 ; try_num: 10\n",
      "success_num: 10 ; try_num: 10\n"
     ]
    },
    {
     "name": "stderr",
     "output_type": "stream",
     "text": [
      "668it [04:13,  2.31it/s]"
     ]
    },
    {
     "name": "stdout",
     "output_type": "stream",
     "text": [
      "success_num: 10 ; try_num: 19\n",
      "success_num: 10 ; try_num: 13\n",
      "success_num: 10 ; try_num: 10\n",
      "success_num: 10 ; try_num: 13\n",
      "success_num: 10 ; try_num: 10\n",
      "success_num: 10 ; try_num: 20\n",
      "success_num: 10 ; try_num: 11\n"
     ]
    },
    {
     "name": "stderr",
     "output_type": "stream",
     "text": [
      "672it [04:16,  1.89it/s]"
     ]
    },
    {
     "name": "stdout",
     "output_type": "stream",
     "text": [
      "success_num: 10 ; try_num: 12\n",
      "success_num: 10 ; try_num: 10\n"
     ]
    },
    {
     "name": "stderr",
     "output_type": "stream",
     "text": [
      "679it [04:17,  2.85it/s]"
     ]
    },
    {
     "name": "stdout",
     "output_type": "stream",
     "text": [
      "success_num: 10 ; try_num: 14\n"
     ]
    },
    {
     "name": "stderr",
     "output_type": "stream",
     "text": [
      "685it [04:17,  4.06it/s]"
     ]
    },
    {
     "name": "stdout",
     "output_type": "stream",
     "text": [
      "success_num: 10 ; try_num: 10\n",
      "success_num: 10 ; try_num: 10\n",
      "success_num: 10 ; try_num: 10\n",
      "success_num: 10 ; try_num: 10\n",
      "success_num: 10 ; try_num: 10\n",
      "success_num: 10 ; try_num: 10\n",
      "success_num: 10 ; try_num: 23\n",
      "success_num: 10 ; try_num: 18\n",
      "success_num: 10 ; try_num: 12\n",
      "success_num: 10 ; try_num: 10\n",
      "success_num: 10 ; try_num: 11\n",
      "success_num: 10 ; try_num: 28\n",
      "success_num: 10 ; try_num: 13\n",
      "success_num: 10 ; try_num: 15\n"
     ]
    },
    {
     "name": "stderr",
     "output_type": "stream",
     "text": [
      "687it [04:24,  1.57it/s]"
     ]
    },
    {
     "name": "stdout",
     "output_type": "stream",
     "text": [
      "success_num: 10 ; try_num: 10\n",
      "success_num: 10 ; try_num: 10\n"
     ]
    },
    {
     "name": "stderr",
     "output_type": "stream",
     "text": [
      "694it [04:24,  2.43it/s]"
     ]
    },
    {
     "name": "stdout",
     "output_type": "stream",
     "text": [
      "success_num: 10 ; try_num: 10\n",
      "success_num: 10 ; try_num: 10\n",
      "success_num: 10 ; try_num: 11\n",
      "success_num: 10 ; try_num: 13\n",
      "success_num: 10 ; try_num: 10\n",
      "success_num: 10 ; try_num: 10\n",
      "success_num:success_num:  1010 ; try_num:  10; try_num:\n",
      " 12\n",
      "success_num: 10 ; try_num: 10\n",
      "success_num: 10 ; try_num: 10\n",
      "success_num: 10 ; try_num: 12\n"
     ]
    },
    {
     "name": "stderr",
     "output_type": "stream",
     "text": [
      "696it [04:28,  1.59it/s]"
     ]
    },
    {
     "name": "stdout",
     "output_type": "stream",
     "text": [
      "success_num: 10 ; try_num: 10\n",
      "success_num: 10 ; try_num: 10\n"
     ]
    },
    {
     "name": "stderr",
     "output_type": "stream",
     "text": [
      "705it [04:28,  2.85it/s]"
     ]
    },
    {
     "name": "stdout",
     "output_type": "stream",
     "text": [
      "success_num: 10 ; try_num: 10\n",
      "success_num: 10 ; try_num: 10\n",
      "success_num: 10 ; try_num: 10\n",
      "success_num: 10 ; try_num: 10\n",
      "success_num: 10 ; try_num: 10\n"
     ]
    },
    {
     "name": "stderr",
     "output_type": "stream",
     "text": [
      "710it [04:30,  2.87it/s]"
     ]
    },
    {
     "name": "stdout",
     "output_type": "stream",
     "text": [
      "success_num: 10 ; try_num: 10\n",
      "success_num: 10 ; try_num: 10\n",
      "success_num: 10 ; try_num: 10\n"
     ]
    },
    {
     "name": "stderr",
     "output_type": "stream",
     "text": [
      "713it [04:31,  2.97it/s]"
     ]
    },
    {
     "name": "stdout",
     "output_type": "stream",
     "text": [
      "success_num: 10 ; try_num: 10\n",
      "success_num: 10 ; try_num: 10\n",
      "success_num: 10 ; try_num: 10\n",
      "success_num: 10 ; try_num: 10\n",
      "success_num: 10 ; try_num: 10\n",
      "success_num: 10 ; try_num: 10\n"
     ]
    },
    {
     "name": "stderr",
     "output_type": "stream",
     "text": [
      "721it [04:33,  3.25it/s]"
     ]
    },
    {
     "name": "stdout",
     "output_type": "stream",
     "text": [
      "success_num: 10 ; try_num: 12\n",
      "success_num: 10 ; try_num: 10\n",
      "success_num: 10 ; try_num: 10\n",
      "success_num: 10 ; try_num: 10\n",
      "success_num: 10 ; try_num: 10\n",
      "success_num: 10 ; try_num: 10\n",
      "success_num: 10 ; try_num: 10\n"
     ]
    },
    {
     "name": "stderr",
     "output_type": "stream",
     "text": [
      "724it [04:35,  2.68it/s]"
     ]
    },
    {
     "name": "stdout",
     "output_type": "stream",
     "text": [
      "success_num: 10 ; try_num: 10\n",
      "success_num: 10 ; try_num: 12\n",
      "success_num: 10 ; try_num: 10\n",
      "success_num: 10 ; try_num: 10\n",
      "success_num: 10 ; try_num: 10\n",
      "success_num: 10 ; try_num: 10\n",
      "success_num: 10 ; try_num: 13\n",
      "success_num: 10 ; try_num: 12\n",
      "success_num: 10 ; try_num: 10\n",
      "success_num: 10 ; try_num: 10\n",
      "success_num: 10 ; try_num: 15\n",
      "success_num: 10 ; try_num:success_num:  1310 \n",
      "; try_num: 10\n"
     ]
    },
    {
     "name": "stderr",
     "output_type": "stream",
     "text": [
      "732it [04:40,  2.07it/s]"
     ]
    },
    {
     "name": "stdout",
     "output_type": "stream",
     "text": [
      "success_num: 10 ; try_num: 11\n",
      "success_num: 10 ; try_num: 10\n",
      "success_num: 10 ; try_num: 10\n",
      "success_num: 10 ; try_num: 12\n",
      "success_num: 10 ; try_num: 10\n",
      "success_num: 10 ; try_num: 10\n",
      "success_num: 10 ; try_num: 10\n",
      "success_num: 10 ; try_num: 10\n"
     ]
    },
    {
     "name": "stderr",
     "output_type": "stream",
     "text": [
      "740it [04:43,  2.42it/s]"
     ]
    },
    {
     "name": "stdout",
     "output_type": "stream",
     "text": [
      "success_num: 10 ; try_num: 10\n",
      "success_num: 10 ; try_num: 10\n",
      "success_num: 10 ; try_num: 10\n",
      "success_num: 10 ; try_num: 10\n",
      "success_num: 10 ; try_num: 10\n",
      "success_num: 10 ; try_num: 10\n",
      "success_num: 10 ; try_num: 10\n",
      "success_num: 10 ; try_num: 11\n",
      "success_num: 10 ; try_num: 10\n",
      "success_num: 10 ; try_num: 10\n"
     ]
    },
    {
     "name": "stderr",
     "output_type": "stream",
     "text": [
      "757it [04:47,  3.15it/s]"
     ]
    },
    {
     "name": "stdout",
     "output_type": "stream",
     "text": [
      "success_num: 10 ; try_num: 10\n",
      "success_num: 10 ; try_num: 10\n",
      "success_num: 10 ; try_num: 12\n",
      "success_num: 10 ; try_num: 10\n",
      "success_num: 10 ; try_num: 10\n",
      "success_num: 10 ; try_num: 10\n",
      "success_num: 10 ; try_num: 11\n"
     ]
    },
    {
     "name": "stderr",
     "output_type": "stream",
     "text": [
      "760it [04:49,  2.80it/s]"
     ]
    },
    {
     "name": "stdout",
     "output_type": "stream",
     "text": [
      "success_num: 10 ; try_num: 10\n"
     ]
    },
    {
     "name": "stderr",
     "output_type": "stream",
     "text": [
      "764it [04:49,  3.32it/s]"
     ]
    },
    {
     "name": "stdout",
     "output_type": "stream",
     "text": [
      "success_num: 10 ; try_num: 10\n",
      "success_num: 10 ; try_num: 10\n",
      "success_num: 10 ; try_num: 10\n",
      "success_num: 10 ; try_num: 14\n",
      "success_num: 10 ; try_num: 11\n",
      "success_num: 10 ; try_num: 11\n",
      "success_num: 10 ; try_num: 11\n",
      "success_num: 10 ; try_num: 12\n",
      "success_num: 10 ; try_num: 10\n"
     ]
    },
    {
     "name": "stderr",
     "output_type": "stream",
     "text": [
      "775it [04:53,  2.99it/s]"
     ]
    },
    {
     "name": "stdout",
     "output_type": "stream",
     "text": [
      "success_num: 10 ; try_num: 10\n",
      "success_num: 10 ; try_num: 10\n",
      "success_num: 10 ; try_num: 13\n",
      "success_num: 10 ; try_num: 10\n",
      "success_num: 10 ; try_num: 10\n",
      "success_num: 10 ; try_num: 10\n",
      "success_num: 10 ; try_num: 10\n",
      "success_num: 10 ; try_num: 10\n",
      "success_num: 10 ; try_num: 10\n"
     ]
    },
    {
     "name": "stderr",
     "output_type": "stream",
     "text": [
      "785it [04:55,  3.37it/s]"
     ]
    },
    {
     "name": "stdout",
     "output_type": "stream",
     "text": [
      "success_num: 10 ; try_num: 10\n"
     ]
    },
    {
     "name": "stderr",
     "output_type": "stream",
     "text": [
      "790it [04:56,  3.80it/s]"
     ]
    },
    {
     "name": "stdout",
     "output_type": "stream",
     "text": [
      "success_num: 10 ; try_num: 10\n",
      "success_num: 10 ; try_num: 13\n",
      "success_num: 10 ; try_num: 10\n",
      "success_num: 10 ; try_num: 10\n",
      "success_num: 10 ; try_num: 10\n",
      "success_num: 10 ; try_num: 12\n",
      "success_num: 10 ; try_num: 16\n",
      "success_num: 10 ; try_num: 11\n",
      "success_num: 10 ; try_num: 10\n",
      "success_num: 10 ; try_num: 14\n",
      "success_num: 10 ; try_num: 13\n",
      "success_num: 10 ; try_num: 14\n",
      "success_num: 10 ; try_num: 10\n",
      "success_num: 10 ; try_num: 11\n"
     ]
    },
    {
     "name": "stderr",
     "output_type": "stream",
     "text": [
      "794it [05:03,  1.91it/s]"
     ]
    },
    {
     "name": "stdout",
     "output_type": "stream",
     "text": [
      "success_num: 10 ; try_num: 16\n",
      "success_num: 10 ; try_num: 10\n",
      "success_num: 10 ; try_num: 25\n",
      "success_num: 10 ; try_num: 14\n",
      "success_num: 10 ; try_num: 16\n"
     ]
    },
    {
     "name": "stderr",
     "output_type": "stream",
     "text": [
      "802it [05:06,  2.00it/s]"
     ]
    },
    {
     "name": "stdout",
     "output_type": "stream",
     "text": [
      "success_num: 10 ; try_num: 12\n",
      "success_num: 10 ; try_num: 10\n",
      "success_num: 10 ; try_num: 12\n",
      "success_num: 10 ; try_num: 12\n",
      "success_num: 10 ; try_num: 10\n",
      "success_num: 10 ; try_num: 10\n",
      "success_num: 10 ; try_num: 10\n",
      "success_num: 10 ; try_num: 10\n",
      "success_num: 10 ; try_num: 10\n",
      "success_num: 10 ; try_num: 13\n",
      "success_num: 10 ; try_num: 10\n",
      "success_num: 10 ; try_num: 46\n"
     ]
    },
    {
     "name": "stderr",
     "output_type": "stream",
     "text": [
      "808it [05:11,  1.66it/s]"
     ]
    },
    {
     "name": "stdout",
     "output_type": "stream",
     "text": [
      "success_num: 10 ; try_num: 10\n",
      "success_num: 10 ; try_num: 12\n",
      "success_num: 10 ; try_num: 11\n",
      "success_num: 10 ; try_num: 10\n",
      "success_num: 10 ; try_num: 10\n",
      "success_num: 10 ; try_num: 10\n",
      "success_num: 10 ; try_num: 48\n"
     ]
    },
    {
     "name": "stderr",
     "output_type": "stream",
     "text": [
      "810it [05:14,  1.46it/s]"
     ]
    },
    {
     "name": "stdout",
     "output_type": "stream",
     "text": [
      "success_num: 10 ; try_num: 11\n",
      "success_num: 10 ; try_num: 10\n",
      "success_num: 10 ; try_num: 10\n",
      "success_num: 10 ; try_num: 10\n"
     ]
    },
    {
     "name": "stderr",
     "output_type": "stream",
     "text": [
      "824it [05:15,  2.91it/s]"
     ]
    },
    {
     "name": "stdout",
     "output_type": "stream",
     "text": [
      "success_num: 10 ; try_num: 10\n",
      "success_num: 10 ; try_num: 10\n",
      "success_num: 10 ; try_num: 10\n",
      "success_num: 10 ; try_num: 10\n",
      "success_num: 10 ; try_num: 10\n",
      "success_num: 10 ; try_num: 10\n",
      "success_num: 10 ; try_num: 10\n",
      "success_num: 10 ; try_num: 10\n"
     ]
    },
    {
     "name": "stderr",
     "output_type": "stream",
     "text": [
      "833it [05:18,  2.91it/s]"
     ]
    },
    {
     "name": "stdout",
     "output_type": "stream",
     "text": [
      "success_num: 10 ; try_num: 10\n",
      "success_num: 10 ; try_num: 10\n",
      "success_num: 10 ; try_num: 10\n",
      "success_num: 10 ; try_num: 10\n",
      "success_num: 10 ; try_num: 10\n"
     ]
    },
    {
     "name": "stderr",
     "output_type": "stream",
     "text": [
      "839it [05:19,  3.13it/s]"
     ]
    },
    {
     "name": "stdout",
     "output_type": "stream",
     "text": [
      "success_num: 10 ; try_num: 10\n",
      "success_num: 10 ; try_num: 10\n",
      "success_num: 10 ; try_num: 10\n",
      "success_num: 10 ; try_num: 10\n",
      "success_num: 10 ; try_num: 10\n",
      "success_num: 10 ; try_num: 10\n",
      "success_num: 10 ; try_num: 10\n"
     ]
    },
    {
     "name": "stderr",
     "output_type": "stream",
     "text": [
      "847it [05:23,  2.87it/s]"
     ]
    },
    {
     "name": "stdout",
     "output_type": "stream",
     "text": [
      "success_num: 10 ; try_num: 10\n",
      "success_num: 10 ; try_num: 10\n",
      "success_num: 10 ; try_num: 10\n",
      "success_num: 10 ; try_num: 10\n"
     ]
    },
    {
     "name": "stderr",
     "output_type": "stream",
     "text": [
      "850it [05:25,  2.51it/s]"
     ]
    },
    {
     "name": "stdout",
     "output_type": "stream",
     "text": [
      "success_num: 10 ; try_num: 10\n",
      "success_num: 10 ; try_num: 10\n"
     ]
    },
    {
     "name": "stderr",
     "output_type": "stream",
     "text": [
      "855it [05:26,  2.84it/s]"
     ]
    },
    {
     "name": "stdout",
     "output_type": "stream",
     "text": [
      "success_num: 10 ; try_num: 11\n",
      "success_num: 10 ; try_num: 10\n",
      "success_num: 10 ; try_num: 10\n",
      "success_num: 10 ; try_num: 10\n",
      "success_num: 10 ; try_num: 12\n",
      "success_num: 10 ; try_num: 15\n",
      "success_num: 10 ; try_num: 10\n",
      "success_num: 10 ; try_num: 10\n",
      "success_num: 10 ; try_num: 10\n",
      "success_num: 10 ; try_num: 10\n",
      "success_num: 10 ; try_num: 11\n",
      "success_num: 10 ; try_num: 10\n"
     ]
    },
    {
     "name": "stderr",
     "output_type": "stream",
     "text": [
      "860it [05:31,  1.86it/s]"
     ]
    },
    {
     "name": "stdout",
     "output_type": "stream",
     "text": [
      "success_num: 10 ; try_num: 10\n",
      "success_num: 10 ; try_num: 10\n",
      "success_num: 10 ; try_num: 10\n",
      "success_num: 10 ; try_num: 10\n",
      "success_num: 10 ; try_num: 10\n",
      "success_num: 10 ; try_num: 12\n",
      "success_num: 10 ; try_num: 10\n",
      "success_num: 10 ; try_num: 10\n",
      "success_num: 10 ; try_num: 10\n",
      "success_num: 10 ; try_num: 10\n",
      "success_num: 10 ; try_num: 10\n"
     ]
    },
    {
     "name": "stderr",
     "output_type": "stream",
     "text": [
      "873it [05:35,  2.41it/s]"
     ]
    },
    {
     "name": "stdout",
     "output_type": "stream",
     "text": [
      "success_num: 10 ; try_num: 10\n"
     ]
    },
    {
     "name": "stderr",
     "output_type": "stream",
     "text": [
      "875it [05:35,  2.53it/s]"
     ]
    },
    {
     "name": "stdout",
     "output_type": "stream",
     "text": [
      "success_num: 10 ; try_num: 10\n",
      "success_num: 10 ; try_num: 10\n",
      "success_num: 10 ; try_num: 10\n",
      "success_num: 10 ; try_num: 10\n",
      "success_num: 10 ; try_num: 10\n",
      "success_num: 10 ; try_num: 10\n",
      "success_num: 10 ; try_num: 10\n",
      "success_num: 10 ; try_num: 10\n",
      "success_num: 10 ; try_num: 10\n",
      "success_num: 10 ; try_num: 10\n",
      "success_num: 10 ; try_num: 12\n",
      "success_num: 10 ; try_num: 10\n"
     ]
    },
    {
     "name": "stderr",
     "output_type": "stream",
     "text": [
      "884it [05:40,  2.14it/s]"
     ]
    },
    {
     "name": "stdout",
     "output_type": "stream",
     "text": [
      "success_num: 10 ; try_num: 10\n",
      "success_num: 10 ; try_num: 10\n",
      "success_num: 10 ; try_num: 11\n",
      "success_num: 10 ; try_num: 11\n",
      "success_num: 10 ; try_num: 10\n",
      "success_num: 10 ; try_num: 10\n",
      "success_num: 10 ; try_num: 10\n"
     ]
    },
    {
     "name": "stderr",
     "output_type": "stream",
     "text": [
      "896it [05:43,  2.66it/s]"
     ]
    },
    {
     "name": "stdout",
     "output_type": "stream",
     "text": [
      "success_num: 10 ; try_num: 10\n",
      "success_num: 10 ; try_num: 10\n",
      "success_num: 10 ; try_num: 10\n",
      "success_num: 10 ; try_num: 17\n"
     ]
    },
    {
     "name": "stderr",
     "output_type": "stream",
     "text": [
      "904it [05:45,  3.13it/s]"
     ]
    },
    {
     "name": "stdout",
     "output_type": "stream",
     "text": [
      "success_num: 10 ; try_num: 10\n",
      "success_num: 10 ; try_num: 10\n",
      "success_num: 10 ; try_num: 16\n"
     ]
    },
    {
     "name": "stderr",
     "output_type": "stream",
     "text": [
      "906it [05:48,  2.24it/s]"
     ]
    },
    {
     "name": "stdout",
     "output_type": "stream",
     "text": [
      "success_num: 10 ; try_num: 10\n",
      "success_num: 10 ; try_num: 14\n",
      "success_num: 10 ; try_num: 10\n",
      "success_num: 10 ; try_num: 10\n",
      "success_num: 10 ; try_num: 10\n"
     ]
    },
    {
     "name": "stderr",
     "output_type": "stream",
     "text": [
      "907it [05:49,  2.14it/s]"
     ]
    },
    {
     "name": "stdout",
     "output_type": "stream",
     "text": [
      "success_num: 10 ; try_num: 11\n",
      "success_num: 10 ; try_num: 10\n",
      "success_num: 10 ; try_num: 10\n",
      "success_num: 10 ; try_num: 16\n"
     ]
    },
    {
     "name": "stderr",
     "output_type": "stream",
     "text": [
      "915it [05:52,  2.46it/s]"
     ]
    },
    {
     "name": "stdout",
     "output_type": "stream",
     "text": [
      "success_num: 10 ; try_num: 10\n",
      "success_num: 10 ; try_num: 12\n",
      "success_num: 10 ; try_num: 10\n",
      "success_num: 10 ; try_num: 28\n"
     ]
    },
    {
     "name": "stderr",
     "output_type": "stream",
     "text": [
      "916it [05:53,  2.04it/s]"
     ]
    },
    {
     "name": "stdout",
     "output_type": "stream",
     "text": [
      "success_num: 10 ; try_num: 10\n",
      "success_num: 10 ; try_num: 15\n"
     ]
    },
    {
     "name": "stderr",
     "output_type": "stream",
     "text": [
      "925it [05:55,  2.71it/s]"
     ]
    },
    {
     "name": "stdout",
     "output_type": "stream",
     "text": [
      "success_num: 10 ; try_num: 10\n",
      "success_num: 10 ; try_num: 10\n",
      "success_num: 10 ; try_num: 10\n",
      "success_num: 10 ; try_num: 12\n",
      "success_num: 10 ; try_num: 10\n",
      "success_num: 10 ; try_num: 10\n",
      "success_num: 10 ; try_num: 10\n",
      "success_num: 10 ; try_num: 10\n",
      "success_num: 10 ; try_num: 11\n",
      "success_num:success_num:  1010  ; try_num:; try_num:  13\n",
      "10\n",
      "success_num: 10 ; try_num: 13\n",
      "success_num: 10 ; try_num: 10\n",
      "success_num: 10 ; try_num: 10\n",
      "success_num: 10 ; try_num: 10\n",
      "success_num: 10 ; try_num: 10\n",
      "success_num: 10 ; try_num: 15\n",
      "success_num: 10 ; try_num: 10\n",
      "success_num: 10 ; try_num: 36\n",
      "success_num: 10 ; try_num: 10\n",
      "success_num: 10 ; try_num: 10\n",
      "success_num: 10 ; try_num: 10\n",
      "success_num: 10 ; try_num: 10\n",
      "success_num: 10 ; try_num: 10\n",
      "success_num: 10 ; try_num: 10\n",
      "success_num: 10 ; try_num: 10\n",
      "success_num: 10 ; try_num: 10\n",
      "success_num: 10 ; try_num: 10\n",
      "success_num: 10 ; try_num: 10\n",
      "success_num: 10 ; try_num: 10\n",
      "failed to generate 3D coordinates for CCCCCCCC\\C=C/CCCCCCCC(=O)N(CCCCCOC(=O)C(CCCCCC)CCCCCCCC)C(CCCN(CCCC)CCCC)C(=O)NC(C)(C)CC(C)(C)C use 2D coordinates instead\n",
      "success_num: 9 ; try_num: 50\n"
     ]
    },
    {
     "name": "stderr",
     "output_type": "stream",
     "text": [
      "926it [06:10,  1.39s/it]"
     ]
    },
    {
     "name": "stdout",
     "output_type": "stream",
     "text": [
      "success_num: 10 ; try_num: 10\n",
      "success_num: 10 ; try_num: 10\n",
      "success_num: 10 ; try_num: 10\n",
      "success_num: 10 ; try_num: 10\n",
      "success_num: 10 ; try_num: 10\n",
      "success_num: 10 ; try_num: 10\n",
      "success_num: 10 ; try_num: 10\n",
      "success_num: 10 ; try_num: 10\n",
      "success_num: 10 ; try_num: 10\n",
      "success_num: 10 ; try_num: 10\n",
      "success_num: 10 ; try_num: 10\n",
      "success_num: 10 ; try_num: 10\n",
      "success_num: 10 ; try_num: 10\n",
      "success_num: 10 ; try_num: 10\n",
      "success_num: 10 ; try_num: 10\n",
      "success_num: 10 ; try_num: 10\n",
      "success_num: 10 ; try_num: 10\n",
      "success_num: 10 ; try_num: 10\n",
      "success_num: 10 ; try_num: 10\n",
      "success_num: 10 ; try_num: 10\n",
      "success_num: 10 ; try_num: 10\n",
      "success_num: 10 ; try_num: 10\n",
      "success_num: 10 ; try_num: 10\n",
      "success_num: 10 ; try_num: 10\n",
      "success_num: 10 ; try_num: 10\n",
      "success_num: 10 ; try_num: 10\n",
      "success_num: 10 ; try_num: 10\n",
      "success_num: 10 ; try_num: 10\n",
      "success_num: 10 ; try_num: 10\n",
      "success_num: 10 ; try_num: 10\n",
      "success_num: 10 ; try_num: 10\n",
      "success_num: 10 ; try_num: 10\n",
      "success_num: 10 ; try_num: 10\n",
      "success_num: 10 ; try_num: 10\n",
      "success_num: 10 ; try_num: 10\n",
      "success_num: 10 ; try_num: 10\n",
      "success_num: 10 ; try_num: 10\n",
      "success_num: 10 ; try_num: 10\n",
      "success_num: 10 ; try_num: 10\n",
      "success_num: 10 ; try_num: 10\n",
      "success_num: 10 ; try_num: 10\n",
      "success_num: 10 ; try_num: 10\n",
      "success_num: 10 ; try_num: 10\n",
      "success_num: 10 ; try_num: 10\n",
      "success_num: 10 ; try_num: 10\n",
      "success_num: 10 ; try_num: 10\n",
      "failed to generate 3D coordinates for CCCCCCCC\\C=C/CCCCCCCC(=O)N(CCCCCOC(=O)C(CCCCCC)CCCCCCCC)C(CCCN(CCCC)CCCC)C(=O)NCCN1CCOCC1 use 2D coordinates instead\n",
      "success_num: 10 ; try_num: 10\n",
      "success_num: 4 ; try_num: 50\n"
     ]
    },
    {
     "name": "stderr",
     "output_type": "stream",
     "text": [
      "928it [06:24,  2.32s/it]"
     ]
    },
    {
     "name": "stdout",
     "output_type": "stream",
     "text": [
      "success_num: 10 ; try_num: 10\n"
     ]
    },
    {
     "name": "stderr",
     "output_type": "stream",
     "text": [
      "1000it [06:25,  4.01it/s]"
     ]
    },
    {
     "name": "stdout",
     "output_type": "stream",
     "text": [
      "success_num: 10 ; try_num: 10\n",
      "success_num: 10 ; try_num: 10\n",
      "success_num: 10 ; try_num: 10\n",
      "success_num: 10 ; try_num: 10\n",
      "success_num: 10 ; try_num: 10\n",
      "success_num: 10 ; try_num: 10\n",
      "success_num:success_num:  1010  ; try_num:; try_num:  1010\n",
      "\n",
      "success_num: 10 ; try_num: 10\n",
      "success_num: 10 ; try_num: 10\n"
     ]
    },
    {
     "name": "stderr",
     "output_type": "stream",
     "text": [
      "1005it [06:27,  3.69it/s]"
     ]
    },
    {
     "name": "stdout",
     "output_type": "stream",
     "text": [
      "success_num: 10 ; try_num: 10\n",
      "success_num: 10 ; try_num: 10\n",
      "success_num: 10 ; try_num: 10\n",
      "success_num: 10 ; try_num: 10\n"
     ]
    },
    {
     "name": "stderr",
     "output_type": "stream",
     "text": [
      "1010it [06:29,  3.73it/s]"
     ]
    },
    {
     "name": "stdout",
     "output_type": "stream",
     "text": [
      "success_num: 10 ; try_num: 10\n",
      "success_num: 10 ; try_num: 10\n",
      "success_num: 10 ; try_num: 10\n",
      "success_num: 10 ; try_num: 10\n",
      "success_num: 10 ; try_num: 10\n",
      "success_num: 10 ; try_num: 10\n",
      "success_num: 10 ; try_num: 10\n",
      "success_num: 10 ; try_num: 10\n",
      "success_num: 10 ; try_num: 10\n"
     ]
    },
    {
     "name": "stderr",
     "output_type": "stream",
     "text": [
      "1018it [06:31,  3.70it/s]"
     ]
    },
    {
     "name": "stdout",
     "output_type": "stream",
     "text": [
      "success_num: 10 ; try_num: 10\n"
     ]
    },
    {
     "name": "stderr",
     "output_type": "stream",
     "text": [
      "1028it [06:32,  4.32it/s]"
     ]
    },
    {
     "name": "stdout",
     "output_type": "stream",
     "text": [
      "success_num: 10 ; try_num: 10\n",
      "success_num: 10 ; try_num: 10\n",
      "success_num: 10 ; try_num: 10\n",
      "success_num: 10 ; try_num: 10\n",
      "success_num: 10 ; try_num: 10\n",
      "success_num: 10 ; try_num: 10\n",
      "success_num: 10 ; try_num: 10\n",
      "success_num: 10 ; try_num: 10\n",
      "success_num: 10 ; try_num: 10\n",
      "success_num: 10 ; try_num: 10\n",
      "success_num: 10 ; try_num: 10\n"
     ]
    },
    {
     "name": "stderr",
     "output_type": "stream",
     "text": [
      "1030it [06:35,  3.19it/s]"
     ]
    },
    {
     "name": "stdout",
     "output_type": "stream",
     "text": [
      "success_num: 10 ; try_num: 10\n",
      "success_num: 10 ; try_num: 10\n",
      "success_num: 10 ; try_num: 10\n",
      "success_num: 10 ; try_num: 10\n",
      "success_num: 10 ; try_num: 10\n",
      "success_num: 10 ; try_num: 10\n",
      "success_num: 10 ; try_num: 10\n"
     ]
    },
    {
     "name": "stderr",
     "output_type": "stream",
     "text": [
      "1033it [06:37,  2.84it/s]"
     ]
    },
    {
     "name": "stdout",
     "output_type": "stream",
     "text": [
      "success_num: 10 ; try_num: 10\n",
      "success_num: 10 ; try_num: 10\n",
      "success_num: 10 ; try_num: 10\n",
      "success_num: 10 ; try_num: 10\n",
      "success_num: 10 ; try_num: 10\n",
      "success_num: 10 ; try_num: 10\n",
      "success_num: 10 ; try_num: 10\n",
      "success_num: 10 ; try_num: 10\n"
     ]
    },
    {
     "name": "stderr",
     "output_type": "stream",
     "text": [
      "1043it [06:38,  3.63it/s]"
     ]
    },
    {
     "name": "stdout",
     "output_type": "stream",
     "text": [
      "success_num: 10 ; try_num: 10\n",
      "success_num: 10 ; try_num: 10\n"
     ]
    },
    {
     "name": "stderr",
     "output_type": "stream",
     "text": [
      "1053it [06:39,  4.99it/s]"
     ]
    },
    {
     "name": "stdout",
     "output_type": "stream",
     "text": [
      "success_num: 10 ; try_num: 10\n"
     ]
    },
    {
     "name": "stderr",
     "output_type": "stream",
     "text": [
      "1059it [06:39,  5.75it/s]"
     ]
    },
    {
     "name": "stdout",
     "output_type": "stream",
     "text": [
      "success_num: 10 ; try_num: 10\n",
      "success_num: 10 ; try_num: 10\n",
      "success_num: 10 ; try_num: 10\n",
      "success_num: 10 ; try_num: 10\n",
      "success_num: 10 ; try_num: 10\n",
      "success_num: 10 ; try_num: 10\n",
      "success_num: 10 ; try_num: 10\n",
      "success_num: 10 ; try_num: 10\n",
      "success_num: 10 ; try_num: 10\n",
      "success_num: 10 ; try_num: 10\n",
      "success_num: 10 ; try_num: 10\n"
     ]
    },
    {
     "name": "stderr",
     "output_type": "stream",
     "text": [
      "1061it [06:42,  3.33it/s]"
     ]
    },
    {
     "name": "stdout",
     "output_type": "stream",
     "text": [
      "success_num: 10 ; try_num: 10\n",
      "success_num: 10 ; try_num: 10\n",
      "success_num: 10 ; try_num: 10\n"
     ]
    },
    {
     "name": "stderr",
     "output_type": "stream",
     "text": [
      "1064it [06:43,  3.41it/s]"
     ]
    },
    {
     "name": "stdout",
     "output_type": "stream",
     "text": [
      "success_num: 10 ; try_num: 10\n",
      "success_num: 10 ; try_num: 10\n",
      "success_num: 10 ; try_num: 10\n",
      "success_num: 10 ; try_num: 10\n",
      "success_num: 10 ; try_num: 10\n",
      "success_num: 10 ; try_num: 10\n",
      "success_num: 10 ; try_num: 10\n",
      "success_num: 10 ; try_num: 10\n",
      "success_num: 10 ; try_num: 10\n",
      "success_num: 10 ; try_num: 10\n",
      "success_num: 10 ; try_num: 10\n",
      "success_num: 10 ; try_num: 10\n",
      "success_num: 10 ; try_num: 10\n",
      "success_num: 10 ; try_num: 10\n",
      "success_num: 10 ; try_num: 10\n"
     ]
    },
    {
     "name": "stderr",
     "output_type": "stream",
     "text": [
      "1068it [06:47,  2.13it/s]"
     ]
    },
    {
     "name": "stdout",
     "output_type": "stream",
     "text": [
      "success_num: 10 ; try_num: 10\n",
      "success_num: 10 ; try_num: 10\n",
      "success_num: 10 ; try_num: 10\n",
      "success_num: 10 ; try_num: 10\n",
      "success_num: 10 ; try_num: 10\n",
      "success_num: 10 ; try_num: 10\n",
      "success_num: 10 ; try_num: 10\n",
      "success_num: 10 ; try_num: 10\n"
     ]
    },
    {
     "name": "stderr",
     "output_type": "stream",
     "text": [
      "1085it [06:50,  3.63it/s]"
     ]
    },
    {
     "name": "stdout",
     "output_type": "stream",
     "text": [
      "success_num: 10 ; try_num: 10\n",
      "success_num: 10 ; try_num: 10\n",
      "success_num: 10 ; try_num: 10\n",
      "success_num: 10 ; try_num: 10\n",
      "success_num: 10 ; try_num: 10\n",
      "success_num: 10 ; try_num: 10\n"
     ]
    },
    {
     "name": "stderr",
     "output_type": "stream",
     "text": [
      "1096it [06:53,  3.55it/s]"
     ]
    },
    {
     "name": "stdout",
     "output_type": "stream",
     "text": [
      "success_num: 10 ; try_num: 10\n",
      "success_num: 10 ; try_num: 11\n",
      "success_num: 10 ; try_num: 12\n",
      "success_num: 10 ; try_num: 13\n",
      "success_num: 10 ; try_num: 11\n",
      "success_num: 10 ; try_num: 10\n",
      "success_num: 10 ; try_num: 10\n",
      "success_num: 10 ; try_num: 10\n",
      "success_num: 10 ; try_num: 10\n",
      "success_num: 10 ; try_num: 10\n",
      "success_num: 10 ; try_num: 10\n",
      "success_num: 10 ; try_num: 10\n"
     ]
    },
    {
     "name": "stderr",
     "output_type": "stream",
     "text": [
      "1100it [06:56,  2.78it/s]"
     ]
    },
    {
     "name": "stdout",
     "output_type": "stream",
     "text": [
      "success_num: 10 ; try_num: 10\n",
      "success_num: 10 ; try_num: 10\n",
      "success_num: 10 ; try_num: 10\n",
      "success_num: 10 ; try_num: 10\n",
      "success_num: 10 ; try_num: 10\n",
      "success_num: 10 ; try_num: 10\n",
      "success_num: 10 ; try_num: 10\n",
      "success_num: 10 ; try_num: 11\n",
      "success_num: 10 ; try_num: 10\n",
      "success_num: 10 ; try_num: 10\n",
      "success_num: 10 ; try_num: 10\n"
     ]
    },
    {
     "name": "stderr",
     "output_type": "stream",
     "text": [
      "1114it [07:00,  3.14it/s]"
     ]
    },
    {
     "name": "stdout",
     "output_type": "stream",
     "text": [
      "success_num: 10 ; try_num: 10\n",
      "success_num: 10 ; try_num: 11\n",
      "success_num: 10 ; try_num: 10\n",
      "success_num: 10 ; try_num: 10\n"
     ]
    },
    {
     "name": "stderr",
     "output_type": "stream",
     "text": [
      "1121it [07:00,  3.82it/s]"
     ]
    },
    {
     "name": "stdout",
     "output_type": "stream",
     "text": [
      "success_num: 10 ; try_num: 10\n",
      "success_num: 10 ; try_num: 10\n",
      "success_num: 10 ; try_num: 10\n",
      "success_num: 10 ; try_num: 10\n",
      "success_num: 10 ; try_num: 10\n"
     ]
    },
    {
     "name": "stderr",
     "output_type": "stream",
     "text": [
      "1123it [07:02,  3.00it/s]"
     ]
    },
    {
     "name": "stdout",
     "output_type": "stream",
     "text": [
      "success_num: 10 ; try_num: 10\n",
      "success_num: 10 ; try_num: 10\n",
      "success_num: 10 ; try_num: 10\n",
      "success_num: 10 ; try_num: 11\n",
      "success_num: 10 ; try_num: 11\n",
      "success_num: 10 ; try_num: 10\n",
      "success_num: 10 ; try_num: 11\n"
     ]
    },
    {
     "name": "stderr",
     "output_type": "stream",
     "text": [
      "1126it [07:04,  2.68it/s]"
     ]
    },
    {
     "name": "stdout",
     "output_type": "stream",
     "text": [
      "success_num: 10 ; try_num: 10\n",
      "success_num: 10 ; try_num: 10\n",
      "success_num: 10 ; try_num: 10\n",
      "success_num: 10 ; try_num: 10\n",
      "success_num: 10 ; try_num: 10\n",
      "success_num: 10 ; try_num: 10\n",
      "success_num: 10success_num: ; try_num:  1010\n",
      " ; try_num: 10\n"
     ]
    },
    {
     "name": "stderr",
     "output_type": "stream",
     "text": [
      "1136it [07:07,  2.84it/s]"
     ]
    },
    {
     "name": "stdout",
     "output_type": "stream",
     "text": [
      "success_num: 10 ; try_num: 10\n",
      "success_num: 10 ; try_num: 10\n",
      "success_num: 10 ; try_num: 10\n",
      "success_num: 10 ; try_num: 10\n"
     ]
    },
    {
     "name": "stderr",
     "output_type": "stream",
     "text": [
      "1142it [07:09,  3.00it/s]"
     ]
    },
    {
     "name": "stdout",
     "output_type": "stream",
     "text": [
      "success_num: 10 ; try_num: 16\n"
     ]
    },
    {
     "name": "stderr",
     "output_type": "stream",
     "text": [
      "1144it [07:09,  3.25it/s]"
     ]
    },
    {
     "name": "stdout",
     "output_type": "stream",
     "text": [
      "success_num: 10 ; try_num: 12\n",
      "success_num: 10 ; try_num: 10\n",
      "success_num: 10 ; try_num: 13\n",
      "success_num: 10 ; try_num: 19\n",
      "success_num: 10 ; try_num: 13\n",
      "success_num: 10 ; try_num: 11\n",
      "success_num: 10 ; try_num: 20\n",
      "success_num: 10 ; try_num: 13\n",
      "success_num: 10 ; try_num: 10\n"
     ]
    },
    {
     "name": "stderr",
     "output_type": "stream",
     "text": [
      "1146it [07:13,  1.94it/s]"
     ]
    },
    {
     "name": "stdout",
     "output_type": "stream",
     "text": [
      "success_num: 10 ; try_num: 14\n",
      "success_num: 10 ; try_num: 10\n"
     ]
    },
    {
     "name": "stderr",
     "output_type": "stream",
     "text": [
      "1161it [07:14,  3.96it/s]"
     ]
    },
    {
     "name": "stdout",
     "output_type": "stream",
     "text": [
      "success_num: 10 ; try_num: 10\n",
      "success_num: 10 ; try_num: 10\n",
      "success_num: 10 ; try_num: 10\n",
      "success_num: 10 ; try_num: 10\n",
      "success_num: 10 ; try_num: 11\n",
      "success_num: 10 ; try_num: 10\n",
      "success_num: 10 ; try_num: 22\n",
      "success_num: 10 ; try_num: 10\n",
      "success_num: 10 ; try_num: 12\n",
      "success_num: 10 ; try_num: 11\n",
      "success_num: 10 ; try_num: 23\n",
      "success_num: 10 ; try_num: 10\n",
      "success_num: 10 ; try_num: 32\n",
      "success_num: 10 ; try_num: 10\n",
      "success_num: 10 ; try_num: 10\n",
      "success_num: 10 ; try_num: 10\n",
      "success_num: 10 ; try_num: 10\n",
      "success_num: 10 ; try_num: 10\n",
      "success_num: 10 ; try_num: 12\n",
      "success_num: 10 ; try_num: 16\n"
     ]
    },
    {
     "name": "stderr",
     "output_type": "stream",
     "text": [
      "1165it [07:22,  1.71it/s]"
     ]
    },
    {
     "name": "stdout",
     "output_type": "stream",
     "text": [
      "success_num: 10 ; try_num: 10\n",
      "success_num: 10 ; try_num: 11\n"
     ]
    },
    {
     "name": "stderr",
     "output_type": "stream",
     "text": [
      "1186it [07:22,  3.96it/s]"
     ]
    },
    {
     "name": "stdout",
     "output_type": "stream",
     "text": [
      "success_num: 10 ; try_num: 10\n",
      "success_num: 10 ; try_num: 10\n",
      "success_num: 10 ; try_num: 11\n"
     ]
    },
    {
     "name": "stderr",
     "output_type": "stream",
     "text": [
      "1189it [07:23,  3.86it/s]"
     ]
    },
    {
     "name": "stdout",
     "output_type": "stream",
     "text": [
      "success_num: 10 ; try_num: 10\n"
     ]
    },
    {
     "name": "stderr",
     "output_type": "stream",
     "text": [
      "1191it [07:24,  3.95it/s]"
     ]
    },
    {
     "name": "stdout",
     "output_type": "stream",
     "text": [
      "success_num: 10 ; try_num: 10\n",
      "success_num: 10 ; try_num: 10\n",
      "success_num: 10 ; try_num: 10\n",
      "success_num: 10 ; try_num: 10\n",
      "success_num: 10 ; try_num: 10\n",
      "success_num: 10 ; try_num: 10\n",
      "success_num: 10 ; try_num: 10\n",
      "success_num: 10 ; try_num: 10\n",
      "success_num: 10 ; try_num: 10\n",
      "success_num: 10 ; try_num: 10\n",
      "success_num: 10 ; try_num: 10\n",
      "success_num: 10 ; try_num: 10\n",
      "success_num: 10 ; try_num: 10\n",
      "success_num: 10 ; try_num: 10\n"
     ]
    },
    {
     "name": "stderr",
     "output_type": "stream",
     "text": [
      "1193it [07:29,  2.00it/s]"
     ]
    },
    {
     "name": "stdout",
     "output_type": "stream",
     "text": [
      "success_num: 10 ; try_num: 10\n",
      "success_num: 10 ; try_num: 10\n",
      "success_num: 10 ; try_num: 10\n",
      "success_num: 10 ; try_num: 10\n",
      "success_num: 10 ; try_num: 10\n"
     ]
    },
    {
     "name": "stderr",
     "output_type": "stream",
     "text": [
      "1196it [07:30,  2.10it/s]"
     ]
    },
    {
     "name": "stdout",
     "output_type": "stream",
     "text": [
      "success_num: 10 ; try_num: 10\n"
     ]
    },
    {
     "name": "stderr",
     "output_type": "stream",
     "text": [
      "1210it [07:30,  4.77it/s]"
     ]
    },
    {
     "name": "stdout",
     "output_type": "stream",
     "text": [
      "success_num: 10 ; try_num: 10\n",
      "success_num: 10 ; try_num: 10\n",
      "success_num: 10 ; try_num: 10\n",
      "success_num: 10 ; try_num: 10\n",
      "success_num: 10 ; try_num: 10\n",
      "success_num: 10 ; try_num: 10\n",
      "success_num: 10 ; try_num: 10\n",
      "success_num: 10 ; try_num: 11\n",
      "success_num: 10 ; try_num: 11\n",
      "success_num: 10 ; try_num: 10\n",
      "success_num: 10 ; try_num: 10\n"
     ]
    },
    {
     "name": "stderr",
     "output_type": "stream",
     "text": [
      "1215it [07:35,  2.64it/s]"
     ]
    },
    {
     "name": "stdout",
     "output_type": "stream",
     "text": [
      "success_num: 10 ; try_num: 10\n",
      "success_num: 10 ; try_num: 10\n",
      "success_num: 10 ; try_num: 12\n",
      "success_num: 10 ; try_num: 10\n",
      "success_num: 10 ; try_num: 10\n",
      "success_num: 10 ; try_num: 10\n"
     ]
    },
    {
     "name": "stderr",
     "output_type": "stream",
     "text": [
      "1218it [07:36,  2.41it/s]"
     ]
    },
    {
     "name": "stdout",
     "output_type": "stream",
     "text": [
      "success_num: 10 ; try_num: 10\n",
      "success_num: 10 ; try_num: 11\n",
      "success_num: 10 ; try_num: 11\n"
     ]
    },
    {
     "name": "stderr",
     "output_type": "stream",
     "text": [
      "1221it [07:37,  2.64it/s]"
     ]
    },
    {
     "name": "stdout",
     "output_type": "stream",
     "text": [
      "success_num: 10 ; try_num: 10\n",
      "success_num: 10 ; try_num: 10\n",
      "success_num: 10 ; try_num: 15\n"
     ]
    },
    {
     "name": "stderr",
     "output_type": "stream",
     "text": [
      "1228it [07:38,  3.36it/s]"
     ]
    },
    {
     "name": "stdout",
     "output_type": "stream",
     "text": [
      "success_num: 10 ; try_num: 10\n",
      "success_num: 10 ; try_num: 10\n",
      "success_num: 10 ; try_num: 10\n",
      "success_num: 10 ; try_num: 10\n",
      "success_num: 10 ; try_num: 10\n",
      "success_num: 10 ; try_num: 10\n",
      "success_num: 10 ; try_num: 10\n",
      "success_num: 10 ; try_num: 10\n",
      "success_num: 10 ; try_num: 10\n",
      "success_num: 10 ; try_num: 10\n"
     ]
    },
    {
     "name": "stderr",
     "output_type": "stream",
     "text": [
      "1234it [07:41,  2.74it/s]"
     ]
    },
    {
     "name": "stdout",
     "output_type": "stream",
     "text": [
      "success_num: 10 ; try_num: 11\n",
      "success_num: 10 ; try_num: 10\n",
      "success_num: 10 ; try_num: 10\n",
      "success_num: 10 ; try_num: 10\n",
      "success_num: 10 ; try_num: 10\n",
      "success_num: 10 ; try_num: 10\n",
      "success_num: 10 ; try_num: 10\n"
     ]
    },
    {
     "name": "stderr",
     "output_type": "stream",
     "text": [
      "1241it [07:44,  2.87it/s]"
     ]
    },
    {
     "name": "stdout",
     "output_type": "stream",
     "text": [
      "success_num: 10 ; try_num: 10\n"
     ]
    },
    {
     "name": "stderr",
     "output_type": "stream",
     "text": [
      "1243it [07:44,  3.07it/s]"
     ]
    },
    {
     "name": "stdout",
     "output_type": "stream",
     "text": [
      "success_num: 10 ; try_num: 10\n",
      "success_num: 10 ; try_num: 10\n",
      "success_num: 10 ; try_num: 10\n",
      "success_num: 10 ; try_num: 10\n",
      "success_num: 10 ; try_num: 14\n",
      "success_num: 10 ; try_num: 10\n",
      "success_num: 10 ; try_num: 11\n",
      "success_num: 10 ; try_num: 10\n"
     ]
    },
    {
     "name": "stderr",
     "output_type": "stream",
     "text": [
      "1248it [07:47,  2.32it/s]"
     ]
    },
    {
     "name": "stdout",
     "output_type": "stream",
     "text": [
      "success_num: 10 ; try_num: 12\n",
      "success_num: 10 ; try_num: 10\n",
      "success_num: 10 ; try_num: 13\n",
      "success_num: 10 ; try_num: 10\n",
      "success_num: 10 ; try_num: 10\n",
      "success_num: 10 ; try_num: 10\n"
     ]
    },
    {
     "name": "stderr",
     "output_type": "stream",
     "text": [
      "1254it [07:50,  2.40it/s]"
     ]
    },
    {
     "name": "stdout",
     "output_type": "stream",
     "text": [
      "success_num: 10 ; try_num: 10\n",
      "success_num: 10 ; try_num: 10\n",
      "success_num: 10 ; try_num: 11\n"
     ]
    },
    {
     "name": "stderr",
     "output_type": "stream",
     "text": [
      "1260it [07:50,  3.23it/s]"
     ]
    },
    {
     "name": "stdout",
     "output_type": "stream",
     "text": [
      "success_num: 10 ; try_num: 17\n",
      "success_num: 10 ; try_num: 10\n",
      "success_num: 10 ; try_num: 10\n",
      "success_num: 10 ; try_num: 10\n"
     ]
    },
    {
     "name": "stderr",
     "output_type": "stream",
     "text": [
      "1265it [07:52,  2.93it/s]"
     ]
    },
    {
     "name": "stdout",
     "output_type": "stream",
     "text": [
      "success_num: 10 ; try_num: 12\n",
      "success_num: 10 ; try_num: 13\n",
      "success_num: 10 ; try_num: 13\n",
      "success_num: 10 ; try_num: 10\n",
      "success_num: 10 ; try_num: 10\n",
      "success_num: 10 ; try_num: 10\n",
      "success_num: 10 ; try_num: 10\n"
     ]
    },
    {
     "name": "stderr",
     "output_type": "stream",
     "text": [
      "1272it [07:54,  2.99it/s]"
     ]
    },
    {
     "name": "stdout",
     "output_type": "stream",
     "text": [
      "success_num: 10 ; try_num: 16\n",
      "success_num: 10 ; try_num: 11\n",
      "success_num: 10 ; try_num: 10\n",
      "success_num: 10 ; try_num: 10\n",
      "success_num: 10 ; try_num: 10\n",
      "success_num: 10 ; try_num: 10\n",
      "success_num: 10 ; try_num: 17\n",
      "success_num: 10 success_num: ; try_num:10  10; try_num:\n",
      " 12\n",
      "success_num: 10 ; try_num: 21\n",
      "success_num: 10 ; try_num: 14\n",
      "success_num: 10 ; try_num: 14\n",
      "success_num: 10 ; try_num: 11\n",
      "success_num: 10 ; try_num: 11\n",
      "success_num: 10 ; try_num: 11\n",
      "success_num: 10 ; try_num: 10\n",
      "success_num: 10 ; try_num: 10\n",
      "success_num: 10 ; try_num: 10\n",
      "success_num: 10 ; try_num: 13\n",
      "success_num: 10 ; try_num: 19\n"
     ]
    },
    {
     "name": "stderr",
     "output_type": "stream",
     "text": [
      "1278it [08:04,  1.40it/s]"
     ]
    },
    {
     "name": "stdout",
     "output_type": "stream",
     "text": [
      "success_num: 10 ; try_num: 10\n",
      "success_num: 10 ; try_num: 10\n",
      "success_num: 10 ; try_num: 11\n",
      "success_num: 10 ; try_num: 10\n",
      "success_num: 10 ; try_num: 10\n",
      "success_num: 10 ; try_num: 10\n",
      "success_num: 10 ; try_num: 13\n",
      "success_num: 10 ; try_num: 39\n",
      "success_num: 10 ; try_num: 10\n",
      "success_num: 10 ; try_num: 10\n",
      "success_num: 10 ; try_num: 10\n",
      "success_num: 10 ; try_num: 10\n",
      "success_num: 10 ; try_num: 10\n",
      "success_num: 10 ; try_num: 37\n"
     ]
    },
    {
     "name": "stderr",
     "output_type": "stream",
     "text": [
      "1288it [08:09,  1.59it/s]"
     ]
    },
    {
     "name": "stdout",
     "output_type": "stream",
     "text": [
      "success_num: 10 ; try_num: 10\n",
      "success_num: 10 ; try_num: 10\n",
      "success_num: 10 ; try_num: 10\n"
     ]
    },
    {
     "name": "stderr",
     "output_type": "stream",
     "text": [
      "1309it [08:10,  3.37it/s]"
     ]
    },
    {
     "name": "stdout",
     "output_type": "stream",
     "text": [
      "success_num: 10 ; try_num: 10\n",
      "success_num: 10 ; try_num: 10\n",
      "success_num: 10 ; try_num: 10\n",
      "success_num: 10 ; try_num: 10\n",
      "success_num: 10 ; try_num: 10\n",
      "success_num: 10 ; try_num: 10\n",
      "success_num: 10 ; try_num: 10\n",
      "success_num: 10 ; try_num: 10\n",
      "success_num: 10 ; try_num: 10\n"
     ]
    },
    {
     "name": "stderr",
     "output_type": "stream",
     "text": [
      "1316it [08:13,  2.92it/s]"
     ]
    },
    {
     "name": "stdout",
     "output_type": "stream",
     "text": [
      "success_num: 10 ; try_num: 10\n",
      "success_num: 10 ; try_num: 10\n",
      "success_num: 10 ; try_num: 10\n",
      "success_num: 10 ; try_num: 10\n",
      "success_num: 10 ; try_num: 10\n",
      "success_num: 10 ; try_num: 11\n",
      "success_num: 10 ; try_num: 10\n",
      "success_num: 10 ; try_num: 10\n",
      "success_num: 10 ; try_num: 10\n",
      "success_num: 10 ; try_num: 10\n",
      "success_num: 10 ; try_num: 10\n",
      "success_num: 10 ; try_num: 10\n",
      "success_num: 10 ; try_num: 11\n"
     ]
    },
    {
     "name": "stderr",
     "output_type": "stream",
     "text": [
      "1326it [08:19,  2.52it/s]"
     ]
    },
    {
     "name": "stdout",
     "output_type": "stream",
     "text": [
      "success_num: 10 ; try_num: 10\n",
      "success_num: 10 ; try_num: 10\n",
      "success_num: 10 ; try_num: 10\n",
      "success_num: 10 ; try_num: 11\n",
      "success_num: 10 ; try_num: 10\n",
      "success_num: 10 ; try_num: 12\n",
      "success_num: 10 ; try_num: 10\n"
     ]
    },
    {
     "name": "stderr",
     "output_type": "stream",
     "text": [
      "1335it [08:22,  2.52it/s]"
     ]
    },
    {
     "name": "stdout",
     "output_type": "stream",
     "text": [
      "success_num: 10 ; try_num: 10\n",
      "success_num: 10 ; try_num: 14\n",
      "success_num: 10 ; try_num: 10\n",
      "success_num: 10 ; try_num: 10\n",
      "success_num: 10 ; try_num: 10\n",
      "success_num: 10 ; try_num: 10\n"
     ]
    },
    {
     "name": "stderr",
     "output_type": "stream",
     "text": [
      "1338it [08:24,  2.48it/s]"
     ]
    },
    {
     "name": "stdout",
     "output_type": "stream",
     "text": [
      "success_num: 10 ; try_num: 10\n",
      "success_num: 10 ; try_num: 10\n"
     ]
    },
    {
     "name": "stderr",
     "output_type": "stream",
     "text": [
      "1347it [08:25,  3.17it/s]"
     ]
    },
    {
     "name": "stdout",
     "output_type": "stream",
     "text": [
      "success_num: 10 ; try_num: 10\n",
      "success_num: 10 ; try_num: 10\n",
      "success_num: 10 ; try_num: 10\n",
      "success_num: 10 ; try_num: 10\n",
      "success_num: 10 ; try_num: 10\n",
      "success_num: 10 ; try_num: 10\n",
      "success_num: 10 ; try_num: 11\n"
     ]
    },
    {
     "name": "stderr",
     "output_type": "stream",
     "text": [
      "1351it [08:27,  2.69it/s]"
     ]
    },
    {
     "name": "stdout",
     "output_type": "stream",
     "text": [
      "success_num: 10 ; try_num: 10\n",
      "success_num: 10 ; try_num: 11\n",
      "success_num: 10 ; try_num: 10\n",
      "success_num: 10 ; try_num: 10\n",
      "success_num: 10 ; try_num: 10\n",
      "success_num: 10 ; try_num: 10\n",
      "success_num: 10 ; try_num: 10\n",
      "success_num: 10 ; try_num: 10\n",
      "success_num: 10 ; try_num: 13\n",
      "success_num: 10 ; try_num: 10\n"
     ]
    },
    {
     "name": "stderr",
     "output_type": "stream",
     "text": [
      "1358it [08:32,  2.15it/s]"
     ]
    },
    {
     "name": "stdout",
     "output_type": "stream",
     "text": [
      "success_num: 10 ; try_num: 10\n",
      "success_num: 10 ; try_num: 10\n",
      "success_num: 10 ; try_num: 11\n",
      "success_num: 10 ; try_num: 10\n",
      "success_num: 10 ; try_num: 11\n"
     ]
    },
    {
     "name": "stderr",
     "output_type": "stream",
     "text": [
      "1366it [08:34,  2.52it/s]"
     ]
    },
    {
     "name": "stdout",
     "output_type": "stream",
     "text": [
      "success_num: 10 ; try_num: 12\n",
      "success_num: 10 ; try_num: 10\n",
      "success_num: 10 ; try_num: 10\n",
      "success_num: 10 ; try_num: 10\n"
     ]
    },
    {
     "name": "stderr",
     "output_type": "stream",
     "text": [
      "1372it [08:36,  2.83it/s]"
     ]
    },
    {
     "name": "stdout",
     "output_type": "stream",
     "text": [
      "success_num: 10 ; try_num: 10\n",
      "success_num: 10 ; try_num: 10\n",
      "success_num: 10 ; try_num: 10\n",
      "success_num: 10 ; try_num: 14\n",
      "success_num: 10 ; try_num: 10\n",
      "success_num: 10 ; try_num: 10\n",
      "success_num: 10 ; try_num: 10\n"
     ]
    },
    {
     "name": "stderr",
     "output_type": "stream",
     "text": [
      "1374it [08:38,  2.18it/s]"
     ]
    },
    {
     "name": "stdout",
     "output_type": "stream",
     "text": [
      "success_num: 10 ; try_num: 10\n",
      "success_num: 10 ; try_num: 10\n",
      "success_num: 10 ; try_num: 10\n",
      "success_num: 10 ; try_num: 10\n"
     ]
    },
    {
     "name": "stderr",
     "output_type": "stream",
     "text": [
      "1383it [08:40,  2.73it/s]"
     ]
    },
    {
     "name": "stdout",
     "output_type": "stream",
     "text": [
      "success_num: 10 ; try_num: 10\n",
      "success_num: 10 ; try_num: 10\n",
      "success_num: 10 ; try_num: 10\n",
      "success_num: 10 ; try_num: 12\n",
      "success_num: 10 ; try_num: 10\n",
      "success_num: 10 ; try_num: 13\n",
      "success_num: 10 ; try_num: 12\n",
      "success_num: 10 ; try_num: 14\n",
      "success_num: 10 ; try_num: 13\n",
      "success_num: 10 ; try_num: 10\n",
      "success_num: 10 ; try_num: 11\n"
     ]
    },
    {
     "name": "stderr",
     "output_type": "stream",
     "text": [
      "1392it [08:47,  2.02it/s]"
     ]
    },
    {
     "name": "stdout",
     "output_type": "stream",
     "text": [
      "success_num: 10 ; try_num: 12\n",
      "success_num: 10 ; try_num: 14\n",
      "success_num: 10 ; try_num: 13\n",
      "success_num: 10 ; try_num: 10\n",
      "success_num: 10 ; try_num: 10\n",
      "success_num: 10 ; try_num: 10\n",
      "success_num: 10 ; try_num: 10\n",
      "success_num: 10 ; try_num: 10\n",
      "success_num: 10 ; try_num: 13\n"
     ]
    },
    {
     "name": "stderr",
     "output_type": "stream",
     "text": [
      "1398it [08:51,  1.81it/s]"
     ]
    },
    {
     "name": "stdout",
     "output_type": "stream",
     "text": [
      "success_num: 10 ; try_num: 23\n"
     ]
    },
    {
     "name": "stderr",
     "output_type": "stream",
     "text": [
      "1406it [08:51,  2.61it/s]"
     ]
    },
    {
     "name": "stdout",
     "output_type": "stream",
     "text": [
      "success_num: 10 ; try_num: 10\n",
      "success_num: 10 ; try_num: 10\n",
      "success_num: 10 ; try_num: 10\n",
      "success_num: 10 ; try_num: 10\n",
      "success_num: 10 ; try_num: 10\n",
      "success_num: 10 ; try_num: 10\n",
      "success_num: 10 ; try_num: 37\n"
     ]
    },
    {
     "name": "stderr",
     "output_type": "stream",
     "text": [
      "1408it [08:56,  1.72it/s]"
     ]
    },
    {
     "name": "stdout",
     "output_type": "stream",
     "text": [
      "success_num: 10 ; try_num: 11\n",
      "success_num: 10 ; try_num: 12\n",
      "success_num: 10 ; try_num: 10\n",
      "success_num: 10 ; try_num: 11\n",
      "success_num: 10 ; try_num: 10\n",
      "success_num: 10 ; try_num: 10\n",
      "success_num: 10 ; try_num: 11\n",
      "success_num: 10 ; try_num: 10\n",
      "success_num: 10 ; try_num: 10\n",
      "success_num: 10 ; try_num: 10\n",
      "success_num: 10 ; try_num: 10\n",
      "success_num: 10 ; try_num: 10\n",
      "success_num: 10 ; try_num: 10\n",
      "success_num: 10 ; try_num: 10\n",
      "success_num: 10 ; try_num: 10\n",
      "success_num: 10 ; try_num: 10\n",
      "success_num: 10 ; try_num: 10\n",
      "failed to generate 3D coordinates for CCCCCCCCC(CCCCCC)C(=O)OCCCCCN(C(CCCN(CCCC)CCCC)C(=O)NC12C[C@H]3C[C@H](C[C@H](C3)C1)C2)C(=O)CCCCCCC\\C=C/C\\C=C/CCCCC use 2D coordinates instead\n",
      "success_num: 8 ; try_num: 50\n"
     ]
    },
    {
     "name": "stderr",
     "output_type": "stream",
     "text": [
      "1410it [09:02,  1.08it/s]"
     ]
    },
    {
     "name": "stdout",
     "output_type": "stream",
     "text": [
      "success_num: 10 ; try_num: 10\n",
      "success_num: 10 ; try_num: 10\n",
      "success_num: 10 ; try_num: 10\n",
      "success_num: 10 ; try_num: 10\n",
      "success_num: 10 ; try_num: 10\n",
      "success_num: 10 ; try_num: 10\n",
      "success_num: 10 ; try_num: 10\n",
      "success_num: 10 ; try_num: 10\n",
      "success_num: 10 ; try_num: 10\n",
      "success_num: 10 ; try_num: 10\n"
     ]
    },
    {
     "name": "stderr",
     "output_type": "stream",
     "text": [
      "1433it [09:04,  2.92it/s]"
     ]
    },
    {
     "name": "stdout",
     "output_type": "stream",
     "text": [
      "success_num: 10 ; try_num: 10\n",
      "success_num: 10 ; try_num: 10\n",
      "success_num: 10 ; try_num: 10\n",
      "success_num: 10 ; try_num: 10\n",
      "success_num: 10 ; try_num: 10\n",
      "success_num: 10 ; try_num: 10\n",
      "success_num: 10 ; try_num: 10\n",
      "success_num: 10 ; try_num: 10\n",
      "success_num: 10 ; try_num: 10\n",
      "success_num: 10 ; try_num: 10\n",
      "success_num: 10 ; try_num: 10\n",
      "success_num: 10 ; try_num: 10\n",
      "success_num: 10 ; try_num: 10\n",
      "success_num: 10 ; try_num: 10\n",
      "success_num: 10 ; try_num: 10\n",
      "success_num: 10 ; try_num: 10\n",
      "success_num: 10 ; try_num: 10\n",
      "success_num: 10 ; try_num: 10\n",
      "success_num: 10 ; try_num: 10\n"
     ]
    },
    {
     "name": "stderr",
     "output_type": "stream",
     "text": [
      "1440it [09:08,  2.56it/s]"
     ]
    },
    {
     "name": "stdout",
     "output_type": "stream",
     "text": [
      "success_num: 10 ; try_num: 10\n",
      "success_num: 10 ; try_num: 10\n",
      "success_num: 10 ; try_num: 10\n",
      "success_num: 10 ; try_num: 10\n"
     ]
    },
    {
     "name": "stderr",
     "output_type": "stream",
     "text": [
      "1462it [09:08,  5.03it/s]"
     ]
    },
    {
     "name": "stdout",
     "output_type": "stream",
     "text": [
      "success_num: 10 ; try_num: 10\n",
      "success_num: 10 ; try_num: 10\n",
      "success_num: 10 ; try_num: 10\n",
      "success_num: 10 ; try_num: 10\n",
      "success_num: 10 ; try_num: 10\n",
      "success_num: 10 ; try_num: 10\n",
      "success_num: 10 ; try_num: 10\n",
      "success_num: 10 ; try_num: 10\n",
      "success_num: 10 ; try_num: 10\n",
      "success_num: 10 ; try_num: 10\n",
      "success_num: 10 ; try_num: 10\n",
      "success_num: 10 ; try_num: 10\n",
      "success_num: 10 ; try_num: 10\n",
      "success_num: 10 ; try_num: 10\n",
      "success_num: 10 ; try_num: 10\n",
      "success_num: 10 ; try_num: 10\n"
     ]
    },
    {
     "name": "stderr",
     "output_type": "stream",
     "text": [
      "1470it [09:12,  3.95it/s]"
     ]
    },
    {
     "name": "stdout",
     "output_type": "stream",
     "text": [
      "success_num: 10 ; try_num: 10\n",
      "success_num: 10 ; try_num: 10\n",
      "success_num: 10 ; try_num: 10\n",
      "success_num: 10 ; try_num: 10\n",
      "success_num: 10 ; try_num: 10\n"
     ]
    },
    {
     "name": "stderr",
     "output_type": "stream",
     "text": [
      "1481it [09:12,  5.34it/s]"
     ]
    },
    {
     "name": "stdout",
     "output_type": "stream",
     "text": [
      "success_num: 10 ; try_num: 10\n",
      "success_num: 10 ; try_num: 10\n",
      "success_num: 10 ; try_num: 10\n",
      "success_num: 10 ; try_num: 10\n",
      "success_num: 10 ; try_num: 10\n",
      "success_num: 10 ; try_num: 10\n",
      "success_num: 10 ; try_num: 10\n",
      "success_num: 10 ; try_num: 10\n",
      "success_num: 10 ; try_num: 10\n"
     ]
    },
    {
     "name": "stderr",
     "output_type": "stream",
     "text": [
      "1486it [09:14,  4.44it/s]"
     ]
    },
    {
     "name": "stdout",
     "output_type": "stream",
     "text": [
      "success_num: 10 ; try_num: 10\n",
      "success_num: 10 ; try_num: 10\n",
      "success_num: 10 ; try_num: 10\n",
      "success_num: 10 ; try_num: 10\n",
      "success_num: 10 ; try_num: 10\n",
      "success_num: 10 ; try_num: 10\n",
      "success_num: 10 ; try_num: 10\n",
      "success_num: 10 ; try_num: 10\n",
      "success_num: 10 ; try_num: 10\n",
      "success_num: 10 ; try_num: 10\n"
     ]
    },
    {
     "name": "stderr",
     "output_type": "stream",
     "text": [
      "1496it [09:16,  4.42it/s]"
     ]
    },
    {
     "name": "stdout",
     "output_type": "stream",
     "text": [
      "success_num: 10 ; try_num: 10\n",
      "success_num: 10 ; try_num: 10\n",
      "success_num: 10 ; try_num: 10\n",
      "success_num: 10 ; try_num: 10\n"
     ]
    },
    {
     "name": "stderr",
     "output_type": "stream",
     "text": [
      "1500it [09:17,  4.63it/s]"
     ]
    },
    {
     "name": "stdout",
     "output_type": "stream",
     "text": [
      "success_num: 10 ; try_num: 10\n",
      "success_num: 10 ; try_num: 10\n",
      "success_num: 10 ; try_num: 10\n",
      "success_num: 10 ; try_num: 10\n",
      "success_num: 10 ; try_num: 10\n"
     ]
    },
    {
     "name": "stderr",
     "output_type": "stream",
     "text": [
      "1512it [09:18,  6.26it/s]"
     ]
    },
    {
     "name": "stdout",
     "output_type": "stream",
     "text": [
      "success_num: 10 ; try_num: 10\n"
     ]
    },
    {
     "name": "stderr",
     "output_type": "stream",
     "text": [
      "1516it [09:18,  6.92it/s]"
     ]
    },
    {
     "name": "stdout",
     "output_type": "stream",
     "text": [
      "success_num: 10 ; try_num: 10\n",
      "success_num: 10 ; try_num: 10\n",
      "success_num: 10 ; try_num: 10\n",
      "success_num: 10 ; try_num: 10\n",
      "success_num: 10 ; try_num: 10\n"
     ]
    },
    {
     "name": "stderr",
     "output_type": "stream",
     "text": [
      "1521it [09:20,  5.22it/s]"
     ]
    },
    {
     "name": "stdout",
     "output_type": "stream",
     "text": [
      "success_num: 10 ; try_num: 10\n",
      "success_num: 10 ; try_num: 10\n",
      "success_num: 10 ; try_num: 10\n",
      "success_num: 10 ; try_num: 10\n"
     ]
    },
    {
     "name": "stderr",
     "output_type": "stream",
     "text": [
      "1523it [09:20,  5.41it/s]"
     ]
    },
    {
     "name": "stdout",
     "output_type": "stream",
     "text": [
      "success_num: 10 ; try_num: 10\n",
      "success_num: 10 ; try_num: 10\n",
      "success_num: 10 ; try_num: 10\n",
      "success_num: 10 ; try_num: 10\n"
     ]
    },
    {
     "name": "stderr",
     "output_type": "stream",
     "text": [
      "1526it [09:21,  4.86it/s]"
     ]
    },
    {
     "name": "stdout",
     "output_type": "stream",
     "text": [
      "success_num: 10 ; try_num: 12\n"
     ]
    },
    {
     "name": "stderr",
     "output_type": "stream",
     "text": [
      "1530it [09:21,  6.29it/s]"
     ]
    },
    {
     "name": "stdout",
     "output_type": "stream",
     "text": [
      "success_num: 10 ; try_num: 10\n"
     ]
    },
    {
     "name": "stderr",
     "output_type": "stream",
     "text": [
      "1534it [09:22,  6.92it/s]"
     ]
    },
    {
     "name": "stdout",
     "output_type": "stream",
     "text": [
      "success_num: 10 ; try_num: 10\n"
     ]
    },
    {
     "name": "stderr",
     "output_type": "stream",
     "text": [
      "1536it [09:22,  2.73it/s]"
     ]
    },
    {
     "name": "stdout",
     "output_type": "stream",
     "text": [
      "train.lmdb process 1536 lines\n"
     ]
    },
    {
     "name": "stderr",
     "output_type": "stream",
     "text": [
      "\n",
      "0it [00:00, ?it/s]"
     ]
    },
    {
     "name": "stdout",
     "output_type": "stream",
     "text": [
      "success_num: 10 ; try_num: 10\n",
      "success_num: 10 ; try_num: 10\n",
      "success_num: 10 ; try_num: 10\n",
      "success_num: 10 ; try_num: 10\n",
      "success_num: 10 ; try_num: 10\n",
      "success_num: 10 ; try_num: 10\n",
      "success_num: 10 ; try_num: 10\n",
      "success_num: 10 ; try_num: 10\n",
      "success_num: 10 ; try_num: 10\n",
      "success_num: 10 ; try_num: 10\n",
      "success_num: 10 ; try_num: 10\n",
      "success_num: 10 ; try_num: 10\n",
      "success_num: 10 ; try_num: 10\n",
      "success_num: 10 ; try_num: 10\n",
      "success_num: 10 ; try_num: 10\n",
      "success_num: 10 ; try_num: 10\n",
      "success_num: 10 ; try_num: 10\n",
      "success_num: 10 ; try_num: 10\n",
      "success_num: 10 ; try_num: 10\n"
     ]
    },
    {
     "name": "stderr",
     "output_type": "stream",
     "text": [
      "1it [00:04,  4.46s/it]"
     ]
    },
    {
     "name": "stdout",
     "output_type": "stream",
     "text": [
      "success_num: 10 ; try_num: 10\n",
      "success_num: 10 ; try_num: 10\n",
      "success_num: 10 ; try_num: 10\n"
     ]
    },
    {
     "name": "stderr",
     "output_type": "stream",
     "text": [
      "17it [00:05,  4.03it/s]"
     ]
    },
    {
     "name": "stdout",
     "output_type": "stream",
     "text": [
      "success_num: 10 ; try_num: 10\n",
      "success_num: 10 ; try_num: 10\n"
     ]
    },
    {
     "name": "stderr",
     "output_type": "stream",
     "text": [
      "20it [00:06,  4.23it/s]"
     ]
    },
    {
     "name": "stdout",
     "output_type": "stream",
     "text": [
      "success_num: 10 ; try_num: 10\n",
      "success_num: 10 ; try_num: 10\n",
      "success_num: 10 ; try_num: 10\n",
      "success_num: 10 ; try_num: 10\n",
      "success_num: 10 ; try_num: 10\n"
     ]
    },
    {
     "name": "stderr",
     "output_type": "stream",
     "text": [
      "22it [00:06,  3.66it/s]"
     ]
    },
    {
     "name": "stdout",
     "output_type": "stream",
     "text": [
      "success_num: 10 ; try_num: 10\n"
     ]
    },
    {
     "name": "stderr",
     "output_type": "stream",
     "text": [
      "30it [00:07,  6.11it/s]"
     ]
    },
    {
     "name": "stdout",
     "output_type": "stream",
     "text": [
      "success_num: 10 ; try_num: 10\n",
      "success_num: 10 ; try_num: 10\n",
      "success_num: 10 ; try_num: 10\n",
      "success_num: 10 ; try_num: 10\n",
      "success_num: 10 ; try_num: 10\n",
      "success_num: 10 ; try_num: 10\n",
      "success_num: 10 ; try_num: 10\n",
      "success_num: 10 ; try_num: 10\n",
      "success_num: 10 ; try_num: 10\n"
     ]
    },
    {
     "name": "stderr",
     "output_type": "stream",
     "text": [
      "32it [00:10,  2.73it/s]"
     ]
    },
    {
     "name": "stdout",
     "output_type": "stream",
     "text": [
      "success_num: 10 ; try_num: 10\n",
      "success_num: 10 ; try_num: 10\n",
      "success_num: 10 ; try_num: 10\n",
      "success_num: 10 ; try_num: 10\n",
      "success_num: 10 ; try_num: 10\n"
     ]
    },
    {
     "name": "stderr",
     "output_type": "stream",
     "text": [
      "34it [00:11,  2.32it/s]"
     ]
    },
    {
     "name": "stdout",
     "output_type": "stream",
     "text": [
      "success_num: 10 ; try_num: 10\n",
      "success_num: 10 ; try_num: 10\n",
      "success_num: 10 ; try_num: 10\n",
      "success_num: 10 ; try_num: 10\n",
      "success_num: 10 ; try_num: 10\n",
      "success_num: 10 ; try_num: 10\n",
      "success_num: 10 ; try_num: 10\n"
     ]
    },
    {
     "name": "stderr",
     "output_type": "stream",
     "text": [
      "36it [00:13,  1.87it/s]"
     ]
    },
    {
     "name": "stdout",
     "output_type": "stream",
     "text": [
      "success_num: 10 ; try_num: 10\n",
      "success_num: 10 ; try_num: 10\n",
      "success_num: 10 ; try_num: 10\n",
      "success_num: 10 ; try_num: 10\n",
      "success_num: 10 ; try_num: 10\n",
      "success_num: 10 ; try_num: 10\n"
     ]
    },
    {
     "name": "stderr",
     "output_type": "stream",
     "text": [
      "46it [00:16,  2.72it/s]"
     ]
    },
    {
     "name": "stdout",
     "output_type": "stream",
     "text": [
      "success_num: 10 ; try_num: 10\n",
      "success_num: 10 ; try_num: 10\n",
      "success_num: 10 ; try_num: 10\n",
      "success_num: 10 ; try_num: 10\n",
      "success_num: 10 ; try_num: 10\n",
      "success_num: 10 ; try_num: 10\n",
      "success_num: 10 ; try_num: 10\n",
      "success_num: 10 ; try_num: 10\n",
      "success_num: 10 ; try_num: 10\n",
      "success_num: 10 ; try_num: 10\n",
      "success_num: 10 ; try_num: 10\n"
     ]
    },
    {
     "name": "stderr",
     "output_type": "stream",
     "text": [
      "57it [00:19,  3.18it/s]"
     ]
    },
    {
     "name": "stdout",
     "output_type": "stream",
     "text": [
      "success_num: 10 ; try_num: 10\n",
      "success_num: 10 ; try_num: 10\n",
      "success_num: 10 ; try_num: 10\n",
      "success_num: 10 ; try_num: 10\n",
      "success_num: 10 ; try_num: 10\n",
      "success_num: 10 ; try_num: 10\n",
      "success_num: 10 ; try_num: 10\n",
      "success_num: 10 ; try_num: 10\n"
     ]
    },
    {
     "name": "stderr",
     "output_type": "stream",
     "text": [
      "67it [00:22,  3.29it/s]"
     ]
    },
    {
     "name": "stdout",
     "output_type": "stream",
     "text": [
      "success_num: 10 ; try_num: 10\n",
      "success_num: 10 ; try_num: 10\n",
      "success_num: 10 ; try_num: 10\n",
      "success_num: 10 ; try_num: 10\n",
      "success_num: 10 ; try_num: 10\n",
      "success_num: 10 ; try_num: 10\n",
      "success_num: 10 ; try_num: 10\n",
      "success_num: 10 ; try_num: 10\n",
      "success_num: 10 ; try_num: 10\n"
     ]
    },
    {
     "name": "stderr",
     "output_type": "stream",
     "text": [
      "72it [00:24,  2.85it/s]"
     ]
    },
    {
     "name": "stdout",
     "output_type": "stream",
     "text": [
      "success_num: 10 ; try_num: 10\n",
      "success_num: 10 ; try_num: 10\n",
      "success_num: 10 ; try_num: 10\n",
      "success_num: 10 ; try_num: 10\n",
      "success_num: 10 ; try_num: 10\n",
      "success_num: 10 ; try_num: 10\n"
     ]
    },
    {
     "name": "stderr",
     "output_type": "stream",
     "text": [
      "79it [00:25,  3.35it/s]"
     ]
    },
    {
     "name": "stdout",
     "output_type": "stream",
     "text": [
      "success_num: 10 ; try_num: 10\n",
      "success_num: 10 ; try_num: 10\n",
      "success_num: 10 ; try_num: 10\n"
     ]
    },
    {
     "name": "stderr",
     "output_type": "stream",
     "text": [
      "88it [00:27,  4.19it/s]"
     ]
    },
    {
     "name": "stdout",
     "output_type": "stream",
     "text": [
      "success_num: 10 ; try_num: 10\n",
      "success_num: 10 ; try_num: 10\n",
      "success_num: 10 ; try_num: 10\n",
      "success_num: 10 ; try_num: 10\n",
      "success_num: 10 ; try_num: 10\n",
      "success_num: 10 ; try_num: 10\n",
      "success_num: 10 ; try_num: 10\n",
      "success_num: 10 ; try_num: 10\n",
      "success_num: 10 ; try_num: 10\n"
     ]
    },
    {
     "name": "stderr",
     "output_type": "stream",
     "text": [
      "95it [00:30,  3.35it/s]"
     ]
    },
    {
     "name": "stdout",
     "output_type": "stream",
     "text": [
      "success_num: 10 ; try_num: 10\n",
      "success_num: 10 ; try_num: 10\n",
      "success_num: 10 ; try_num: 10\n",
      "success_num: 10 ; try_num: 10\n"
     ]
    },
    {
     "name": "stderr",
     "output_type": "stream",
     "text": [
      "97it [00:31,  2.83it/s]"
     ]
    },
    {
     "name": "stdout",
     "output_type": "stream",
     "text": [
      "success_num: 10 ; try_num: 10\n"
     ]
    },
    {
     "name": "stderr",
     "output_type": "stream",
     "text": [
      "100it [00:32,  3.03it/s]"
     ]
    },
    {
     "name": "stdout",
     "output_type": "stream",
     "text": [
      "success_num: 10 ; try_num: 10\n",
      "success_num: 10 ; try_num: 10\n",
      "success_num: 10 ; try_num: 10\n",
      "success_num: 10 ; try_num: 10\n",
      "success_num: 10 ; try_num: 10\n",
      "success_num: 10 ; try_num: 13\n",
      "success_num: 10 ; try_num: 10\n"
     ]
    },
    {
     "name": "stderr",
     "output_type": "stream",
     "text": [
      "106it [00:34,  3.26it/s]"
     ]
    },
    {
     "name": "stdout",
     "output_type": "stream",
     "text": [
      "success_num: 10 ; try_num: 12\n"
     ]
    },
    {
     "name": "stderr",
     "output_type": "stream",
     "text": [
      "114it [00:34,  5.07it/s]"
     ]
    },
    {
     "name": "stdout",
     "output_type": "stream",
     "text": [
      "success_num: 10 ; try_num: 10\n",
      "success_num: 10 ; try_num: 10\n",
      "success_num: 10 ; try_num: 10\n",
      "success_num: 10 ; try_num: 10\n"
     ]
    },
    {
     "name": "stderr",
     "output_type": "stream",
     "text": [
      "116it [00:35,  3.83it/s]"
     ]
    },
    {
     "name": "stdout",
     "output_type": "stream",
     "text": [
      "success_num: 10 ; try_num: 10\n",
      "success_num: 10 ; try_num: 10\n",
      "success_num: 10 ; try_num: 11\n",
      "success_num: 10 ; try_num: 10\n",
      "success_num: 10 ; try_num: 10\n",
      "success_num: 10 ; try_num: 10\n",
      "success_num: 10 ; try_num: 10\n",
      "success_num: 10 ; try_num: 10\n"
     ]
    },
    {
     "name": "stderr",
     "output_type": "stream",
     "text": [
      "119it [00:38,  2.62it/s]"
     ]
    },
    {
     "name": "stdout",
     "output_type": "stream",
     "text": [
      "success_num: 10 ; try_num: 10\n",
      "success_num: 10 ; try_num: 10\n",
      "success_num: 10 ; try_num: 10\n",
      "success_num: 10 ; try_num: 10\n",
      "success_num: 10 ; try_num: 10\n",
      "success_num: 10 ; try_num: 10\n",
      "success_num: 10 ; try_num: 10\n",
      "success_num: 10 ; try_num: 10\n"
     ]
    },
    {
     "name": "stderr",
     "output_type": "stream",
     "text": [
      "122it [00:40,  2.04it/s]"
     ]
    },
    {
     "name": "stdout",
     "output_type": "stream",
     "text": [
      "success_num: 10 ; try_num: 10\n",
      "success_num: 10 ; try_num: 10\n",
      "success_num: 10 ; try_num: 10\n",
      "success_num: 10 ; try_num: 10\n",
      "success_num: 10 ; try_num: 10\n",
      "success_num: 10 ; try_num: 10\n"
     ]
    },
    {
     "name": "stderr",
     "output_type": "stream",
     "text": [
      "130it [00:42,  2.95it/s]"
     ]
    },
    {
     "name": "stdout",
     "output_type": "stream",
     "text": [
      "success_num: 10 ; try_num: 10\n",
      "success_num: 10 ; try_num: 10\n",
      "success_num: 10 ; try_num: 10\n"
     ]
    },
    {
     "name": "stderr",
     "output_type": "stream",
     "text": [
      "137it [00:43,  3.83it/s]"
     ]
    },
    {
     "name": "stdout",
     "output_type": "stream",
     "text": [
      "success_num: 10 ; try_num: 10\n",
      "success_num: 10 ; try_num: 10\n"
     ]
    },
    {
     "name": "stderr",
     "output_type": "stream",
     "text": [
      "146it [00:43,  5.96it/s]"
     ]
    },
    {
     "name": "stdout",
     "output_type": "stream",
     "text": [
      "success_num: 10 ; try_num: 10\n",
      "success_num: 10 ; try_num: 10\n",
      "success_num: 10 ; try_num: 10\n",
      "success_num: 10 ; try_num: 10\n",
      "success_num: 10 ; try_num: 10\n",
      "success_num: 10 ; try_num: 10\n",
      "success_num: 10 ; try_num: 10\n",
      "success_num: 10 ; try_num: 10\n",
      "success_num: 10 ; try_num: 10\n",
      "success_num: 10 ; try_num: 10\n",
      "success_num: 10 ; try_num: 10\n",
      "success_num: 10 ; try_num: 10\n",
      "success_num: 10 ; try_num: 10\n",
      "success_num: 10 ; try_num: 10\n"
     ]
    },
    {
     "name": "stderr",
     "output_type": "stream",
     "text": [
      "148it [00:47,  2.47it/s]"
     ]
    },
    {
     "name": "stdout",
     "output_type": "stream",
     "text": [
      "success_num: 10 ; try_num: 10\n"
     ]
    },
    {
     "name": "stderr",
     "output_type": "stream",
     "text": [
      "151it [00:48,  2.79it/s]"
     ]
    },
    {
     "name": "stdout",
     "output_type": "stream",
     "text": [
      "success_num: 10 ; try_num: 10\n",
      "success_num: 10 ; try_num: 10\n",
      "success_num: 10 ; try_num: 10\n",
      "success_num: 10 ; try_num: 10\n"
     ]
    },
    {
     "name": "stderr",
     "output_type": "stream",
     "text": [
      "157it [00:49,  3.34it/s]"
     ]
    },
    {
     "name": "stdout",
     "output_type": "stream",
     "text": [
      "success_num: 10 ; try_num: 10\n"
     ]
    },
    {
     "name": "stderr",
     "output_type": "stream",
     "text": [
      "167it [00:49,  5.72it/s]"
     ]
    },
    {
     "name": "stdout",
     "output_type": "stream",
     "text": [
      "success_num: 10 ; try_num: 10\n",
      "success_num: 10 ; try_num: 10\n",
      "success_num: 10 ; try_num: 10\n",
      "success_num: 10 ; try_num: 10\n",
      "success_num: 10 ; try_num: 10\n",
      "success_num: 10 ; try_num: 10\n",
      "success_num: 10 ; try_num: 10\n",
      "success_num: 10 ; try_num: 10\n",
      "success_num: 10 ; try_num: 10\n",
      "success_num: 10 ; try_num: 10\n",
      "success_num: 10 ; try_num: 10\n",
      "success_num: 10 ; try_num: 10\n",
      "success_num: 10 ; try_num: 10\n",
      "success_num: 10 ; try_num: 10\n"
     ]
    },
    {
     "name": "stderr",
     "output_type": "stream",
     "text": [
      "169it [00:53,  2.54it/s]"
     ]
    },
    {
     "name": "stdout",
     "output_type": "stream",
     "text": [
      "success_num: 10 ; try_num: 10\n",
      "success_num: 10 ; try_num: 10\n",
      "success_num: 10 ; try_num: 10\n",
      "success_num: 10 ; try_num: 10\n"
     ]
    },
    {
     "name": "stderr",
     "output_type": "stream",
     "text": [
      "174it [00:55,  2.57it/s]"
     ]
    },
    {
     "name": "stdout",
     "output_type": "stream",
     "text": [
      "success_num: 10 ; try_num: 10\n",
      "success_num: 10 ; try_num: 10\n",
      "success_num: 10 ; try_num: 10\n",
      "success_num: 10 ; try_num: 10\n"
     ]
    },
    {
     "name": "stderr",
     "output_type": "stream",
     "text": [
      "187it [00:56,  4.79it/s]"
     ]
    },
    {
     "name": "stdout",
     "output_type": "stream",
     "text": [
      "success_num: 10 ; try_num: 10\n"
     ]
    },
    {
     "name": "stderr",
     "output_type": "stream",
     "text": [
      "189it [00:56,  5.16it/s]"
     ]
    },
    {
     "name": "stdout",
     "output_type": "stream",
     "text": [
      "success_num: 10 ; try_num: 10\n",
      "success_num: 10 ; try_num: 10\n"
     ]
    },
    {
     "name": "stderr",
     "output_type": "stream",
     "text": [
      "192it [00:57,  3.34it/s]"
     ]
    },
    {
     "name": "stdout",
     "output_type": "stream",
     "text": [
      "valid.lmdb process 192 lines\n"
     ]
    },
    {
     "name": "stderr",
     "output_type": "stream",
     "text": [
      "\n",
      "0it [00:00, ?it/s]"
     ]
    },
    {
     "name": "stdout",
     "output_type": "stream",
     "text": [
      "success_num: 10 ; try_num: 10\n",
      "success_num: 10 ; try_num: 10\n",
      "success_num: 10 ; try_num:success_num: 10 \n",
      "10 ; try_num: 10\n",
      "success_num: 10 ; try_num: 10\n"
     ]
    },
    {
     "name": "stderr",
     "output_type": "stream",
     "text": [
      "1it [00:02,  2.86s/it]"
     ]
    },
    {
     "name": "stdout",
     "output_type": "stream",
     "text": [
      "success_num: 10 ; try_num: 10\n",
      "success_num: 10 ; try_num: 10\n",
      "success_num: 10 ; try_num: 10\n",
      "success_num: 10 ; try_num: 10\n",
      "success_num: 10 ; try_num: 10\n",
      "success_num: 10 ; try_num: 10\n",
      "success_num: 10 ; try_num: 10\n",
      "success_num: 10 ; try_num: 10\n",
      "success_num: 10 ; try_num: 10\n",
      "success_num: 10 ; try_num: 10\n",
      "success_num: 10 ; try_num: 10\n",
      "success_num: 10 ; try_num: 10\n",
      "success_num: 10 ; try_num: 10\n"
     ]
    },
    {
     "name": "stderr",
     "output_type": "stream",
     "text": [
      "2it [00:07,  3.71s/it]"
     ]
    },
    {
     "name": "stdout",
     "output_type": "stream",
     "text": [
      "success_num: 10 ; try_num: 10\n",
      "success_num: 10 ; try_num: 10\n"
     ]
    },
    {
     "name": "stderr",
     "output_type": "stream",
     "text": [
      "8it [00:08,  1.35it/s]"
     ]
    },
    {
     "name": "stdout",
     "output_type": "stream",
     "text": [
      "success_num: 10 ; try_num: 10\n",
      "success_num: 10 ; try_num: 10\n",
      "success_num: 10 ; try_num: 10\n"
     ]
    },
    {
     "name": "stderr",
     "output_type": "stream",
     "text": [
      "22it [00:08,  4.49it/s]"
     ]
    },
    {
     "name": "stdout",
     "output_type": "stream",
     "text": [
      "success_num: 10 ; try_num: 10\n",
      "success_num: 10 ; try_num: 10\n"
     ]
    },
    {
     "name": "stderr",
     "output_type": "stream",
     "text": [
      "24it [00:09,  4.04it/s]"
     ]
    },
    {
     "name": "stdout",
     "output_type": "stream",
     "text": [
      "success_num: 10 ; try_num: 10\n",
      "success_num: 10 ; try_num: 10\n"
     ]
    },
    {
     "name": "stderr",
     "output_type": "stream",
     "text": [
      "26it [00:09,  4.31it/s]"
     ]
    },
    {
     "name": "stdout",
     "output_type": "stream",
     "text": [
      "success_num: 10 ; try_num: 10\n",
      "success_num: 10 ; try_num: 10\n",
      "success_num: 10 ; try_num: 10\n",
      "success_num: 10 ; try_num: 10\n",
      "success_num: 10 ; try_num: 10\n",
      "success_num: 10 ; try_num: 10\n"
     ]
    },
    {
     "name": "stderr",
     "output_type": "stream",
     "text": [
      "27it [00:12,  1.87it/s]"
     ]
    },
    {
     "name": "stdout",
     "output_type": "stream",
     "text": [
      "success_num: 10 ; try_num: 10\n",
      "success_num: 10 ; try_num: 10\n",
      "success_num: 10 ; try_num: 11\n",
      "success_num: 10 ; try_num: 12\n",
      "success_num: 10 ; try_num: 10\n",
      "success_num: 10 ; try_num: 10\n",
      "success_num: 10 ; try_num: 10\n",
      "success_num: 10 ; try_num: 10\n",
      "success_num: 10 ; try_num: 10\n"
     ]
    },
    {
     "name": "stderr",
     "output_type": "stream",
     "text": [
      "30it [00:15,  1.55it/s]"
     ]
    },
    {
     "name": "stdout",
     "output_type": "stream",
     "text": [
      "success_num: 10 ; try_num: 10\n",
      "success_num: 10 ; try_num: 10\n",
      "success_num: 10 ; try_num: 10\n",
      "success_num: 10 ; try_num: 13\n"
     ]
    },
    {
     "name": "stderr",
     "output_type": "stream",
     "text": [
      "42it [00:16,  3.63it/s]"
     ]
    },
    {
     "name": "stdout",
     "output_type": "stream",
     "text": [
      "success_num: 10 ; try_num: 10\n",
      "success_num: 10 ; try_num: 10\n",
      "success_num: 10 ; try_num: 10\n",
      "success_num: 10 ; try_num: 10\n",
      "success_num: 10 ; try_num: 10\n",
      "success_num: 10 ; try_num: 10\n"
     ]
    },
    {
     "name": "stderr",
     "output_type": "stream",
     "text": [
      "45it [00:19,  2.56it/s]"
     ]
    },
    {
     "name": "stdout",
     "output_type": "stream",
     "text": [
      "success_num: 10 ; try_num: 10\n",
      "success_num: 10 ; try_num: 10\n",
      "success_num: 10 ; try_num: 10\n"
     ]
    },
    {
     "name": "stderr",
     "output_type": "stream",
     "text": [
      "51it [00:19,  3.58it/s]"
     ]
    },
    {
     "name": "stdout",
     "output_type": "stream",
     "text": [
      "success_num: 10 ; try_num: 10\n",
      "success_num: 10 ; try_num: 10\n",
      "success_num: 10 ; try_num: 10\n",
      "success_num: 10 ; try_num: 10\n",
      "success_num: 10 ; try_num: 10\n",
      "success_num: 10 ; try_num: 10\n"
     ]
    },
    {
     "name": "stderr",
     "output_type": "stream",
     "text": [
      "57it [00:21,  3.09it/s]"
     ]
    },
    {
     "name": "stdout",
     "output_type": "stream",
     "text": [
      "success_num: 10 ; try_num: 10\n",
      "success_num: 10 ; try_num: 10\n",
      "success_num: 10 ; try_num: 10\n",
      "success_num: 10 ; try_num: 10\n",
      "success_num: 10 ; try_num: 10\n",
      "success_num: 10 ; try_num: 10\n"
     ]
    },
    {
     "name": "stderr",
     "output_type": "stream",
     "text": [
      "59it [00:23,  2.86it/s]"
     ]
    },
    {
     "name": "stdout",
     "output_type": "stream",
     "text": [
      "success_num: 10 ; try_num: 10\n",
      "success_num: 10 ; try_num: 10\n",
      "success_num: 10 ; try_num: 10\n",
      "success_num: 10 ; try_num: 10\n",
      "success_num: 10 ; try_num: 10\n"
     ]
    },
    {
     "name": "stderr",
     "output_type": "stream",
     "text": [
      "62it [00:24,  2.38it/s]"
     ]
    },
    {
     "name": "stdout",
     "output_type": "stream",
     "text": [
      "success_num: 10 ; try_num: 10\n",
      "success_num: 10 ; try_num: 10\n",
      "success_num: 10 ; try_num: 10\n",
      "success_num: 10 ; try_num: 10\n",
      "success_num: 10 ; try_num: 10\n",
      "success_num: 10 ; try_num: 10\n",
      "success_num: 10 ; try_num: 10\n",
      "success_num: 10 ; try_num: 10\n",
      "success_num: 10 ; try_num: 10\n"
     ]
    },
    {
     "name": "stderr",
     "output_type": "stream",
     "text": [
      "73it [00:28,  2.75it/s]"
     ]
    },
    {
     "name": "stdout",
     "output_type": "stream",
     "text": [
      "success_num: 10 ; try_num: 10\n",
      "success_num: 10 ; try_num: 10\n",
      "success_num: 10 ; try_num: 10\n",
      "success_num: 10 ; try_num: 10\n",
      "success_num: 10 ; try_num: 10\n",
      "success_num: 10 ; try_num: 10\n",
      "success_num: 10 ; try_num: 10\n",
      "success_num: 10 ; try_num: 10\n"
     ]
    },
    {
     "name": "stderr",
     "output_type": "stream",
     "text": [
      "79it [00:31,  2.35it/s]"
     ]
    },
    {
     "name": "stdout",
     "output_type": "stream",
     "text": [
      "success_num: 10 ; try_num: 10\n",
      "success_num: 10 ; try_num: 10\n",
      "success_num: 10 ; try_num: 10\n",
      "success_num: 10 ; try_num: 10\n",
      "success_num: 10 ; try_num: 10\n",
      "success_num: 10 ; try_num: 10\n",
      "success_num: 10 ; try_num: 10\n",
      "success_num: 10 ; try_num: 10\n",
      "success_num: 10 ; try_num: 10\n"
     ]
    },
    {
     "name": "stderr",
     "output_type": "stream",
     "text": [
      "84it [00:35,  2.03it/s]"
     ]
    },
    {
     "name": "stdout",
     "output_type": "stream",
     "text": [
      "success_num: 10 ; try_num: 10\n"
     ]
    },
    {
     "name": "stderr",
     "output_type": "stream",
     "text": [
      "89it [00:35,  2.59it/s]"
     ]
    },
    {
     "name": "stdout",
     "output_type": "stream",
     "text": [
      "success_num: 10 ; try_num: 10\n"
     ]
    },
    {
     "name": "stderr",
     "output_type": "stream",
     "text": [
      "93it [00:36,  3.06it/s]"
     ]
    },
    {
     "name": "stdout",
     "output_type": "stream",
     "text": [
      "success_num: 10 ; try_num: 10\n",
      "success_num: 10 ; try_num: 10\n",
      "success_num: 10success_num:  ; try_num:10  10; try_num:\n",
      " 10\n",
      "success_num: 10 ; try_num: 10\n",
      "success_num: 10 ; try_num: 10\n"
     ]
    },
    {
     "name": "stderr",
     "output_type": "stream",
     "text": [
      "101it [00:37,  3.82it/s]"
     ]
    },
    {
     "name": "stdout",
     "output_type": "stream",
     "text": [
      "success_num: 10 ; try_num: 10\n"
     ]
    },
    {
     "name": "stderr",
     "output_type": "stream",
     "text": [
      "107it [00:37,  5.17it/s]"
     ]
    },
    {
     "name": "stdout",
     "output_type": "stream",
     "text": [
      "success_num: 10 ; try_num: 10\n",
      "success_num: 10 ; try_num: 10\n"
     ]
    },
    {
     "name": "stderr",
     "output_type": "stream",
     "text": [
      "109it [00:38,  4.63it/s]"
     ]
    },
    {
     "name": "stdout",
     "output_type": "stream",
     "text": [
      "success_num: 10 ; try_num: 10\n",
      "success_num: 10 ; try_num: 10\n",
      "success_num: 10 ; try_num: 10\n",
      "success_num: 10 ; try_num: 10\n",
      "success_num:success_num:  1010  ; try_num:; try_num:  1010\n",
      "\n",
      "success_num: 10 ; try_num: 10\n",
      "success_num: 10 ; try_num: 10\n",
      "success_num: 10 ; try_num: 10\n",
      "success_num: 10 ; try_num: 10\n",
      "success_num: 10 ; try_num: 10\n",
      "success_num: 10 ; try_num: 10\n",
      "success_num: 10 ; try_num: 10\n",
      "success_num: 10 ; try_num: 10\n",
      "success_num: 10 ; try_num: 10\n"
     ]
    },
    {
     "name": "stderr",
     "output_type": "stream",
     "text": [
      "110it [00:44,  1.41it/s]"
     ]
    },
    {
     "name": "stdout",
     "output_type": "stream",
     "text": [
      "success_num: 10 ; try_num: 10success_num:\n",
      " 10 ; try_num: 10\n"
     ]
    },
    {
     "name": "stderr",
     "output_type": "stream",
     "text": [
      "112it [00:45,  1.64it/s]"
     ]
    },
    {
     "name": "stdout",
     "output_type": "stream",
     "text": [
      "success_num: 10 ; try_num: 10\n",
      "success_num: 10 ; try_num: 10\n",
      "success_num: 10 ; try_num: 10\n",
      "success_num: 10 ; try_num: 10\n"
     ]
    },
    {
     "name": "stderr",
     "output_type": "stream",
     "text": [
      "118it [00:47,  2.07it/s]"
     ]
    },
    {
     "name": "stdout",
     "output_type": "stream",
     "text": [
      "success_num: 10 ; try_num: 10\n",
      "success_num: 10 ; try_num: 10\n",
      "success_num: 10 ; try_num: 10\n",
      "success_num: 10 ; try_num: 10\n",
      "success_num: 10 ; try_num: 10\n",
      "success_num: 10 ; try_num: 10\n",
      "success_num: 10 ; try_num: 10\n",
      "success_num: 10 ; try_num: 10\n"
     ]
    },
    {
     "name": "stderr",
     "output_type": "stream",
     "text": [
      "131it [00:50,  2.85it/s]"
     ]
    },
    {
     "name": "stdout",
     "output_type": "stream",
     "text": [
      "success_num: 10 ; try_num: 10\n",
      "success_num: 10 ; try_num: 10\n"
     ]
    },
    {
     "name": "stderr",
     "output_type": "stream",
     "text": [
      "136it [00:51,  3.09it/s]"
     ]
    },
    {
     "name": "stdout",
     "output_type": "stream",
     "text": [
      "success_num: 10 ; try_num: 10\n",
      "success_num: 10 ; try_num: 10\n",
      "success_num: 10 ; try_num: 10\n",
      "success_num: 10 ; try_num: 10\n",
      "success_num: 10 ; try_num: 10\n",
      "success_num: 10 ; try_num: 10\n",
      "success_num: 10 ; try_num: 10\n",
      "success_num: 10 ; try_num: 10\n",
      "success_num: 10 ; try_num: 10\n"
     ]
    },
    {
     "name": "stderr",
     "output_type": "stream",
     "text": [
      "138it [00:55,  1.97it/s]"
     ]
    },
    {
     "name": "stdout",
     "output_type": "stream",
     "text": [
      "success_num: 10 ; try_num: 10\n",
      "success_num: 10 ; try_num: 10\n",
      "success_num: 10 ; try_num: 10\n",
      "success_num: 10 ; try_num: 10\n",
      "success_num: 10 ; try_num: 10\n",
      "success_num: 10 ; try_num: 10\n",
      "success_num: 10 ; try_num: 10\n",
      "success_num: 10 ; try_num: 10\n"
     ]
    },
    {
     "name": "stderr",
     "output_type": "stream",
     "text": [
      "149it [00:58,  2.57it/s]"
     ]
    },
    {
     "name": "stdout",
     "output_type": "stream",
     "text": [
      "success_num: 10 ; try_num: 10\n"
     ]
    },
    {
     "name": "stderr",
     "output_type": "stream",
     "text": [
      "158it [00:59,  3.57it/s]"
     ]
    },
    {
     "name": "stdout",
     "output_type": "stream",
     "text": [
      "success_num: 10 ; try_num: 10\n",
      "success_num: 10 ; try_num: 10\n",
      "success_num: 10 ; try_num: 10\n",
      "success_num: 10 ; try_num: 10\n",
      "success_num: 10 ; try_num: 10\n",
      "success_num: 10 ; try_num: 10\n",
      "success_num: 10 ; try_num: 10\n",
      "success_num: 10 ; try_num: 10\n",
      "success_num: 10 ; try_num: 10\n",
      "success_num: 10 ; try_num: 10\n",
      "success_num: 10 ; try_num: 10\n"
     ]
    },
    {
     "name": "stderr",
     "output_type": "stream",
     "text": [
      "159it [01:03,  1.97it/s]"
     ]
    },
    {
     "name": "stdout",
     "output_type": "stream",
     "text": [
      "success_num: 10 ; try_num: 10\n",
      "success_num: 10 ; try_num: 10\n",
      "success_num: 10 ; try_num: 10\n",
      "success_num: 10 ; try_num: 10\n",
      "success_num: 10 ; try_num: 10\n",
      "success_num: 10 ; try_num: 10\n",
      "success_num: 10 ; try_num: 10\n"
     ]
    },
    {
     "name": "stderr",
     "output_type": "stream",
     "text": [
      "160it [01:05,  1.58it/s]"
     ]
    },
    {
     "name": "stdout",
     "output_type": "stream",
     "text": [
      "success_num: 10 ; try_num: 10\n"
     ]
    },
    {
     "name": "stderr",
     "output_type": "stream",
     "text": [
      "169it [01:06,  2.70it/s]"
     ]
    },
    {
     "name": "stdout",
     "output_type": "stream",
     "text": [
      "success_num: 10 ; try_num: 10\n",
      "success_num: 10 ; try_num: 10\n"
     ]
    },
    {
     "name": "stderr",
     "output_type": "stream",
     "text": [
      "171it [01:06,  2.87it/s]"
     ]
    },
    {
     "name": "stdout",
     "output_type": "stream",
     "text": [
      "success_num: 10 ; try_num: 10\n",
      "success_num: 10 ; try_num: 10\n"
     ]
    },
    {
     "name": "stderr",
     "output_type": "stream",
     "text": [
      "180it [01:07,  4.44it/s]"
     ]
    },
    {
     "name": "stdout",
     "output_type": "stream",
     "text": [
      "success_num: 10 ; try_num: 10\n",
      "success_num: 10 ; try_num: 10\n",
      "success_num: 10 ; try_num: 10\n",
      "success_num: 10 ; try_num: 10\n",
      "success_num: 10 ; try_num: 10\n",
      "success_num: 10 ; try_num: 10\n"
     ]
    },
    {
     "name": "stderr",
     "output_type": "stream",
     "text": [
      "181it [01:09,  2.97it/s]"
     ]
    },
    {
     "name": "stdout",
     "output_type": "stream",
     "text": [
      "success_num: 10 ; try_num: 10\n",
      "success_num: 10 ; try_num: 10\n",
      "success_num: 10 ; try_num: 10\n",
      "success_num: 10 ; try_num: 10\n"
     ]
    },
    {
     "name": "stderr",
     "output_type": "stream",
     "text": [
      "188it [01:11,  3.42it/s]"
     ]
    },
    {
     "name": "stdout",
     "output_type": "stream",
     "text": [
      "success_num: 10 ; try_num: 10\n"
     ]
    },
    {
     "name": "stderr",
     "output_type": "stream",
     "text": [
      "192it [01:11,  2.69it/s]"
     ]
    },
    {
     "name": "stdout",
     "output_type": "stream",
     "text": [
      "test.lmdb process 192 lines\n"
     ]
    },
    {
     "name": "stderr",
     "output_type": "stream",
     "text": [
      "\n"
     ]
    }
   ],
   "source": [
    "\n",
    "def smi2_2Dcoords(smi):\n",
    "    mol = Chem.MolFromSmiles(smi)\n",
    "    mol = AllChem.AddHs(mol)\n",
    "    AllChem.Compute2DCoords(mol)\n",
    "    coordinates = mol.GetConformer().GetPositions().astype(np.float32)\n",
    "    len(mol.GetAtoms()) == len(coordinates), \"2D coordinates shape is not align with {}\".format(smi)\n",
    "    return coordinates\n",
    "\n",
    "\n",
    "def smi2_3Dcoords(smi,cnt):\n",
    "    mol = Chem.MolFromSmiles(smi)\n",
    "    mol = AllChem.AddHs(mol)\n",
    "    coordinate_list=[]\n",
    "    seed  = 0\n",
    "    success_num = 0\n",
    "    try_num = 0\n",
    "    MAX_TRY = 50\n",
    "    ps = AllChem.ETKDGv3()\n",
    "    ps.maxIterations = 5000\n",
    "    \n",
    "    ps_fast = AllChem.ETKDGv3()\n",
    "    \n",
    "    \n",
    "    while success_num < cnt and try_num < MAX_TRY:\n",
    "        seed = try_num\n",
    "        try_num += 1\n",
    "\n",
    "        ps.randomSeed = seed        \n",
    "        ps_fast.randomSeed = seed\n",
    "\n",
    "        try:\n",
    "            res = AllChem.EmbedMolecule(mol, ps_fast)  # will random generate conformer with seed equal to -1. else fixed random seed.\n",
    "            if res == 0:\n",
    "                try:\n",
    "                    AllChem.MMFFOptimizeMolecule(mol)       # some conformer can not use MMFF optimize\n",
    "                    coordinates = mol.GetConformer().GetPositions()\n",
    "                except:\n",
    "                    continue\n",
    "                    # print(\"Failed to generate 3D, replace with 2D\")\n",
    "                    # coordinates = smi2_2Dcoords(smi)            \n",
    "                    \n",
    "            elif res == -1:\n",
    "                mol_tmp = Chem.MolFromSmiles(smi)\n",
    "                AllChem.EmbedMolecule(mol_tmp, ps)\n",
    "                mol_tmp = AllChem.AddHs(mol_tmp, addCoords=True)\n",
    "                try:\n",
    "                    AllChem.MMFFOptimizeMolecule(mol_tmp)       # some conformer can not use MMFF optimize\n",
    "                    coordinates = mol_tmp.GetConformer().GetPositions()\n",
    "                except:\n",
    "                    continue\n",
    "                    # print(\"Failed to generate 3D, replace with 2D\")\n",
    "                    # coordinates = smi2_2Dcoords(smi) \n",
    "        except:\n",
    "            continue\n",
    "            print(\"Failed to generate 3D, replace with 2D\")\n",
    "            # coordinates = smi2_2Dcoords(smi) \n",
    "\n",
    "        assert len(mol.GetAtoms()) == len(coordinates), \"3D coordinates shape is not align with {}\".format(smi)\n",
    "        coordinate_list.append(coordinates.astype(np.float32))\n",
    "        success_num += 1\n",
    "    if success_num < cnt:\n",
    "        print(\"failed to generate 3D coordinates for\",smi, \"use 2D coordinates instead\")\n",
    "        for _ in range(cnt - success_num):\n",
    "            coordinate_list.append(smi2_2Dcoords(smi).astype(np.float32))\n",
    "    print(\"success_num:\",success_num, \"; try_num:\",try_num)\n",
    "    return coordinate_list\n",
    "\n",
    "\n",
    "def inner_smi2coords(content):\n",
    "    smi = content[0]\n",
    "    target = content[1:]\n",
    "    cnt = 10 # conformer num,all==11, 10 3d + 1 2d\n",
    "\n",
    "    mol = Chem.MolFromSmiles(smi)\n",
    "    if len(mol.GetAtoms()) > 400:\n",
    "        coordinate_list =  [smi2_2Dcoords(smi)] * (cnt+1)\n",
    "        print(\"atom num >400,use 2D coords\",smi)\n",
    "    else:\n",
    "        coordinate_list = smi2_3Dcoords(smi,cnt)\n",
    "        coordinate_list.append(smi2_2Dcoords(smi).astype(np.float32))\n",
    "    mol = AllChem.AddHs(mol)\n",
    "    atoms = [atom.GetSymbol() for atom in mol.GetAtoms()]  # after add H \n",
    "    return pickle.dumps({'atoms': atoms, \n",
    "    'coordinates': coordinate_list, \n",
    "    'mol':mol,'smi': smi, 'target': target}, protocol=-1)\n",
    "\n",
    "\n",
    "def smi2coords(content):\n",
    "    try:\n",
    "        return inner_smi2coords(content)\n",
    "    except:\n",
    "        print(\"failed smiles: {}\".format(content[0]))\n",
    "        return None\n",
    "\n",
    "\n",
    "def write_lmdb(inpath='./', outpath='./', nthreads=16):\n",
    "\n",
    "    df = pd.read_csv(os.path.join(inpath))\n",
    "    mol_col = \"mol\"\n",
    "    target_col = \"RLU (log2)\"\n",
    "    df = df[[mol_col, target_col]]\n",
    "    sz = len(df)\n",
    "    train, valid, test = df[:int(sz*0.8)], df[int(sz*0.8):int(sz*0.9)], df[int(sz*0.9):]\n",
    "    # train, valid, test = df[:int(sz*0.9)], df[int(sz*0.9):int(sz)], df[int(sz):]\n",
    "    for name, content_list in [\n",
    "        ('train.lmdb', zip(*[train[c].values.tolist() for c in train])),\n",
    "                                ('valid.lmdb', zip(*[valid[c].values.tolist() for c in valid])),\n",
    "                                ('test.lmdb', zip(*[test[c].values.tolist() for c in test]))]:\n",
    "        os.makedirs(outpath, exist_ok=True)\n",
    "        output_name = os.path.join(outpath, name)\n",
    "        try:\n",
    "            os.remove(output_name)\n",
    "        except:\n",
    "            pass\n",
    "        env_new = lmdb.open(\n",
    "            output_name,\n",
    "            subdir=False,\n",
    "            readonly=False,\n",
    "            lock=False,\n",
    "            readahead=False,\n",
    "            meminit=False,\n",
    "            max_readers=1,\n",
    "            map_size=int(100e9),\n",
    "        )\n",
    "        txn_write = env_new.begin(write=True)\n",
    "        with Pool(nthreads) as pool:\n",
    "            i = 0\n",
    "            for inner_output in tqdm(pool.imap(smi2coords, content_list)):\n",
    "                if inner_output is not None:\n",
    "                    txn_write.put(f'{i}'.encode(\"ascii\"), inner_output)\n",
    "                    i += 1\n",
    "            print('{} process {} lines'.format(name, i))\n",
    "            txn_write.commit()\n",
    "            env_new.close()\n",
    "\n",
    "write_lmdb(inpath='/home/pangkuan/dev/SDL-LNP/model/4CR-1920.csv', outpath='./4CR_customized', nthreads=12)"
   ]
  }
 ],
 "metadata": {
  "kernelspec": {
   "display_name": "unimol",
   "language": "python",
   "name": "python3"
  },
  "language_info": {
   "codemirror_mode": {
    "name": "ipython",
    "version": 3
   },
   "file_extension": ".py",
   "mimetype": "text/x-python",
   "name": "python",
   "nbconvert_exporter": "python",
   "pygments_lexer": "ipython3",
   "version": "3.9.13"
  }
 },
 "nbformat": 4,
 "nbformat_minor": 2
}
