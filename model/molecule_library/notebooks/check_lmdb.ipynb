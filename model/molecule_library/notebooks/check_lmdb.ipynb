{
 "cells": [
  {
   "cell_type": "code",
   "execution_count": 1,
   "metadata": {},
   "outputs": [],
   "source": [
    "import pandas\n",
    "from unicore.data import LMDBDataset\n",
    "import pickle\n",
    "# progress bar\n",
    "from tqdm import tqdm\n"
   ]
  },
  {
   "cell_type": "code",
   "execution_count": 2,
   "metadata": {},
   "outputs": [
    {
     "name": "stdout",
     "output_type": "stream",
     "text": [
      "Loaded 2346505 rows from /scratch/ssd004/datasets/cellxgene/3d_molecule_data/chembl/original_data/chembl_34_molecular_property.csv\n",
      "Overlap: 9966\n"
     ]
    }
   ],
   "source": [
    "FULL_CSV_PATH = \"/scratch/ssd004/datasets/cellxgene/3d_molecule_data/chembl/original_data/chembl_34_molecular_property.csv\"\n",
    "TRAIN_CSV_PATH = \"/scratch/ssd004/datasets/cellxgene/3d_molecule_data/chembl/conformation/train.csv\"\n",
    "VALID_CSV_PATH = \"/scratch/ssd004/datasets/cellxgene/3d_molecule_data/chembl/conformation/valid.csv\"\n",
    "\n",
    "VALID_LMDB_PATH = \"/scratch/ssd004/datasets/cellxgene/3d_molecule_data/cleaned_ligands/valid.lmdb\"\n",
    "\n",
    "# load data\n",
    "full_data = pandas.read_csv(FULL_CSV_PATH)\n",
    "print(f\"Loaded {len(full_data)} rows from {FULL_CSV_PATH}\")\n",
    "\n",
    "# get all smiles in this lmdb\n",
    "valid_dataset = LMDBDataset(VALID_LMDB_PATH)\n",
    "valid_smiles = set([row[\"smi\"] for row in valid_dataset])\n",
    "\n",
    "# get the overlap between valid and full\n",
    "overlap = valid_smiles.intersection(set(full_data[\"smiles\"]))\n",
    "print(f\"Overlap: {len(overlap)}\")\n",
    "\n",
    "# save it to a new csv\n",
    "valid_data = full_data[full_data[\"smiles\"].isin(overlap)]\n",
    "train_data = full_data[~full_data[\"smiles\"].isin(overlap)]"
   ]
  },
  {
   "cell_type": "code",
   "execution_count": 3,
   "metadata": {},
   "outputs": [
    {
     "data": {
      "text/plain": [
       "0               Cc1cc(-n2ncc(=O)[nH]c2=O)ccc1C(=O)c1ccccc1Cl\n",
       "1            Cc1cc(-n2ncc(=O)[nH]c2=O)ccc1C(=O)c1ccc(C#N)cc1\n",
       "2           Cc1cc(-n2ncc(=O)[nH]c2=O)cc(C)c1C(O)c1ccc(Cl)cc1\n",
       "3               Cc1ccc(C(=O)c2ccc(-n3ncc(=O)[nH]c3=O)cc2)cc1\n",
       "4             Cc1cc(-n2ncc(=O)[nH]c2=O)ccc1C(=O)c1ccc(Cl)cc1\n",
       "                                 ...                        \n",
       "2346500                  CN1C(=O)C(=Cc2ccccc2O)C(=O)N(C)C1=O\n",
       "2346501         COc1ccc(-c2nc(NCCN3CCOCC3)c3cc(OC)ccc3n2)cc1\n",
       "2346502    C[C@@H]1[C@@H](C)[C@H](C)O[C@@H](O[C@@H]2[C@@H...\n",
       "2346503    C[C@@H]1CN(c2ccncc2NC(=O)c2ccnn3cc(-c4ccccc4)n...\n",
       "2346504                   Nc1cc(-c2ccc(Oc3ccc(Cl)cc3)cc2)cs1\n",
       "Name: smiles, Length: 2336539, dtype: object"
      ]
     },
     "execution_count": 3,
     "metadata": {},
     "output_type": "execute_result"
    }
   ],
   "source": [
    "train_data[\"smiles\"]"
   ]
  },
  {
   "cell_type": "code",
   "execution_count": 4,
   "metadata": {},
   "outputs": [
    {
     "name": "stdout",
     "output_type": "stream",
     "text": [
      "True\n"
     ]
    }
   ],
   "source": [
    "# check if smi is in train_data[\"smiles\"]\n",
    "smi = \"c1coc([C@H](CNc2cncc3nnnn23)N2CCCC2)c1\"\n",
    "print(smi in train_data[\"smiles\"].values)"
   ]
  },
  {
   "cell_type": "code",
   "execution_count": 5,
   "metadata": {},
   "outputs": [],
   "source": [
    "smi2idx_map_train = pickle.load(open(\"/scratch/ssd004/datasets/cellxgene/3d_molecule_data/weak-supervision/train.pkl\", \"rb\"))\n",
    "smi2idx_map_valid = pickle.load(open(\"/scratch/ssd004/datasets/cellxgene/3d_molecule_data/weak-supervision/valid.pkl\", \"rb\"))"
   ]
  },
  {
   "cell_type": "code",
   "execution_count": 6,
   "metadata": {},
   "outputs": [],
   "source": [
    "ligand_train_data_path = \"/scratch/ssd004/datasets/cellxgene/3d_molecule_data/cleaned_ligands/train.lmdb\"\n",
    "\n",
    "ligand_lmdb_data = LMDBDataset(ligand_train_data_path)"
   ]
  },
  {
   "cell_type": "code",
   "execution_count": 1,
   "metadata": {},
   "outputs": [
    {
     "data": {
      "text/plain": [
       "'CC1=C(C)C(=O)OC1=O'"
      ]
     },
     "execution_count": 1,
     "metadata": {},
     "output_type": "execute_result"
    }
   ],
   "source": [
    "# smi_org = train_data[\"smiles\"].values[0]\n",
    "# smi_org = \"C[C@@H]1C(=O)[C@H]2C[C@]1(O)CC1=C2[C@]2(C)CCC[C@@](C)(CO)[C@H]2CC1\"\n",
    "smi_org = \"CC1=C(C)C(=O)OC1=O\"\n",
    "smi_org"
   ]
  },
  {
   "cell_type": "code",
   "execution_count": 2,
   "metadata": {},
   "outputs": [
    {
     "data": {
      "image/png": "[encoded data removed]",
      "text/plain": [
       "<rdkit.Chem.rdchem.Mol at 0x7fc158927ba0>"
      ]
     },
     "execution_count": 2,
     "metadata": {},
     "output_type": "execute_result"
    }
   ],
   "source": [
    "import rdkit\n",
    "mol = rdkit.Chem.MolFromSmiles(smi_org)\n",
    "mol"
   ]
  },
  {
   "cell_type": "code",
   "execution_count": 3,
   "metadata": {},
   "outputs": [
    {
     "data": {
      "text/plain": [
       "'CC1=C(C)C(=O)OC1=O'"
      ]
     },
     "execution_count": 3,
     "metadata": {},
     "output_type": "execute_result"
    }
   ],
   "source": [
    "# get smi from mol\n",
    "smi = rdkit.Chem.MolToSmiles(mol)\n",
    "smi"
   ]
  },
  {
   "cell_type": "code",
   "execution_count": 4,
   "metadata": {},
   "outputs": [
    {
     "data": {
      "text/plain": [
       "True"
      ]
     },
     "execution_count": 4,
     "metadata": {},
     "output_type": "execute_result"
    }
   ],
   "source": [
    "smi == smi_org"
   ]
  },
  {
   "cell_type": "code",
   "execution_count": 5,
   "metadata": {},
   "outputs": [
    {
     "ename": "NameError",
     "evalue": "name 'smi2idx_map_train' is not defined",
     "output_type": "error",
     "traceback": [
      "\u001b[0;31m---------------------------------------------------------------------------\u001b[0m",
      "\u001b[0;31mNameError\u001b[0m                                 Traceback (most recent call last)",
      "Cell \u001b[0;32mIn[5], line 2\u001b[0m\n\u001b[1;32m      1\u001b[0m \u001b[38;5;66;03m# print the later 10 rows of smi2idx_map_train\u001b[39;00m\n\u001b[0;32m----> 2\u001b[0m \u001b[38;5;28;01mfor\u001b[39;00m smi, idx \u001b[38;5;129;01min\u001b[39;00m \u001b[38;5;28mlist\u001b[39m(\u001b[43msmi2idx_map_train\u001b[49m\u001b[38;5;241m.\u001b[39mitems())[\u001b[38;5;241m-\u001b[39m\u001b[38;5;241m10\u001b[39m:]:\n\u001b[1;32m      3\u001b[0m     \u001b[38;5;28mprint\u001b[39m(\u001b[38;5;124mf\u001b[39m\u001b[38;5;124m\"\u001b[39m\u001b[38;5;132;01m{\u001b[39;00msmi\u001b[38;5;132;01m}\u001b[39;00m\u001b[38;5;124m: \u001b[39m\u001b[38;5;132;01m{\u001b[39;00midx\u001b[38;5;132;01m}\u001b[39;00m\u001b[38;5;124m\"\u001b[39m)\n",
      "\u001b[0;31mNameError\u001b[0m: name 'smi2idx_map_train' is not defined"
     ]
    }
   ],
   "source": [
    "# print the later 10 rows of smi2idx_map_train\n",
    "for smi, idx in list(smi2idx_map_train.items())[-10:]:\n",
    "    print(f\"{smi}: {idx}\")"
   ]
  },
  {
   "cell_type": "code",
   "execution_count": null,
   "metadata": {},
   "outputs": [
    {
     "data": {
      "text/plain": [
       "True"
      ]
     },
     "execution_count": 22,
     "metadata": {},
     "output_type": "execute_result"
    }
   ],
   "source": [
    "smi in smi2idx_map_train"
   ]
  },
  {
   "cell_type": "code",
   "execution_count": null,
   "metadata": {},
   "outputs": [
    {
     "data": {
      "text/plain": [
       "False"
      ]
     },
     "execution_count": 21,
     "metadata": {},
     "output_type": "execute_result"
    }
   ],
   "source": [
    "smi in smi2idx_map_valid"
   ]
  },
  {
   "cell_type": "code",
   "execution_count": null,
   "metadata": {},
   "outputs": [
    {
     "name": "stderr",
     "output_type": "stream",
     "text": [
      "100%|██████████| 13270476/13270476 [12:14<00:00, 18067.96it/s]\n"
     ]
    }
   ],
   "source": [
    "# iterate over the ligand_lmdb_data and check if the smi is in the it\n",
    "for row in tqdm(ligand_lmdb_data):\n",
    "    if row[\"smi\"] == smi:\n",
    "        print(row)\n",
    "        break"
   ]
  },
  {
   "cell_type": "code",
   "execution_count": null,
   "metadata": {},
   "outputs": [
    {
     "name": "stderr",
     "output_type": "stream",
     "text": [
      "100%|██████████| 874343/874343 [01:46<00:00, 8186.36it/s]\n"
     ]
    }
   ],
   "source": [
    "chembl_train_data_path = \"/scratch/ssd004/datasets/cellxgene/3d_molecule_data/chembl/conformation/train.lmdb\"\n",
    "chembl_lmdb_data = LMDBDataset(chembl_train_data_path)\n",
    "\n",
    "# iterate over the ligand_lmdb_data and check if the smi is in the it\n",
    "for row in tqdm(chembl_lmdb_data):\n",
    "    entry = row[\"smi\"]\n",
    "    # remove /n\n",
    "    entry = entry.replace(\"\\n\", \"\")\n",
    "    if entry == smi:\n",
    "        print(row)\n",
    "        break"
   ]
  },
  {
   "cell_type": "code",
   "execution_count": null,
   "metadata": {},
   "outputs": [
    {
     "name": "stderr",
     "output_type": "stream",
     "text": [
      "100%|██████████| 98844/98844 [00:05<00:00, 18832.68it/s]\n"
     ]
    }
   ],
   "source": [
    "ligand_valid_data_path = \"/scratch/ssd004/datasets/cellxgene/3d_molecule_data/cleaned_ligands/valid.lmdb\"\n",
    "ligand_valid_lmdb_data = LMDBDataset(ligand_valid_data_path)\n",
    "for row in tqdm(ligand_valid_lmdb_data):\n",
    "    if row[\"smi\"] == smi:\n",
    "        print(row)\n",
    "        break\n"
   ]
  }
 ],
 "metadata": {
  "kernelspec": {
   "display_name": "unimol",
   "language": "python",
   "name": "python3"
  },
  "language_info": {
   "codemirror_mode": {
    "name": "ipython",
    "version": 3
   },
   "file_extension": ".py",
   "mimetype": "text/x-python",
   "name": "python",
   "nbconvert_exporter": "python",
   "pygments_lexer": "ipython3",
   "version": "3.9.13"
  }
 },
 "nbformat": 4,
 "nbformat_minor": 2
}
