{
 "cells": [
  {
   "cell_type": "code",
   "execution_count": 4,
   "metadata": {},
   "outputs": [],
   "source": [
    "import pickle\n",
    "import torch"
   ]
  },
  {
   "cell_type": "code",
   "execution_count": 5,
   "metadata": {},
   "outputs": [],
   "source": [
    "def cleanup_info(module_path):\n",
    "    with open(module_path, 'rb') as f:\n",
    "        module = torch.load(f)\n",
    "    # rm all expcept for the model\n",
    "    module = {k: v for k, v in module.items() if k == 'model'}\n",
    "    torch.save(module, module_path)\n",
    "    "
   ]
  },
  {
   "cell_type": "code",
   "execution_count": 6,
   "metadata": {},
   "outputs": [],
   "source": [
    "module_path = \"/home/sdl/3d_molecule_save/baseline/pretrain-a100-contrastive-l1e-4-w10.0/checkpoint_best.pt\"\n",
    "cleanup_info(module_path)"
   ]
  }
 ],
 "metadata": {
  "kernelspec": {
   "display_name": "unimol",
   "language": "python",
   "name": "python3"
  },
  "language_info": {
   "codemirror_mode": {
    "name": "ipython",
    "version": 3
   },
   "file_extension": ".py",
   "mimetype": "text/x-python",
   "name": "python",
   "nbconvert_exporter": "python",
   "pygments_lexer": "ipython3",
   "version": "3.9.13"
  }
 },
 "nbformat": 4,
 "nbformat_minor": 2
}
