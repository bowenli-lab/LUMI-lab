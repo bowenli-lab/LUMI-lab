{
 "cells": [
  {
   "cell_type": "code",
   "execution_count": null,
   "metadata": {},
   "outputs": [],
   "source": [
    "import os\n",
    "import lmdb\n",
    "import pickle\n",
    "import time\n",
    "import pandas as pd\n",
    "import numpy as np\n",
    "from rdkit import Chem\n",
    "from tqdm import tqdm\n",
    "from rdkit.Chem import AllChem\n",
    "from rdkit import RDLogger\n",
    "RDLogger.DisableLog('rdApp.*')  \n",
    "import warnings\n",
    "warnings.filterwarnings(action='ignore')\n"
   ]
  },
  {
   "cell_type": "code",
   "execution_count": null,
   "metadata": {},
   "outputs": [],
   "source": [
    "date_str = time.strftime(\"%m%d-%y\", time.localtime())\n",
    "\n",
    "data_path='./'  # replace to your data path\n",
    "save_dir=f\"./save_4CR_{date_str}\"  # replace to your save path\n",
    "MASTER_PORT=10086\n",
    "n_gpu=1\n",
    "dict_name='dict.txt'\n",
    "# weight_path='./weights/mol_pre_no_h_220816.pt'  # replace to your ckpt path, 0.81 when using unimol layers\n",
    "# weight_path='/fs01/datasets/cellxgene/3d_molecule_save/pretrain-20240502-2040/checkpoint_best.pt'  # on 12 hour training, 0.75 when using unimol layers; 15h 0.77 on a100; 0.72 using pytorch layernorm; 18h 0.80 on a100\n",
    "weight_path=\"/home/pangkuan/dev/SDL-LNP/model/evaluation/notebooks/model_weight/mol_pre_no_h_220816.pt\"  # on 15 hour training, 0.82 when using unimol layers; 18h 0.84 on a100; 21h 0.82 on a100; 0.84 using pytorch softmax\n",
    "# weight_path = \"/home/pangkuan/dev/SDL-LNP/model/evaluation/notebooks/model_weight/customized_model/checkpoint_best.pt\"\n",
    "# weight_path='/fs01/datasets/cellxgene/3d_molecule_save/pretrain-20240503-2035/checkpoint_best.pt'\n",
    "# task_name='4CR'  # data folder name\n",
    "task_name=\"4CR_customized\"\n",
    "task_num=1\n",
    "loss_func='finetune_mse'\n",
    "lr=1e-4\n",
    "batch_size=64\n",
    "epoch=60\n",
    "dropout=0.0\n",
    "warmup=0.06 # 0.06\n",
    "local_batch_size=64\n",
    "only_polar=0 # -1 all h; 0 no h\n",
    "conf_size=11\n",
    "seed=0\n",
    "metric=\"valid_agg_rmse\"\n",
    "update_freq=batch_size / local_batch_size\n",
    "results_path=f\"./infer_4CR_{date_str}\"  # replace to your results path\n",
    "weight_path=f\"./save_4CR_{date_str}/checkpoint_best.pt\"  # replace to your ckpt path\n",
    "# batch_size=64\n",
    "# task_name='4CR' # data folder name \n",
    "# task_num=1\n",
    "# loss_func='finetune_mse'\n",
    "# dict_name='dict.txt'\n",
    "# conf_size=11\n",
    "# only_polar=0\n",
    "\n",
    "!cp ../example_data/molecule/$dict_name $data_path\n",
    "!CUDA_VISIBLE_DEVICES=\"0\" python ../unimol/infer.py --user-dir ../unimol $data_path --task-name $task_name --valid-subset test \\\n",
    "       --results-path $results_path \\\n",
    "       --num-workers 6 --ddp-backend=c10d --batch-size $batch_size \\\n",
    "       --task mol_finetune --loss $loss_func --arch unimol_base \\\n",
    "       --classification-head-name $task_name --num-classes $task_num \\\n",
    "       --dict-name $dict_name --conf-size $conf_size \\\n",
    "       --only-polar $only_polar  \\\n",
    "       --path $weight_path  \\\n",
    "       --fp16 --fp16-init-scale 4 --fp16-scale-window 256 \\\n",
    "       --log-interval 50 --log-format simple "
   ]
  }
 ],
 "metadata": {
  "kernelspec": {
   "display_name": "unimol",
   "language": "python",
   "name": "python3"
  },
  "language_info": {
   "name": "python",
   "version": "3.9.13"
  }
 },
 "nbformat": 4,
 "nbformat_minor": 2
}
