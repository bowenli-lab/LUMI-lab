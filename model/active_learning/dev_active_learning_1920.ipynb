{
 "cells": [
  {
   "cell_type": "code",
   "execution_count": 3,
   "metadata": {},
   "outputs": [
    {
     "name": "stdout",
     "output_type": "stream",
     "text": [
      "The autoreload extension is already loaded. To reload it, use:\n",
      "  %reload_ext autoreload\n"
     ]
    }
   ],
   "source": [
    "%load_ext autoreload\n",
    "%autoreload 2\n"
   ]
  },
  {
   "cell_type": "code",
   "execution_count": 4,
   "metadata": {},
   "outputs": [],
   "source": [
    "\n",
    "from datasets import Dataset, concatenate_datasets  \n",
    "import sys\n",
    "sys.path.insert(0, \"/home/sdl/SDL-LNP/model\")\n",
    "import random \n",
    "from unimol.lmdb_dataset import collate_fn, load_dataset, compute_hash2smi\n",
    "from unimol.hf_unimol import UniMol, UniMolConfig, init_unimol_backbone\n",
    "\n",
    "\n",
    "dict_path = \"/home/sdl/SDL-LNP/model/evaluation/notebooks/dict.txt\"\n",
    "weight_path = \"/home/sdl/3d_molecule_save/baseline/sdl-proj-head-ckpt-2/checkpoint_last.pt\""
   ]
  },
  {
   "cell_type": "code",
   "execution_count": 5,
   "metadata": {},
   "outputs": [
    {
     "name": "stdout",
     "output_type": "stream",
     "text": [
      "Unimol backbone got unkonwn args:  ['--f=/home/sdl/.local/share/jupyter/runtime/kernel-v2-267723905K3JzIFiGAT.json']\n",
      "Model loaded\n",
      "Loading dataset, selecting top 11 conformers.\n",
      "Loading dataset, selecting top 11 conformers.\n",
      "Loading dataset, selecting top 11 conformers.\n"
     ]
    }
   ],
   "source": [
    "model_backbone, dictionary = init_unimol_backbone(weight_path, dict_path=dict_path)\n",
    "\n",
    "topk_conformer = 11\n",
    "lmdb_dir = \"/home/sdl/vector_cellxgene_data/1920-lib\"\n",
    "train_data = load_dataset(\n",
    "    dictionary,\n",
    "    str(lmdb_dir + \"/\" + \"train.lmdb\"),\n",
    "    \"train\",\n",
    "    topk_conformer=topk_conformer,\n",
    ")\n",
    "valid_data = load_dataset(\n",
    "    dictionary,\n",
    "    str(lmdb_dir + \"/\" + \"valid.lmdb\"),\n",
    "    \"valid\",\n",
    "    topk_conformer=topk_conformer,\n",
    ")\n",
    "test_data = load_dataset(\n",
    "    dictionary,\n",
    "    str(lmdb_dir + \"/\" + \"test.lmdb\"),\n",
    "    \"test\",\n",
    "    topk_conformer=topk_conformer,\n",
    ")\n",
    "\n",
    "\n",
    "hf_train_data = Dataset.from_generator(\n",
    "    lambda: train_data,\n",
    ")\n",
    "\n",
    "hf_valid_data = Dataset.from_generator(\n",
    "    lambda: valid_data,\n",
    ")\n",
    "\n",
    "hf_test_data = Dataset.from_generator(\n",
    "    lambda: test_data,\n",
    ")\n",
    "combined_data = concatenate_datasets([hf_train_data, hf_valid_data, hf_test_data])"
   ]
  },
  {
   "cell_type": "code",
   "execution_count": 6,
   "metadata": {},
   "outputs": [
    {
     "data": {
      "text/plain": [
       "21120"
      ]
     },
     "execution_count": 6,
     "metadata": {},
     "output_type": "execute_result"
    }
   ],
   "source": [
    "len(combined_data)"
   ]
  },
  {
   "cell_type": "code",
   "execution_count": 13,
   "metadata": {},
   "outputs": [
    {
     "data": {
      "text/plain": [
       "[1,\n",
       " 4,\n",
       " 4,\n",
       " 4,\n",
       " 4,\n",
       " 4,\n",
       " 4,\n",
       " 4,\n",
       " 4,\n",
       " 4,\n",
       " 4,\n",
       " 4,\n",
       " 4,\n",
       " 6,\n",
       " 6,\n",
       " 4,\n",
       " 4,\n",
       " 4,\n",
       " 4,\n",
       " 4,\n",
       " 5,\n",
       " 4,\n",
       " 4,\n",
       " 6,\n",
       " 5,\n",
       " 4,\n",
       " 4,\n",
       " 4,\n",
       " 4,\n",
       " 4,\n",
       " 4,\n",
       " 4,\n",
       " 4,\n",
       " 4,\n",
       " 4,\n",
       " 5,\n",
       " 5,\n",
       " 4,\n",
       " 4,\n",
       " 6,\n",
       " 4,\n",
       " 4,\n",
       " 4,\n",
       " 4,\n",
       " 4,\n",
       " 4,\n",
       " 4,\n",
       " 4,\n",
       " 4,\n",
       " 4,\n",
       " 4,\n",
       " 4,\n",
       " 4,\n",
       " 4,\n",
       " 4,\n",
       " 2]"
      ]
     },
     "execution_count": 13,
     "metadata": {},
     "output_type": "execute_result"
    }
   ],
   "source": [
    "hf_test_data[1]['src_tokens']"
   ]
  },
  {
   "cell_type": "code",
   "execution_count": 72,
   "metadata": {},
   "outputs": [],
   "source": [
    "from core.data_manager import DataManager\n",
    "\n",
    "# total 1920 data\n",
    "all_indices = list(range(0, 1920))\n",
    "\n",
    "# randomly select 1728 data for training\n",
    "random.shuffle(all_indices)\n",
    "train_indices = all_indices[:1728]\n",
    "test_indices = all_indices[1728:]\n",
    "\n",
    "\n",
    "data_manager = DataManager(\n",
    "    combined_data,\n",
    "    train_indices = train_indices,\n",
    "    test_indices = test_indices,\n",
    "    # label_attr = \"target\",\n",
    "    labelled_indices=[]\n",
    ")"
   ]
  },
  {
   "cell_type": "code",
   "execution_count": 73,
   "metadata": {},
   "outputs": [
    {
     "data": {
      "text/plain": [
       "Dataset({\n",
       "    features: ['src_tokens', 'src_coord', 'src_distance', 'src_edge_type', 'target', 'smi_name', 'smi_string'],\n",
       "    num_rows: 19008\n",
       "})"
      ]
     },
     "execution_count": 73,
     "metadata": {},
     "output_type": "execute_result"
    }
   ],
   "source": [
    "data_manager.get_unlabelled_set()"
   ]
  },
  {
   "cell_type": "code",
   "execution_count": 74,
   "metadata": {},
   "outputs": [
    {
     "name": "stdout",
     "output_type": "stream",
     "text": [
      "DataManager\n",
      "Training set size: 1728 molecules (19008 conformers).\n",
      "Labelled: 0, Unlabelled: 1728\n",
      "Percentage Labelled: 0.000\n"
     ]
    }
   ],
   "source": [
    "print(data_manager)"
   ]
  },
  {
   "cell_type": "code",
   "execution_count": 75,
   "metadata": {},
   "outputs": [],
   "source": [
    "from core.oracle import BenchmarkOracle\n",
    "\n",
    "benchmark_oracle = BenchmarkOracle()\n"
   ]
  },
  {
   "cell_type": "code",
   "execution_count": 77,
   "metadata": {},
   "outputs": [
    {
     "data": {
      "text/plain": [
       "1.038636849"
      ]
     },
     "execution_count": 77,
     "metadata": {},
     "output_type": "execute_result"
    }
   ],
   "source": [
    "benchmark_oracle.query_target_value(data_manager, 1)"
   ]
  }
 ],
 "metadata": {
  "kernelspec": {
   "display_name": "unimol",
   "language": "python",
   "name": "python3"
  },
  "language_info": {
   "codemirror_mode": {
    "name": "ipython",
    "version": 3
   },
   "file_extension": ".py",
   "mimetype": "text/x-python",
   "name": "python",
   "nbconvert_exporter": "python",
   "pygments_lexer": "ipython3",
   "version": "3.9.13"
  }
 },
 "nbformat": 4,
 "nbformat_minor": 2
}
