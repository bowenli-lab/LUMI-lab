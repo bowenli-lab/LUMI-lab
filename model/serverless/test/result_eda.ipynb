{
 "cells": [
  {
   "cell_type": "code",
   "execution_count": 1,
   "metadata": {},
   "outputs": [],
   "source": [
    "import pickle"
   ]
  },
  {
   "cell_type": "code",
   "execution_count": 2,
   "metadata": {},
   "outputs": [],
   "source": [
    "with open('./final_result_dict_list.pkl', 'rb') as f:\n",
    "    data = pickle.load(f)"
   ]
  },
  {
   "cell_type": "code",
   "execution_count": 3,
   "metadata": {},
   "outputs": [
    {
     "name": "stdout",
     "output_type": "stream",
     "text": [
      "5 C=CCCCCCCCCC(C(=O)NCC(=O)OCC)N(C(=O)CCCCC(=O)OCCCCCCCCCCC)C1CCC(N(C)C)CC1 3.08252477645874\n",
      "5 C=CCCCCCCCCC(C(=O)NCC(=O)OCC)N(C(=O)CCCCC(=O)OCCCCCCCCCCC)C1CCC(N(C)C)CC1 3.08252477645874\n",
      "5 C=CCCCCCCCCC(C(=O)NCC(=O)OCC)N(C(=O)CCCCC(=O)OCCCCCCCCCCC)C1CCC(N(C)C)CC1 3.5357706546783447\n",
      "5 C=CCCCCCCCCC(C(=O)NCC(=O)OCC)N(C(=O)CCCCC(=O)OCCCCCCCCCCC)C1CCC(N(C)C)CC1 3.979429006576538\n",
      "5 C=CCCCCCCCCC(C(=O)NCC(=O)OCC)N(C(=O)CCCCC(=O)OCCCCCCCCCCC)C1CCC(N(C)C)CC1 3.2505791187286377\n",
      "5 C=CCCCCCCCCC(C(=O)NCC(=O)OCC)N(C(=O)CCCCC(=O)OCCCCCCCCCCC)C1CCC(N(C)C)CC1 2.1518983840942383\n",
      "5 C=CCCCCCCCCC(C(=O)NCC(=O)OCC)N(C(=O)CCCCC(=O)OCCCCCCCCCCC)C1CCC(N(C)C)CC1 3.759652376174927\n",
      "5 C=CCCCCCCCCC(C(=O)NCC(=O)OCC)N(C(=O)CCCCC(=O)OCCCCCCCCCCC)C1CCC(N(C)C)CC1 2.7226483821868896\n",
      "5 C=CCCCCCCCCC(C(=O)NCC(=O)OCC)N(C(=O)CCCCC(=O)OCCCCCCCCCCC)C1CCC(N(C)C)CC1 2.5050208568573\n",
      "5 C=CCCCCCCCCC(C(=O)NCC(=O)OCC)N(C(=O)CCCCC(=O)OCCCCCCCCCCC)C1CCC(N(C)C)CC1 3.34716272354126\n",
      "5 C=CCCCCCCCCC(C(=O)NCC(=O)OCC)N(C(=O)CCCCC(=O)OCCCCCCCCCCC)C1CCC(N(C)C)CC1 2.512864589691162\n",
      "11\n"
     ]
    }
   ],
   "source": [
    "string = \"C=CCCCCCCCCC(C(=O)NCC(=O)OCC)N(C(=O)CCCCC(=O)OCCCCCCCCCCC)C1CCC(N(C)C)CC1\"\n",
    "count = 0\n",
    "for idx, each_ in enumerate(data):\n",
    "    each = each_[\"smi_name\"]\n",
    "    res = each_[\"pred_result\"]\n",
    "    for key, value in each.items():\n",
    "        if value == string:\n",
    "            count += 1\n",
    "            print(idx, value, res[key])\n",
    "print(count)    \n"
   ]
  },
  {
   "cell_type": "code",
   "execution_count": 4,
   "metadata": {},
   "outputs": [
    {
     "ename": "KeyError",
     "evalue": "'smi_name'",
     "output_type": "error",
     "traceback": [
      "\u001b[0;31m---------------------------------------------------------------------------\u001b[0m",
      "\u001b[0;31mKeyError\u001b[0m                                  Traceback (most recent call last)",
      "Cell \u001b[0;32mIn[4], line 13\u001b[0m\n\u001b[1;32m     11\u001b[0m \u001b[38;5;28;01mfor\u001b[39;00m key, value \u001b[38;5;129;01min\u001b[39;00m txn\u001b[38;5;241m.\u001b[39mcursor():\n\u001b[1;32m     12\u001b[0m     value \u001b[38;5;241m=\u001b[39m pickle\u001b[38;5;241m.\u001b[39mloads(value)\n\u001b[0;32m---> 13\u001b[0m     smi_name_list\u001b[38;5;241m.\u001b[39mappend(\u001b[43mvalue\u001b[49m\u001b[43m[\u001b[49m\u001b[38;5;124;43m\"\u001b[39;49m\u001b[38;5;124;43msmi_name\u001b[39;49m\u001b[38;5;124;43m\"\u001b[39;49m\u001b[43m]\u001b[49m)\n",
      "\u001b[0;31mKeyError\u001b[0m: 'smi_name'"
     ]
    }
   ],
   "source": [
    "# iterate over the lmdb and count the number of times the string appears\n",
    "import lmdb\n",
    "\n",
    "LMDB_PATH = \"/home/sdl/vector_cellxgene_data/220k-lib/all-lmdb/test.lmdb\"\n",
    "\n",
    "env = lmdb.open(LMDB_PATH, readonly=True,subdir=False)\n",
    "\n",
    "smi_name_list = []\n",
    "count = 0\n",
    "with env.begin() as txn:\n",
    "    for key, value in txn.cursor():\n",
    "        value = pickle.loads(value)\n",
    "        smi_name_list.append(value[\"smi_name\"])"
   ]
  }
 ],
 "metadata": {
  "kernelspec": {
   "display_name": "unimol",
   "language": "python",
   "name": "python3"
  },
  "language_info": {
   "codemirror_mode": {
    "name": "ipython",
    "version": 3
   },
   "file_extension": ".py",
   "mimetype": "text/x-python",
   "name": "python",
   "nbconvert_exporter": "python",
   "pygments_lexer": "ipython3",
   "version": "3.9.13"
  }
 },
 "nbformat": 4,
 "nbformat_minor": 2
}
